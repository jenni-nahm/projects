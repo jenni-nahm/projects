{
    "metadata": {
        "kernelspec": {
            "name": "SQL",
            "display_name": "SQL",
            "language": "sql"
        },
        "language_info": {
            "name": "sql",
            "version": ""
        }
    },
    "nbformat_minor": 2,
    "nbformat": 4,
    "cells": [
        {
            "cell_type": "markdown",
            "source": [
                "FOLLOW THE BELOW INSTRUCTIONS:\n",
                "\n",
                "  \n",
                "\n",
                "Step 1: Create a database named ORES5160\\_Individual\\_Programming\\_Assignment1\n",
                "\n",
                "Step 2: Then in this .ipynb file, click on \"Attach to\".\n",
                "\n",
                "Step 3: Then Click on Change Connection.\n",
                "\n",
                "Step 4: Choose the appropriate server, and the database should point to ORES5160\\_Individual\\_Programming\\_Assignment1\n",
                "\n",
                "  \n",
                "\n",
                "Step 5: Please read the below text and run the below-given queries so that the appropriate tables and rows are inserted into the tables that are required to do the assignment given below after the code for the creation and insertion of tables."
            ],
            "metadata": {
                "azdata_cell_guid": "28a4b0a2-968d-4251-9825-e6da1aae88c7"
            },
            "attachments": {}
        },
        {
            "cell_type": "markdown",
            "source": [
                "<span style=\"color: rgb(0, 125, 184); font-family: &quot;Open Sans&quot;, Tahoma, Arial, sans-serif; font-size: 31.68px; background-color: rgb(255, 255, 255);\">Introduction to the Sports Physical Therapy Database Case</span>\n",
                "\n",
                "<span style=\"color: rgb(87, 87, 87); font-family: rooney-web, Cambria, &quot;Times New Roman&quot;, Times, serif; font-size: 18px; background-color: rgb(255, 255, 255);\">Sports Physical Therapy provides evaluation, treatment, and rehabilitation of all types of acute and chronic injuries for both athletes and non-athletes. The highly skilled, certified therapists use their background in biomechanics, sport mechanics, and clinical experience to provide one-on-one comprehensive rehabilitation for all types of injuries. The company stores information about its patients, therapists, therapies, and sessions.</span>\n",
                "\n",
                "<span style=\"color: rgb(87, 87, 87); font-family: rooney-web, Cambria, &quot;Times New Roman&quot;, Times, serif; font-size: 18px; background-color: rgb(255, 255, 255);\">In the Patient table</span><span style=\"color: rgb(87, 87, 87); font-family: rooney-web, Cambria, &quot;Times New Roman&quot;, Times, serif; font-size: 18px; background-color: rgb(255, 255, 255);\">, Sports Physical Therapy stores information about its patients. Each patient is identified by a unique, four-digit patient number. The patient’s name and address, as well as the balance due on their bill, also are stored on the table.</span><span style=\"color: rgb(87, 87, 87); font-family: rooney-web, Cambria, &quot;Times New Roman&quot;, Times, serif; font-size: 18px; background-color: rgb(255, 255, 255);\"><br></span>"
            ],
            "metadata": {
                "azdata_cell_guid": "5b4d87f8-3500-4328-94c5-847d145f7fe2"
            },
            "attachments": {}
        },
        {
            "cell_type": "code",
            "source": [
                "-- --------------------------------------------------------\r\n",
                "-- Table structure for table 'Patient'\r\n",
                "-- --------------------------------------------------------\r\n",
                "DROP TABLE IF EXISTS Patient;\r\n",
                "CREATE TABLE Patient (\r\n",
                "  PatientNum INTEGER NOT NULL, \r\n",
                "  LastName VARCHAR(255), \r\n",
                "  FirstName VARCHAR(255), \r\n",
                "  Address VARCHAR(255), \r\n",
                "  City VARCHAR(255), \r\n",
                "  State VARCHAR(255), \r\n",
                "  ZipCode INTEGER, \r\n",
                "  Balance DECIMAL(19,4), \r\n",
                "  INDEX ZIPCODE_IDX (ZipCode), \r\n",
                "  PRIMARY KEY (PatientNum)\r\n",
                ") ;\r\n",
                "-- --------------------------------------------------------"
            ],
            "metadata": {
                "azdata_cell_guid": "c55a9c1e-de54-46d1-9502-15d72f951d87",
                "language": "sql"
            },
            "outputs": [
                {
                    "output_type": "display_data",
                    "data": {
                        "text/html": "Commands completed successfully."
                    },
                    "metadata": {}
                },
                {
                    "output_type": "display_data",
                    "data": {
                        "text/html": "Total execution time: 00:00:00.007"
                    },
                    "metadata": {}
                }
            ],
            "execution_count": 3
        },
        {
            "cell_type": "code",
            "source": [
                "-- --------------------------------------------------------\r\n",
                "-- Dumping data for table 'Patient'\r\n",
                "-- --------------------------------------------------------\r\n",
                "SET IMPLICIT_TRANSACTIONS ON;\r\n",
                "INSERT INTO Patient (PatientNum, LastName, FirstName, Address, City, State, ZipCode, Balance) VALUES (1010, 'Koehler', 'Robbie', '119 West Bay Dr.', 'San Vista', 'TX', 72510, 1535.15);\r\n",
                "INSERT INTO Patient (PatientNum, LastName, FirstName, Address, City, State, ZipCode, Balance) VALUES (1011, 'King', 'Joseph', '941 Treemont', 'Oak Hills', 'TX', 74081, 212.8);\r\n",
                "INSERT INTO Patient (PatientNum, LastName, FirstName, Address, City, State, ZipCode, Balance) VALUES (1012, 'Houghland', 'Susan', '7841 Lake Side Dr.', 'Munster', 'TX', 72380, 1955.4);\r\n",
                "INSERT INTO Patient (PatientNum, LastName, FirstName, Address, City, State, ZipCode, Balance) VALUES (1013, 'Falls', 'Tierra', '44 Applewood Ave.', 'Palm Rivers', 'TX', 72511, 1000.35);\r\n",
                "INSERT INTO Patient (PatientNum, LastName, FirstName, Address, City, State, ZipCode, Balance) VALUES (1014, 'Odepaul', 'Ben', '546 WCR 150 South', 'Munster', 'TX', 74093, 525);\r\n",
                "INSERT INTO Patient (PatientNum, LastName, FirstName, Address, City, State, ZipCode, Balance) VALUES (1015, 'Venable', 'Isaiah', '37 High School Road', 'Waterville', 'TX', 74183, 432.3);\r\n",
                "INSERT INTO Patient (PatientNum, LastName, FirstName, Address, City, State, ZipCode, Balance) VALUES (1016, 'Waggoner', 'Brianna', '2691 Westgrove St.', 'Delbert', 'TX', 72381, 714.25);\r\n",
                "INSERT INTO Patient (PatientNum, LastName, FirstName, Address, City, State, ZipCode, Balance) VALUES (1017, 'Short', 'Tobey', '1928 10th Ave.', 'Munster', 'TX', 72512, 967.6);\r\n",
                "INSERT INTO Patient (PatientNum, LastName, FirstName, Address, City, State, ZipCode, Balance) VALUES (1018, 'Baptist', 'Joseph', '300 Erin Dr.', 'Waterville', 'TX', 76658, 1846.75);\r\n",
                "INSERT INTO Patient (PatientNum, LastName, FirstName, Address, City, State, ZipCode, Balance) VALUES (1019, 'Culling', 'Latisha', '4238 East 71st St.', 'San Vista', 'TX', 74071, 1988.5);\r\n",
                "INSERT INTO Patient (PatientNum, LastName, FirstName, Address, City, State, ZipCode, Balance) VALUES (1020, 'Marino', 'Andre', '919 Horton Ave.', 'Georgetown', 'TX', 72379, 688.95);\r\n",
                "INSERT INTO Patient (PatientNum, LastName, FirstName, Address, City, State, ZipCode, Balance) VALUES (1021, 'Wilson', 'Tammy', '424 October Blvd.', 'Waterville', 'TX', 76658, 2015.3);\r\n",
                "-- 12 ------------------------------------------------------"
            ],
            "metadata": {
                "azdata_cell_guid": "292cee0c-ab34-4982-92d1-3c1f67a9b0b1",
                "language": "sql"
            },
            "outputs": [
                {
                    "output_type": "display_data",
                    "data": {
                        "text/html": "(1 row affected)"
                    },
                    "metadata": {}
                },
                {
                    "output_type": "display_data",
                    "data": {
                        "text/html": "(1 row affected)"
                    },
                    "metadata": {}
                },
                {
                    "output_type": "display_data",
                    "data": {
                        "text/html": "(1 row affected)"
                    },
                    "metadata": {}
                },
                {
                    "output_type": "display_data",
                    "data": {
                        "text/html": "(1 row affected)"
                    },
                    "metadata": {}
                },
                {
                    "output_type": "display_data",
                    "data": {
                        "text/html": "(1 row affected)"
                    },
                    "metadata": {}
                },
                {
                    "output_type": "display_data",
                    "data": {
                        "text/html": "(1 row affected)"
                    },
                    "metadata": {}
                },
                {
                    "output_type": "display_data",
                    "data": {
                        "text/html": "(1 row affected)"
                    },
                    "metadata": {}
                },
                {
                    "output_type": "display_data",
                    "data": {
                        "text/html": "(1 row affected)"
                    },
                    "metadata": {}
                },
                {
                    "output_type": "display_data",
                    "data": {
                        "text/html": "(1 row affected)"
                    },
                    "metadata": {}
                },
                {
                    "output_type": "display_data",
                    "data": {
                        "text/html": "(1 row affected)"
                    },
                    "metadata": {}
                },
                {
                    "output_type": "display_data",
                    "data": {
                        "text/html": "(1 row affected)"
                    },
                    "metadata": {}
                },
                {
                    "output_type": "display_data",
                    "data": {
                        "text/html": "(1 row affected)"
                    },
                    "metadata": {}
                },
                {
                    "output_type": "display_data",
                    "data": {
                        "text/html": "Total execution time: 00:00:00.019"
                    },
                    "metadata": {}
                }
            ],
            "execution_count": 4
        },
        {
            "cell_type": "markdown",
            "source": [
                "<span style=\"color: rgb(87, 87, 87); font-family: rooney-web, Cambria, &quot;Times New Roman&quot;, Times, serif; font-size: 18px; background-color: rgb(255, 255, 255);\">Sports Physical Therapy records information about each of its therapy sessions. The fields of data are stored in the Session table</span><span style=\"color: rgb(87, 87, 87); font-family: rooney-web, Cambria, &quot;Times New Roman&quot;, Times, serif; font-size: 18px; background-color: rgb(255, 255, 255);\">. A session record will have a unique number, the session date, the patient number, and the length of the session, as well as the therapist number and therapy code.</span>"
            ],
            "metadata": {
                "azdata_cell_guid": "76a3df04-0bc4-4fe5-8992-ccace74f92fe"
            },
            "attachments": {}
        },
        {
            "cell_type": "code",
            "source": [
                "-- --------------------------------------------------------\r\n",
                "-- Table structure for table 'Session'\r\n",
                "-- --------------------------------------------------------\r\n",
                "DROP TABLE IF EXISTS Session;\r\n",
                "CREATE TABLE Session (\r\n",
                "  SessionNum INTEGER NOT NULL, \r\n",
                "  SessionDate DATETIME, \r\n",
                "  PatientNum INTEGER, \r\n",
                "  LengthOfSession INTEGER, \r\n",
                "  TherapistID VARCHAR(255), \r\n",
                "  TherapyCode INTEGER, \r\n",
                "  PRIMARY KEY (SessionNum), \r\n",
                "  INDEX THERAPISTID_IDX (TherapistID), \r\n",
                "  INDEX THERAPYCODE_IDX (TherapyCode)\r\n",
                ") ;\r\n",
                "-- --------------------------------------------------------"
            ],
            "metadata": {
                "azdata_cell_guid": "9bd9354a-e2a3-443c-9a2c-a851d1aede29",
                "language": "sql"
            },
            "outputs": [
                {
                    "output_type": "display_data",
                    "data": {
                        "text/html": "Commands completed successfully."
                    },
                    "metadata": {}
                },
                {
                    "output_type": "display_data",
                    "data": {
                        "text/html": "Total execution time: 00:00:00.010"
                    },
                    "metadata": {}
                }
            ],
            "execution_count": 5
        },
        {
            "cell_type": "code",
            "source": [
                "-- --------------------------------------------------------\r\n",
                "-- Dumping data for table 'Session'\r\n",
                "-- --------------------------------------------------------\r\n",
                "SET IMPLICIT_TRANSACTIONS ON;\r\n",
                "INSERT INTO Session (SessionNum, SessionDate, PatientNum, LengthOfSession, TherapistID, TherapyCode) VALUES (27, '2021-10-10 00:00:00', 1011, 45, 'JR085', 92507);\r\n",
                "INSERT INTO Session (SessionNum, SessionDate, PatientNum, LengthOfSession, TherapistID, TherapyCode) VALUES (28, '2021-10-11 00:00:00', 1016, 30, 'AS648', 97010);\r\n",
                "INSERT INTO Session (SessionNum, SessionDate, PatientNum, LengthOfSession, TherapistID, TherapyCode) VALUES (29, '2021-10-11 00:00:00', 1014, 60, 'SW124', 97014);\r\n",
                "INSERT INTO Session (SessionNum, SessionDate, PatientNum, LengthOfSession, TherapistID, TherapyCode) VALUES (30, '2021-10-12 00:00:00', 1013, 30, 'BM273', 97033);\r\n",
                "INSERT INTO Session (SessionNum, SessionDate, PatientNum, LengthOfSession, TherapistID, TherapyCode) VALUES (31, '2021-10-15 00:00:00', 1016, 90, 'AS648', 98960);\r\n",
                "INSERT INTO Session (SessionNum, SessionDate, PatientNum, LengthOfSession, TherapistID, TherapyCode) VALUES (32, '2021-10-16 00:00:00', 1018, 15, 'JR085', 97035);\r\n",
                "INSERT INTO Session (SessionNum, SessionDate, PatientNum, LengthOfSession, TherapistID, TherapyCode) VALUES (33, '2021-10-17 00:00:00', 1017, 60, 'SN852', 97039);\r\n",
                "INSERT INTO Session (SessionNum, SessionDate, PatientNum, LengthOfSession, TherapistID, TherapyCode) VALUES (34, '2021-10-17 00:00:00', 1015, 45, 'BM273', 97112);\r\n",
                "INSERT INTO Session (SessionNum, SessionDate, PatientNum, LengthOfSession, TherapistID, TherapyCode) VALUES (35, '2021-10-18 00:00:00', 1010, 30, 'SW124', 97113);\r\n",
                "INSERT INTO Session (SessionNum, SessionDate, PatientNum, LengthOfSession, TherapistID, TherapyCode) VALUES (36, '2021-10-18 00:00:00', 1019, 75, 'SN852', 97116);\r\n",
                "INSERT INTO Session (SessionNum, SessionDate, PatientNum, LengthOfSession, TherapistID, TherapyCode) VALUES (37, '2021-10-19 00:00:00', 1020, 30, 'BM273', 97124);\r\n",
                "INSERT INTO Session (SessionNum, SessionDate, PatientNum, LengthOfSession, TherapistID, TherapyCode) VALUES (38, '2021-10-19 00:00:00', 1021, 60, 'AS648', 97535);\r\n",
                "-- 12 ------------------------------------------------------"
            ],
            "metadata": {
                "azdata_cell_guid": "30bce3a4-f8a2-4850-9f10-7941ad26335f",
                "language": "sql"
            },
            "outputs": [
                {
                    "output_type": "display_data",
                    "data": {
                        "text/html": "(1 row affected)"
                    },
                    "metadata": {}
                },
                {
                    "output_type": "display_data",
                    "data": {
                        "text/html": "(1 row affected)"
                    },
                    "metadata": {}
                },
                {
                    "output_type": "display_data",
                    "data": {
                        "text/html": "(1 row affected)"
                    },
                    "metadata": {}
                },
                {
                    "output_type": "display_data",
                    "data": {
                        "text/html": "(1 row affected)"
                    },
                    "metadata": {}
                },
                {
                    "output_type": "display_data",
                    "data": {
                        "text/html": "(1 row affected)"
                    },
                    "metadata": {}
                },
                {
                    "output_type": "display_data",
                    "data": {
                        "text/html": "(1 row affected)"
                    },
                    "metadata": {}
                },
                {
                    "output_type": "display_data",
                    "data": {
                        "text/html": "(1 row affected)"
                    },
                    "metadata": {}
                },
                {
                    "output_type": "display_data",
                    "data": {
                        "text/html": "(1 row affected)"
                    },
                    "metadata": {}
                },
                {
                    "output_type": "display_data",
                    "data": {
                        "text/html": "(1 row affected)"
                    },
                    "metadata": {}
                },
                {
                    "output_type": "display_data",
                    "data": {
                        "text/html": "(1 row affected)"
                    },
                    "metadata": {}
                },
                {
                    "output_type": "display_data",
                    "data": {
                        "text/html": "(1 row affected)"
                    },
                    "metadata": {}
                },
                {
                    "output_type": "display_data",
                    "data": {
                        "text/html": "(1 row affected)"
                    },
                    "metadata": {}
                },
                {
                    "output_type": "display_data",
                    "data": {
                        "text/html": "Total execution time: 00:00:00.008"
                    },
                    "metadata": {}
                }
            ],
            "execution_count": 6
        },
        {
            "cell_type": "markdown",
            "source": [
                "<span style=\"color: rgb(87, 87, 87); font-family: rooney-web, Cambria, &quot;Times New Roman&quot;, Times, serif; font-size: 18px; background-color: rgb(255, 255, 255);\">Sports Physical Therapy stores information about the therapists who work in their office.&nbsp;</span> <span style=\"color: rgb(87, 87, 87); font-family: rooney-web, Cambria, &quot;Times New Roman&quot;, Times, serif; font-size: 18px; background-color: rgb(255, 255, 255);\">Each therapist is identified by a unique ID number that consists of two uppercase letters followed by a three-digit number. For each therapist, the table also includes the last name, first name, street, city, state, and zip code.</span>"
            ],
            "metadata": {
                "azdata_cell_guid": "b4ae8215-864c-49c3-9528-a80cdefc84ff"
            },
            "attachments": {}
        },
        {
            "cell_type": "code",
            "source": [
                "-- --------------------------------------------------------\r\n",
                "-- Table structure for table 'Therapies'\r\n",
                "-- --------------------------------------------------------\r\n",
                "DROP TABLE IF EXISTS Therapies;\r\n",
                "CREATE TABLE Therapies (\r\n",
                "  TherapyCode INTEGER NOT NULL, \r\n",
                "  Description VARCHAR(255), \r\n",
                "  UnitOfTime INTEGER, \r\n",
                "  PRIMARY KEY (TherapyCode)\r\n",
                ") ;\r\n",
                "-- --------------------------------------------------------"
            ],
            "metadata": {
                "azdata_cell_guid": "f280d233-f41e-4ad2-b864-9618d81f8440",
                "language": "sql"
            },
            "outputs": [
                {
                    "output_type": "display_data",
                    "data": {
                        "text/html": "Commands completed successfully."
                    },
                    "metadata": {}
                },
                {
                    "output_type": "display_data",
                    "data": {
                        "text/html": "Total execution time: 00:00:00.014"
                    },
                    "metadata": {}
                }
            ],
            "execution_count": 7
        },
        {
            "cell_type": "code",
            "source": [
                "-- --------------------------------------------------------\r\n",
                "-- Dumping data for table 'Therapies'\r\n",
                "-- --------------------------------------------------------\r\n",
                "SET IMPLICIT_TRANSACTIONS ON;\r\n",
                "INSERT INTO Therapies (TherapyCode, Description, UnitOfTime) VALUES (90901, 'Biofeedback training by any modality', NULL);\r\n",
                "INSERT INTO Therapies (TherapyCode, Description, UnitOfTime) VALUES (92240, 'Shoulder strapping', NULL);\r\n",
                "INSERT INTO Therapies (TherapyCode, Description, UnitOfTime) VALUES (92507, 'Treatment of speech', 15);\r\n",
                "INSERT INTO Therapies (TherapyCode, Description, UnitOfTime) VALUES (92530, 'Knee strapping', NULL);\r\n",
                "INSERT INTO Therapies (TherapyCode, Description, UnitOfTime) VALUES (92540, 'Ankle and/or foot strapping', NULL);\r\n",
                "INSERT INTO Therapies (TherapyCode, Description, UnitOfTime) VALUES (95831, 'Extremity or trunk muscle testing', NULL);\r\n",
                "INSERT INTO Therapies (TherapyCode, Description, UnitOfTime) VALUES (97010, 'Hot or cold pack application', NULL);\r\n",
                "INSERT INTO Therapies (TherapyCode, Description, UnitOfTime) VALUES (97012, 'Mechanical traction', NULL);\r\n",
                "INSERT INTO Therapies (TherapyCode, Description, UnitOfTime) VALUES (97014, 'Electrical stimulation', NULL);\r\n",
                "INSERT INTO Therapies (TherapyCode, Description, UnitOfTime) VALUES (97016, 'Vasopneumatic devices', NULL);\r\n",
                "INSERT INTO Therapies (TherapyCode, Description, UnitOfTime) VALUES (97018, 'Paraffin bath', NULL);\r\n",
                "INSERT INTO Therapies (TherapyCode, Description, UnitOfTime) VALUES (97022, 'Whirlpool', NULL);\r\n",
                "INSERT INTO Therapies (TherapyCode, Description, UnitOfTime) VALUES (97026, 'Infrared', NULL);\r\n",
                "INSERT INTO Therapies (TherapyCode, Description, UnitOfTime) VALUES (97032, 'Electrical stimulation ', 15);\r\n",
                "INSERT INTO Therapies (TherapyCode, Description, UnitOfTime) VALUES (97033, 'Iontophoresis ', 15);\r\n",
                "INSERT INTO Therapies (TherapyCode, Description, UnitOfTime) VALUES (97035, 'Ultrasound ', 15);\r\n",
                "INSERT INTO Therapies (TherapyCode, Description, UnitOfTime) VALUES (97039, 'Unlisted modality', 15);\r\n",
                "INSERT INTO Therapies (TherapyCode, Description, UnitOfTime) VALUES (97110, 'Therapeutic exercises to develop strength and endurance, range of motion, and flexibility ', 15);\r\n",
                "INSERT INTO Therapies (TherapyCode, Description, UnitOfTime) VALUES (97112, 'Neuromuscular re-education of movement, balance, coordination, etc. ', 15);\r\n",
                "INSERT INTO Therapies (TherapyCode, Description, UnitOfTime) VALUES (97113, 'Aquatic therapy with therapeutic exercises ', 15);\r\n",
                "INSERT INTO Therapies (TherapyCode, Description, UnitOfTime) VALUES (97116, 'Gait training', 15);\r\n",
                "INSERT INTO Therapies (TherapyCode, Description, UnitOfTime) VALUES (97124, 'Massage ', 15);\r\n",
                "INSERT INTO Therapies (TherapyCode, Description, UnitOfTime) VALUES (97139, 'Unlisted therapeutic procedure', NULL);\r\n",
                "INSERT INTO Therapies (TherapyCode, Description, UnitOfTime) VALUES (97140, 'Manual therapy techniques ', 15);\r\n",
                "INSERT INTO Therapies (TherapyCode, Description, UnitOfTime) VALUES (97150, 'Group therapeutic procedure', 15);\r\n",
                "INSERT INTO Therapies (TherapyCode, Description, UnitOfTime) VALUES (97530, 'Dynamic activities to improve functional performance, direct (one-on-one) with the patient ', 15);\r\n",
                "INSERT INTO Therapies (TherapyCode, Description, UnitOfTime) VALUES (97535, 'Self-care/home management training ', 15);\r\n",
                "INSERT INTO Therapies (TherapyCode, Description, UnitOfTime) VALUES (97750, 'Physical performance test or measurement ', 15);\r\n",
                "INSERT INTO Therapies (TherapyCode, Description, UnitOfTime) VALUES (97799, 'Unlisted physical medicine/rehabilitation service or procedure', NULL);\r\n",
                "INSERT INTO Therapies (TherapyCode, Description, UnitOfTime) VALUES (98941, 'CMT of the spine', NULL);\r\n",
                "INSERT INTO Therapies (TherapyCode, Description, UnitOfTime) VALUES (98960, 'Education and training for patient self-management', 30);\r\n",
                "-- 31 ------------------------------------------------------"
            ],
            "metadata": {
                "azdata_cell_guid": "7f95a5cc-bda6-4496-b98b-154ed0b79081",
                "language": "sql"
            },
            "outputs": [
                {
                    "output_type": "display_data",
                    "data": {
                        "text/html": "(1 row affected)"
                    },
                    "metadata": {}
                },
                {
                    "output_type": "display_data",
                    "data": {
                        "text/html": "(1 row affected)"
                    },
                    "metadata": {}
                },
                {
                    "output_type": "display_data",
                    "data": {
                        "text/html": "(1 row affected)"
                    },
                    "metadata": {}
                },
                {
                    "output_type": "display_data",
                    "data": {
                        "text/html": "(1 row affected)"
                    },
                    "metadata": {}
                },
                {
                    "output_type": "display_data",
                    "data": {
                        "text/html": "(1 row affected)"
                    },
                    "metadata": {}
                },
                {
                    "output_type": "display_data",
                    "data": {
                        "text/html": "(1 row affected)"
                    },
                    "metadata": {}
                },
                {
                    "output_type": "display_data",
                    "data": {
                        "text/html": "(1 row affected)"
                    },
                    "metadata": {}
                },
                {
                    "output_type": "display_data",
                    "data": {
                        "text/html": "(1 row affected)"
                    },
                    "metadata": {}
                },
                {
                    "output_type": "display_data",
                    "data": {
                        "text/html": "(1 row affected)"
                    },
                    "metadata": {}
                },
                {
                    "output_type": "display_data",
                    "data": {
                        "text/html": "(1 row affected)"
                    },
                    "metadata": {}
                },
                {
                    "output_type": "display_data",
                    "data": {
                        "text/html": "(1 row affected)"
                    },
                    "metadata": {}
                },
                {
                    "output_type": "display_data",
                    "data": {
                        "text/html": "(1 row affected)"
                    },
                    "metadata": {}
                },
                {
                    "output_type": "display_data",
                    "data": {
                        "text/html": "(1 row affected)"
                    },
                    "metadata": {}
                },
                {
                    "output_type": "display_data",
                    "data": {
                        "text/html": "(1 row affected)"
                    },
                    "metadata": {}
                },
                {
                    "output_type": "display_data",
                    "data": {
                        "text/html": "(1 row affected)"
                    },
                    "metadata": {}
                },
                {
                    "output_type": "display_data",
                    "data": {
                        "text/html": "(1 row affected)"
                    },
                    "metadata": {}
                },
                {
                    "output_type": "display_data",
                    "data": {
                        "text/html": "(1 row affected)"
                    },
                    "metadata": {}
                },
                {
                    "output_type": "display_data",
                    "data": {
                        "text/html": "(1 row affected)"
                    },
                    "metadata": {}
                },
                {
                    "output_type": "display_data",
                    "data": {
                        "text/html": "(1 row affected)"
                    },
                    "metadata": {}
                },
                {
                    "output_type": "display_data",
                    "data": {
                        "text/html": "(1 row affected)"
                    },
                    "metadata": {}
                },
                {
                    "output_type": "display_data",
                    "data": {
                        "text/html": "(1 row affected)"
                    },
                    "metadata": {}
                },
                {
                    "output_type": "display_data",
                    "data": {
                        "text/html": "(1 row affected)"
                    },
                    "metadata": {}
                },
                {
                    "output_type": "display_data",
                    "data": {
                        "text/html": "(1 row affected)"
                    },
                    "metadata": {}
                },
                {
                    "output_type": "display_data",
                    "data": {
                        "text/html": "(1 row affected)"
                    },
                    "metadata": {}
                },
                {
                    "output_type": "display_data",
                    "data": {
                        "text/html": "(1 row affected)"
                    },
                    "metadata": {}
                },
                {
                    "output_type": "display_data",
                    "data": {
                        "text/html": "(1 row affected)"
                    },
                    "metadata": {}
                },
                {
                    "output_type": "display_data",
                    "data": {
                        "text/html": "(1 row affected)"
                    },
                    "metadata": {}
                },
                {
                    "output_type": "display_data",
                    "data": {
                        "text/html": "(1 row affected)"
                    },
                    "metadata": {}
                },
                {
                    "output_type": "display_data",
                    "data": {
                        "text/html": "(1 row affected)"
                    },
                    "metadata": {}
                },
                {
                    "output_type": "display_data",
                    "data": {
                        "text/html": "(1 row affected)"
                    },
                    "metadata": {}
                },
                {
                    "output_type": "display_data",
                    "data": {
                        "text/html": "(1 row affected)"
                    },
                    "metadata": {}
                },
                {
                    "output_type": "display_data",
                    "data": {
                        "text/html": "Total execution time: 00:00:00.010"
                    },
                    "metadata": {}
                }
            ],
            "execution_count": 8
        },
        {
            "cell_type": "markdown",
            "source": [
                "<span style=\"color: rgb(87, 87, 87); font-family: rooney-web, Cambria, &quot;Times New Roman&quot;, Times, serif; font-size: 18px; background-color: rgb(255, 255, 255);\">In the Therapies table, each kind of therapy is identified by a unique number, which corresponds to the medical physical therapy code sent to insurance companies for reimbursement. The TherapyCode, a description, and the billable unit of time, if any, are included in the table. Time-based therapies are billed in groups of minutes (listed in the table). Service-based therapies are billed per service (no time is listed in the table).&nbsp;</span>"
            ],
            "metadata": {
                "azdata_cell_guid": "59f0695b-7d34-478d-821c-1a539948312b"
            },
            "attachments": {}
        },
        {
            "cell_type": "code",
            "source": [
                "-- --------------------------------------------------------\r\n",
                "-- Table structure for table 'Therapist'\r\n",
                "-- --------------------------------------------------------\r\n",
                "DROP TABLE IF EXISTS Therapist;\r\n",
                "CREATE TABLE Therapist (\r\n",
                "  TherapistID VARCHAR(255) NOT NULL, \r\n",
                "  LastName VARCHAR(255), \r\n",
                "  FirstName VARCHAR(255), \r\n",
                "  Street VARCHAR(255), \r\n",
                "  City VARCHAR(255), \r\n",
                "  State VARCHAR(255), \r\n",
                "  ZipCode INTEGER, \r\n",
                "  INDEX ZIPCODE_IDX (ZipCode), \r\n",
                "  PRIMARY KEY (TherapistID)\r\n",
                ") ;\r\n",
                "-- --------------------------------------------------------"
            ],
            "metadata": {
                "azdata_cell_guid": "76697bfa-68ec-48d8-bd53-15697e00b2f1",
                "language": "sql"
            },
            "outputs": [
                {
                    "output_type": "display_data",
                    "data": {
                        "text/html": "Commands completed successfully."
                    },
                    "metadata": {}
                },
                {
                    "output_type": "display_data",
                    "data": {
                        "text/html": "Total execution time: 00:00:00.009"
                    },
                    "metadata": {}
                }
            ],
            "execution_count": 9
        },
        {
            "cell_type": "code",
            "source": [
                "-- --------------------------------------------------------\r\n",
                "-- Dumping data for table 'Therapist'\r\n",
                "-- --------------------------------------------------------\r\n",
                "SET IMPLICIT_TRANSACTIONS ON;\r\n",
                "INSERT INTO Therapist (TherapistID, LastName, FirstName, Street, City, State, ZipCode) VALUES ('AS648', 'Shields', 'Anthony', '5222 Eagle Court', 'Palm Rivers', 'TX', 72511);\r\n",
                "INSERT INTO Therapist (TherapistID, LastName, FirstName, Street, City, State, ZipCode) VALUES ('BM273', 'McClain', 'Bridgette', '385 West Mill St.', 'Waterville', 'TX', 76658);\r\n",
                "INSERT INTO Therapist (TherapistID, LastName, FirstName, Street, City, State, ZipCode) VALUES ('JR085', 'Risk', 'Jonathan', '1010 650 North', 'Palm Rivers', 'TX', 72511);\r\n",
                "INSERT INTO Therapist (TherapistID, LastName, FirstName, Street, City, State, ZipCode) VALUES ('SN852', 'Nair', 'Saritha', '25 North Elm St.', 'Livewood', 'TX', 72512);\r\n",
                "INSERT INTO Therapist (TherapistID, LastName, FirstName, Street, City, State, ZipCode) VALUES ('SW124', 'Wilder', 'Steven', '7354 Rockville Road', 'San Vista', 'TX', 72510);\r\n",
                "-- 5 ------------------------------------------------------\r\n",
                "COMMIT;"
            ],
            "metadata": {
                "azdata_cell_guid": "a4ba0c24-7e33-4fae-84f0-1c137be84e5b",
                "language": "sql"
            },
            "outputs": [
                {
                    "output_type": "display_data",
                    "data": {
                        "text/html": "(1 row affected)"
                    },
                    "metadata": {}
                },
                {
                    "output_type": "display_data",
                    "data": {
                        "text/html": "(1 row affected)"
                    },
                    "metadata": {}
                },
                {
                    "output_type": "display_data",
                    "data": {
                        "text/html": "(1 row affected)"
                    },
                    "metadata": {}
                },
                {
                    "output_type": "display_data",
                    "data": {
                        "text/html": "(1 row affected)"
                    },
                    "metadata": {}
                },
                {
                    "output_type": "display_data",
                    "data": {
                        "text/html": "(1 row affected)"
                    },
                    "metadata": {}
                },
                {
                    "output_type": "display_data",
                    "data": {
                        "text/html": "Total execution time: 00:00:00.008"
                    },
                    "metadata": {}
                }
            ],
            "execution_count": 10
        },
        {
            "cell_type": "markdown",
            "source": [
                "#################PLEASE COMPLETE THE BELOW ASSIGNMENT BY WRITING QUERIES IN THE GIVEN APPROPRIATE CODE CHUNK GIVEN BELOW, EXECUTE THEM, SAVE THE FILE, AND SUBMIT THE FILE IN CANVAS########################################################################################################################"
            ],
            "metadata": {
                "azdata_cell_guid": "a71efd0b-ee25-459a-9632-8a1bdb764350"
            },
            "attachments": {}
        },
        {
            "cell_type": "markdown",
            "source": [
                "Question 1: <span style=\"font-size:12.0pt;font-family:&quot;Times New Roman&quot;,serif;\n",
                "mso-fareast-font-family:&quot;Times New Roman&quot;;mso-ansi-language:EN-US;mso-fareast-language:\n",
                "EN-US;mso-bidi-language:AR-SA\">Write the SQL code for the following: List all the information in the patient’s table sorted by city. -- 0.5 points</span>"
            ],
            "metadata": {
                "azdata_cell_guid": "8e500100-4d77-46d0-a669-d27d116de954"
            },
            "attachments": {}
        },
        {
            "cell_type": "code",
            "source": [
                "--Please enter the code for Question 1 below\r\n",
                "SELECT * FROM Patient ORDER BY City;"
            ],
            "metadata": {
                "azdata_cell_guid": "e0ef3c23-e727-471c-9db9-a50691756288",
                "language": "sql"
            },
            "outputs": [
                {
                    "output_type": "display_data",
                    "data": {
                        "text/html": "(12 rows affected)"
                    },
                    "metadata": {}
                },
                {
                    "output_type": "display_data",
                    "data": {
                        "text/html": "Total execution time: 00:00:00.009"
                    },
                    "metadata": {}
                },
                {
                    "output_type": "execute_result",
                    "metadata": {},
                    "execution_count": 11,
                    "data": {
                        "application/vnd.dataresource+json": {
                            "schema": {
                                "fields": [
                                    {
                                        "name": "PatientNum"
                                    },
                                    {
                                        "name": "LastName"
                                    },
                                    {
                                        "name": "FirstName"
                                    },
                                    {
                                        "name": "Address"
                                    },
                                    {
                                        "name": "City"
                                    },
                                    {
                                        "name": "State"
                                    },
                                    {
                                        "name": "ZipCode"
                                    },
                                    {
                                        "name": "Balance"
                                    }
                                ]
                            },
                            "data": [
                                {
                                    "0": "1016",
                                    "1": "Waggoner",
                                    "2": "Brianna",
                                    "3": "2691 Westgrove St.",
                                    "4": "Delbert",
                                    "5": "TX",
                                    "6": "72381",
                                    "7": "714.2500"
                                },
                                {
                                    "0": "1020",
                                    "1": "Marino",
                                    "2": "Andre",
                                    "3": "919 Horton Ave.",
                                    "4": "Georgetown",
                                    "5": "TX",
                                    "6": "72379",
                                    "7": "688.9500"
                                },
                                {
                                    "0": "1017",
                                    "1": "Short",
                                    "2": "Tobey",
                                    "3": "1928 10th Ave.",
                                    "4": "Munster",
                                    "5": "TX",
                                    "6": "72512",
                                    "7": "967.6000"
                                },
                                {
                                    "0": "1014",
                                    "1": "Odepaul",
                                    "2": "Ben",
                                    "3": "546 WCR 150 South",
                                    "4": "Munster",
                                    "5": "TX",
                                    "6": "74093",
                                    "7": "525.0000"
                                },
                                {
                                    "0": "1012",
                                    "1": "Houghland",
                                    "2": "Susan",
                                    "3": "7841 Lake Side Dr.",
                                    "4": "Munster",
                                    "5": "TX",
                                    "6": "72380",
                                    "7": "1955.4000"
                                },
                                {
                                    "0": "1011",
                                    "1": "King",
                                    "2": "Joseph",
                                    "3": "941 Treemont",
                                    "4": "Oak Hills",
                                    "5": "TX",
                                    "6": "74081",
                                    "7": "212.8000"
                                },
                                {
                                    "0": "1013",
                                    "1": "Falls",
                                    "2": "Tierra",
                                    "3": "44 Applewood Ave.",
                                    "4": "Palm Rivers",
                                    "5": "TX",
                                    "6": "72511",
                                    "7": "1000.3500"
                                },
                                {
                                    "0": "1010",
                                    "1": "Koehler",
                                    "2": "Robbie",
                                    "3": "119 West Bay Dr.",
                                    "4": "San Vista",
                                    "5": "TX",
                                    "6": "72510",
                                    "7": "1535.1500"
                                },
                                {
                                    "0": "1019",
                                    "1": "Culling",
                                    "2": "Latisha",
                                    "3": "4238 East 71st St.",
                                    "4": "San Vista",
                                    "5": "TX",
                                    "6": "74071",
                                    "7": "1988.5000"
                                },
                                {
                                    "0": "1021",
                                    "1": "Wilson",
                                    "2": "Tammy",
                                    "3": "424 October Blvd.",
                                    "4": "Waterville",
                                    "5": "TX",
                                    "6": "76658",
                                    "7": "2015.3000"
                                },
                                {
                                    "0": "1015",
                                    "1": "Venable",
                                    "2": "Isaiah",
                                    "3": "37 High School Road",
                                    "4": "Waterville",
                                    "5": "TX",
                                    "6": "74183",
                                    "7": "432.3000"
                                },
                                {
                                    "0": "1018",
                                    "1": "Baptist",
                                    "2": "Joseph",
                                    "3": "300 Erin Dr.",
                                    "4": "Waterville",
                                    "5": "TX",
                                    "6": "76658",
                                    "7": "1846.7500"
                                }
                            ]
                        },
                        "text/html": [
                            "<table>",
                            "<tr><th>PatientNum</th><th>LastName</th><th>FirstName</th><th>Address</th><th>City</th><th>State</th><th>ZipCode</th><th>Balance</th></tr>",
                            "<tr><td>1016</td><td>Waggoner</td><td>Brianna</td><td>2691 Westgrove St.</td><td>Delbert</td><td>TX</td><td>72381</td><td>714.2500</td></tr>",
                            "<tr><td>1020</td><td>Marino</td><td>Andre</td><td>919 Horton Ave.</td><td>Georgetown</td><td>TX</td><td>72379</td><td>688.9500</td></tr>",
                            "<tr><td>1017</td><td>Short</td><td>Tobey</td><td>1928 10th Ave.</td><td>Munster</td><td>TX</td><td>72512</td><td>967.6000</td></tr>",
                            "<tr><td>1014</td><td>Odepaul</td><td>Ben</td><td>546 WCR 150 South</td><td>Munster</td><td>TX</td><td>74093</td><td>525.0000</td></tr>",
                            "<tr><td>1012</td><td>Houghland</td><td>Susan</td><td>7841 Lake Side Dr.</td><td>Munster</td><td>TX</td><td>72380</td><td>1955.4000</td></tr>",
                            "<tr><td>1011</td><td>King</td><td>Joseph</td><td>941 Treemont</td><td>Oak Hills</td><td>TX</td><td>74081</td><td>212.8000</td></tr>",
                            "<tr><td>1013</td><td>Falls</td><td>Tierra</td><td>44 Applewood Ave.</td><td>Palm Rivers</td><td>TX</td><td>72511</td><td>1000.3500</td></tr>",
                            "<tr><td>1010</td><td>Koehler</td><td>Robbie</td><td>119 West Bay Dr.</td><td>San Vista</td><td>TX</td><td>72510</td><td>1535.1500</td></tr>",
                            "<tr><td>1019</td><td>Culling</td><td>Latisha</td><td>4238 East 71st St.</td><td>San Vista</td><td>TX</td><td>74071</td><td>1988.5000</td></tr>",
                            "<tr><td>1021</td><td>Wilson</td><td>Tammy</td><td>424 October Blvd.</td><td>Waterville</td><td>TX</td><td>76658</td><td>2015.3000</td></tr>",
                            "<tr><td>1015</td><td>Venable</td><td>Isaiah</td><td>37 High School Road</td><td>Waterville</td><td>TX</td><td>74183</td><td>432.3000</td></tr>",
                            "<tr><td>1018</td><td>Baptist</td><td>Joseph</td><td>300 Erin Dr.</td><td>Waterville</td><td>TX</td><td>76658</td><td>1846.7500</td></tr>",
                            "</table>"
                        ]
                    }
                }
            ],
            "execution_count": 11
        },
        {
            "cell_type": "markdown",
            "source": [
                "Question 2: Write the SQL code for the following: List the last names of patients whose balance is greater than $1,000. <span style=\"font-family: &quot;Times New Roman&quot;, serif; font-size: 16px;\">-- 0.5 points</span>"
            ],
            "metadata": {
                "azdata_cell_guid": "32a8c2ef-cf3b-413b-91a9-b865e0c170f2"
            },
            "attachments": {}
        },
        {
            "cell_type": "code",
            "source": [
                "--Please enter the code for Question 2 below\r\n",
                "SELECT LastName FROM Patient WHERE Balance > 1000;"
            ],
            "metadata": {
                "azdata_cell_guid": "099f9472-8b98-4f6a-b0e9-172ca22c3b3b",
                "language": "sql"
            },
            "outputs": [
                {
                    "output_type": "display_data",
                    "data": {
                        "text/html": "(6 rows affected)"
                    },
                    "metadata": {}
                },
                {
                    "output_type": "display_data",
                    "data": {
                        "text/html": "Total execution time: 00:00:00.008"
                    },
                    "metadata": {}
                },
                {
                    "output_type": "execute_result",
                    "metadata": {},
                    "execution_count": 12,
                    "data": {
                        "application/vnd.dataresource+json": {
                            "schema": {
                                "fields": [
                                    {
                                        "name": "LastName"
                                    }
                                ]
                            },
                            "data": [
                                {
                                    "0": "Koehler"
                                },
                                {
                                    "0": "Houghland"
                                },
                                {
                                    "0": "Falls"
                                },
                                {
                                    "0": "Baptist"
                                },
                                {
                                    "0": "Culling"
                                },
                                {
                                    "0": "Wilson"
                                }
                            ]
                        },
                        "text/html": [
                            "<table>",
                            "<tr><th>LastName</th></tr>",
                            "<tr><td>Koehler</td></tr>",
                            "<tr><td>Houghland</td></tr>",
                            "<tr><td>Falls</td></tr>",
                            "<tr><td>Baptist</td></tr>",
                            "<tr><td>Culling</td></tr>",
                            "<tr><td>Wilson</td></tr>",
                            "</table>"
                        ]
                    }
                }
            ],
            "execution_count": 12
        },
        {
            "cell_type": "markdown",
            "source": [
                "Question 3:  Write the SQL code for the following: List the city, last name, and balance of patients who live in Waterville and have a balance greater than $1,000. <span style=\"font-family: &quot;Times New Roman&quot;, serif; font-size: 16px;\">-- 0.5 points</span>"
            ],
            "metadata": {
                "azdata_cell_guid": "ab0e2936-215e-4d42-9d45-b83053c62e38"
            },
            "attachments": {}
        },
        {
            "cell_type": "code",
            "source": [
                "--Please enter the code for Question 3 below\r\n",
                "SELECT City, LastName, Balance FROM Patient WHERE (City = 'Waterville' AND Balance > 1000);"
            ],
            "metadata": {
                "azdata_cell_guid": "d5be118c-9b72-46ad-a0d5-b9ab3be42ed9",
                "language": "sql"
            },
            "outputs": [
                {
                    "output_type": "display_data",
                    "data": {
                        "text/html": "(2 rows affected)"
                    },
                    "metadata": {}
                },
                {
                    "output_type": "display_data",
                    "data": {
                        "text/html": "Total execution time: 00:00:00.017"
                    },
                    "metadata": {}
                },
                {
                    "output_type": "execute_result",
                    "metadata": {},
                    "execution_count": 13,
                    "data": {
                        "application/vnd.dataresource+json": {
                            "schema": {
                                "fields": [
                                    {
                                        "name": "City"
                                    },
                                    {
                                        "name": "LastName"
                                    },
                                    {
                                        "name": "Balance"
                                    }
                                ]
                            },
                            "data": [
                                {
                                    "0": "Waterville",
                                    "1": "Baptist",
                                    "2": "1846.7500"
                                },
                                {
                                    "0": "Waterville",
                                    "1": "Wilson",
                                    "2": "2015.3000"
                                }
                            ]
                        },
                        "text/html": [
                            "<table>",
                            "<tr><th>City</th><th>LastName</th><th>Balance</th></tr>",
                            "<tr><td>Waterville</td><td>Baptist</td><td>1846.7500</td></tr>",
                            "<tr><td>Waterville</td><td>Wilson</td><td>2015.3000</td></tr>",
                            "</table>"
                        ]
                    }
                }
            ],
            "execution_count": 13
        },
        {
            "cell_type": "markdown",
            "source": [
                "Question 4: <span style=\"font-size:12.0pt;font-family:&quot;Times New Roman&quot;,serif;\n",
                "mso-fareast-font-family:&quot;Times New Roman&quot;;mso-ansi-language:EN-US;mso-fareast-language:\n",
                "EN-US;mso-bidi-language:AR-SA\">Write the SQL code for the following: List the city, last name, and balance of patients who live in Waterville or have a balance greater than $2,000.&nbsp;</span> <span style=\"font-family: &quot;Times New Roman&quot;, serif; font-size: 16px;\">-- 0.5 points</span>"
            ],
            "metadata": {
                "azdata_cell_guid": "69fd06c8-719d-4037-b831-632794be4c9a"
            },
            "attachments": {}
        },
        {
            "cell_type": "code",
            "source": [
                "--Please enter the code for Question 4 below\r\n",
                "SELECT City, LastName, Balance FROM Patient WHERE City = 'Waterville' OR Balance > 2000;"
            ],
            "metadata": {
                "azdata_cell_guid": "772b6c27-6a4b-4e68-ab47-183631cbe99e",
                "language": "sql"
            },
            "outputs": [
                {
                    "output_type": "display_data",
                    "data": {
                        "text/html": "(3 rows affected)"
                    },
                    "metadata": {}
                },
                {
                    "output_type": "display_data",
                    "data": {
                        "text/html": "Total execution time: 00:00:00.005"
                    },
                    "metadata": {}
                },
                {
                    "output_type": "execute_result",
                    "metadata": {},
                    "execution_count": 14,
                    "data": {
                        "application/vnd.dataresource+json": {
                            "schema": {
                                "fields": [
                                    {
                                        "name": "City"
                                    },
                                    {
                                        "name": "LastName"
                                    },
                                    {
                                        "name": "Balance"
                                    }
                                ]
                            },
                            "data": [
                                {
                                    "0": "Waterville",
                                    "1": "Venable",
                                    "2": "432.3000"
                                },
                                {
                                    "0": "Waterville",
                                    "1": "Baptist",
                                    "2": "1846.7500"
                                },
                                {
                                    "0": "Waterville",
                                    "1": "Wilson",
                                    "2": "2015.3000"
                                }
                            ]
                        },
                        "text/html": [
                            "<table>",
                            "<tr><th>City</th><th>LastName</th><th>Balance</th></tr>",
                            "<tr><td>Waterville</td><td>Venable</td><td>432.3000</td></tr>",
                            "<tr><td>Waterville</td><td>Baptist</td><td>1846.7500</td></tr>",
                            "<tr><td>Waterville</td><td>Wilson</td><td>2015.3000</td></tr>",
                            "</table>"
                        ]
                    }
                }
            ],
            "execution_count": 14
        },
        {
            "cell_type": "markdown",
            "source": [
                "Question 5: <span style=\"font-size:12.0pt;font-family:&quot;Times New Roman&quot;,serif;\n",
                "mso-fareast-font-family:&quot;Times New Roman&quot;;mso-ansi-language:EN-US;mso-fareast-language:\n",
                "EN-US;mso-bidi-language:AR-SA\">Write the SQL code for the following: List the session dates and numbers for those sessions scheduled between 10/18/2021 and 10/20/2021.&nbsp;</span> <span style=\"font-family: &quot;Times New Roman&quot;, serif; font-size: 16px;\">-- 0.5 points</span>"
            ],
            "metadata": {
                "azdata_cell_guid": "2546c2ad-2af0-4985-b4c7-8906eaec47d2"
            },
            "attachments": {}
        },
        {
            "cell_type": "code",
            "source": [
                "--Please enter the code for Question 5 below\r\n",
                "SELECT SessionDate, SessionNum FROM Session WHERE SessionDate BETWEEN '2021-10-18' AND  '2021-10-20';"
            ],
            "metadata": {
                "azdata_cell_guid": "4749af44-8dc3-404e-aa9d-4481c5b2054f",
                "language": "sql"
            },
            "outputs": [
                {
                    "output_type": "display_data",
                    "data": {
                        "text/html": "(4 rows affected)"
                    },
                    "metadata": {}
                },
                {
                    "output_type": "display_data",
                    "data": {
                        "text/html": "Total execution time: 00:00:00.010"
                    },
                    "metadata": {}
                },
                {
                    "output_type": "execute_result",
                    "metadata": {},
                    "execution_count": 15,
                    "data": {
                        "application/vnd.dataresource+json": {
                            "schema": {
                                "fields": [
                                    {
                                        "name": "SessionDate"
                                    },
                                    {
                                        "name": "SessionNum"
                                    }
                                ]
                            },
                            "data": [
                                {
                                    "0": "2021-10-18 00:00:00.000",
                                    "1": "35"
                                },
                                {
                                    "0": "2021-10-18 00:00:00.000",
                                    "1": "36"
                                },
                                {
                                    "0": "2021-10-19 00:00:00.000",
                                    "1": "37"
                                },
                                {
                                    "0": "2021-10-19 00:00:00.000",
                                    "1": "38"
                                }
                            ]
                        },
                        "text/html": [
                            "<table>",
                            "<tr><th>SessionDate</th><th>SessionNum</th></tr>",
                            "<tr><td>2021-10-18 00:00:00.000</td><td>35</td></tr>",
                            "<tr><td>2021-10-18 00:00:00.000</td><td>36</td></tr>",
                            "<tr><td>2021-10-19 00:00:00.000</td><td>37</td></tr>",
                            "<tr><td>2021-10-19 00:00:00.000</td><td>38</td></tr>",
                            "</table>"
                        ]
                    }
                }
            ],
            "execution_count": 15
        },
        {
            "cell_type": "markdown",
            "source": [
                "Question 6: <span style=\"font-size:12.0pt;font-family:&quot;Times New Roman&quot;,serif;\n",
                "mso-fareast-font-family:&quot;Times New Roman&quot;;mso-ansi-language:EN-US;mso-fareast-language:\n",
                "EN-US;mso-bidi-language:AR-SA\">Write the SQL code for the following: List the full name of the therapist scheduled to work on 10/16/2021.&nbsp;</span> <span style=\"font-family: &quot;Times New Roman&quot;, serif; font-size: 16px;\">-- 0.5 points</span>"
            ],
            "metadata": {
                "azdata_cell_guid": "8b2bea44-16e9-46b1-9295-212aa7b27fb5"
            },
            "attachments": {}
        },
        {
            "cell_type": "code",
            "source": [
                "--Please enter the code for Question 6 below\r\n",
                "SELECT FirstName, LastName FROM Therapist WHERE TherapistID IN \r\n",
                "(SELECT TherapistID FROM Session WHERE SessionDate = '2021-10-16');"
            ],
            "metadata": {
                "azdata_cell_guid": "9d1be4ae-1c1e-47d2-b94f-f96f3daf0f59",
                "language": "sql"
            },
            "outputs": [
                {
                    "output_type": "display_data",
                    "data": {
                        "text/html": "(1 row affected)"
                    },
                    "metadata": {}
                },
                {
                    "output_type": "display_data",
                    "data": {
                        "text/html": "Total execution time: 00:00:00.036"
                    },
                    "metadata": {}
                },
                {
                    "output_type": "execute_result",
                    "metadata": {},
                    "execution_count": 16,
                    "data": {
                        "application/vnd.dataresource+json": {
                            "schema": {
                                "fields": [
                                    {
                                        "name": "FirstName"
                                    },
                                    {
                                        "name": "LastName"
                                    }
                                ]
                            },
                            "data": [
                                {
                                    "0": "Jonathan",
                                    "1": "Risk"
                                }
                            ]
                        },
                        "text/html": [
                            "<table>",
                            "<tr><th>FirstName</th><th>LastName</th></tr>",
                            "<tr><td>Jonathan</td><td>Risk</td></tr>",
                            "</table>"
                        ]
                    }
                }
            ],
            "execution_count": 16
        },
        {
            "cell_type": "markdown",
            "source": [
                "Question 7: Write the SQL code that answers the following question: How long are the therapy sessions for the therapist whose last name is Shields? List the length of each session. <span style=\"font-family: &quot;Times New Roman&quot;, serif; font-size: 16px;\">-- 0.5 points</span>"
            ],
            "metadata": {
                "azdata_cell_guid": "e1529e3a-b6d4-44eb-b893-dc7c398f2441"
            },
            "attachments": {}
        },
        {
            "cell_type": "code",
            "source": [
                "--Please enter the code for Question 7 below\r\n",
                "SELECT LengthOfSession FROM Session WHERE TherapistID IN\r\n",
                "(SELECT TherapistID FROM Therapist WHERE LastName = 'Shields');"
            ],
            "metadata": {
                "azdata_cell_guid": "aec4dca4-a833-42f3-bebb-d73b5c42960d",
                "language": "sql"
            },
            "outputs": [
                {
                    "output_type": "display_data",
                    "data": {
                        "text/html": "(3 rows affected)"
                    },
                    "metadata": {}
                },
                {
                    "output_type": "display_data",
                    "data": {
                        "text/html": "Total execution time: 00:00:00.011"
                    },
                    "metadata": {}
                },
                {
                    "output_type": "execute_result",
                    "metadata": {},
                    "execution_count": 17,
                    "data": {
                        "application/vnd.dataresource+json": {
                            "schema": {
                                "fields": [
                                    {
                                        "name": "LengthOfSession"
                                    }
                                ]
                            },
                            "data": [
                                {
                                    "0": "30"
                                },
                                {
                                    "0": "90"
                                },
                                {
                                    "0": "60"
                                }
                            ]
                        },
                        "text/html": [
                            "<table>",
                            "<tr><th>LengthOfSession</th></tr>",
                            "<tr><td>30</td></tr>",
                            "<tr><td>90</td></tr>",
                            "<tr><td>60</td></tr>",
                            "</table>"
                        ]
                    }
                }
            ],
            "execution_count": 17
        },
        {
            "cell_type": "markdown",
            "source": [
                "Question 8: Write the SQL code that answers the following question: Which therapies have the word “movement” in their description? List the therapy description only. <span style=\"font-family: &quot;Times New Roman&quot;, serif; font-size: 16px;\">-- 0.5 points</span>"
            ],
            "metadata": {
                "azdata_cell_guid": "b4ef4ef6-f00a-42bf-8dc1-fbd697ce3af7"
            },
            "attachments": {}
        },
        {
            "cell_type": "code",
            "source": [
                "--Please enter the code for Question 8 below\r\n",
                "SELECT Description FROM Therapies WHERE Description LIKE '%movement%';"
            ],
            "metadata": {
                "azdata_cell_guid": "bebe7ae5-107d-4a47-a09d-a9db93c4d912",
                "language": "sql"
            },
            "outputs": [
                {
                    "output_type": "display_data",
                    "data": {
                        "text/html": "(1 row affected)"
                    },
                    "metadata": {}
                },
                {
                    "output_type": "display_data",
                    "data": {
                        "text/html": "Total execution time: 00:00:00.010"
                    },
                    "metadata": {}
                },
                {
                    "output_type": "execute_result",
                    "metadata": {},
                    "execution_count": 18,
                    "data": {
                        "application/vnd.dataresource+json": {
                            "schema": {
                                "fields": [
                                    {
                                        "name": "Description"
                                    }
                                ]
                            },
                            "data": [
                                {
                                    "0": "Neuromuscular re-education of movement, balance, coordination, etc. "
                                }
                            ]
                        },
                        "text/html": [
                            "<table>",
                            "<tr><th>Description</th></tr>",
                            "<tr><td>Neuromuscular re-education of movement, balance, coordination, etc. </td></tr>",
                            "</table>"
                        ]
                    }
                }
            ],
            "execution_count": 18
        },
        {
            "cell_type": "markdown",
            "source": [
                "Question 9: Write the SQL code that answers the following question: How many therapies are offered? Answer with one number only. <span style=\"font-family: &quot;Times New Roman&quot;, serif; font-size: 16px;\">-- 0.5 points</span>"
            ],
            "metadata": {
                "azdata_cell_guid": "397076fd-0e6a-421f-90fc-cc9316bb97ec"
            },
            "attachments": {}
        },
        {
            "cell_type": "code",
            "source": [
                "--Please enter the code for Question 9 below\r\n",
                "SELECT COUNT(TherapyCode) AS \"Number of Therapies\" FROM Therapies;"
            ],
            "metadata": {
                "azdata_cell_guid": "96508702-ebbc-4825-b7ec-5cb99ff83fda",
                "language": "sql"
            },
            "outputs": [
                {
                    "output_type": "display_data",
                    "data": {
                        "text/html": "(1 row affected)"
                    },
                    "metadata": {}
                },
                {
                    "output_type": "display_data",
                    "data": {
                        "text/html": "Total execution time: 00:00:00.004"
                    },
                    "metadata": {}
                },
                {
                    "output_type": "execute_result",
                    "metadata": {},
                    "execution_count": 19,
                    "data": {
                        "application/vnd.dataresource+json": {
                            "schema": {
                                "fields": [
                                    {
                                        "name": "Number of Therapies"
                                    }
                                ]
                            },
                            "data": [
                                {
                                    "0": "31"
                                }
                            ]
                        },
                        "text/html": [
                            "<table>",
                            "<tr><th>Number of Therapies</th></tr>",
                            "<tr><td>31</td></tr>",
                            "</table>"
                        ]
                    }
                }
            ],
            "execution_count": 19
        },
        {
            "cell_type": "markdown",
            "source": [
                "Question 10: Write an SQL query that displays the therapies and their unit of time for the therapies that include the word bath, hot, or electrical. <span style=\"font-family: &quot;Times New Roman&quot;, serif; font-size: 16px;\">-- 0.5 points</span>"
            ],
            "metadata": {
                "azdata_cell_guid": "6253bfeb-ae5a-4436-bc9c-0ce67dbcd807"
            },
            "attachments": {}
        },
        {
            "cell_type": "code",
            "source": [
                "--Please enter the code for Question 10 below\r\n",
                "SELECT Description, UnitOfTime FROM Therapies WHERE \r\n",
                "(Description LIKE '%bath%' OR Description LIKE '%hot%' OR Description LIKE '%electrical%');"
            ],
            "metadata": {
                "azdata_cell_guid": "d13e33d0-8080-44fa-bbf3-d399f02926ce",
                "language": "sql"
            },
            "outputs": [
                {
                    "output_type": "display_data",
                    "data": {
                        "text/html": "(4 rows affected)"
                    },
                    "metadata": {}
                },
                {
                    "output_type": "display_data",
                    "data": {
                        "text/html": "Total execution time: 00:00:00.008"
                    },
                    "metadata": {}
                },
                {
                    "output_type": "execute_result",
                    "metadata": {},
                    "execution_count": 20,
                    "data": {
                        "application/vnd.dataresource+json": {
                            "schema": {
                                "fields": [
                                    {
                                        "name": "Description"
                                    },
                                    {
                                        "name": "UnitOfTime"
                                    }
                                ]
                            },
                            "data": [
                                {
                                    "0": "Hot or cold pack application",
                                    "1": "NULL"
                                },
                                {
                                    "0": "Electrical stimulation",
                                    "1": "NULL"
                                },
                                {
                                    "0": "Paraffin bath",
                                    "1": "NULL"
                                },
                                {
                                    "0": "Electrical stimulation ",
                                    "1": "15"
                                }
                            ]
                        },
                        "text/html": [
                            "<table>",
                            "<tr><th>Description</th><th>UnitOfTime</th></tr>",
                            "<tr><td>Hot or cold pack application</td><td>NULL</td></tr>",
                            "<tr><td>Electrical stimulation</td><td>NULL</td></tr>",
                            "<tr><td>Paraffin bath</td><td>NULL</td></tr>",
                            "<tr><td>Electrical stimulation </td><td>15</td></tr>",
                            "</table>"
                        ]
                    }
                }
            ],
            "execution_count": 20
        }
    ]
}