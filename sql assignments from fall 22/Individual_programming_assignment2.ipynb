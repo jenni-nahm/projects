{
    "metadata": {
        "kernelspec": {
            "name": "SQL",
            "display_name": "SQL",
            "language": "sql"
        },
        "language_info": {
            "name": "sql",
            "version": ""
        }
    },
    "nbformat_minor": 2,
    "nbformat": 4,
    "cells": [
        {
            "cell_type": "markdown",
            "source": [
                "FOLLOW THE BELOW INSTRUCTIONS:\n",
                "\n",
                "Step 1: Create a database named ORES5160\\_Individual\\_Programming\\_Assignment2\n",
                "\n",
                "Step 2: Then in this .ipynb file, click on \"Attach to\".\n",
                "\n",
                "Step 3: Then Click on Change Connection.\n",
                "\n",
                "Step 4: Choose the appropriate server, and the database should point to ORES5160\\_Individual\\_Programming\\_Assignment2\n",
                "\n",
                "Step 5: Please read the below text and complete the assignment below.\n",
                "\n",
                "Step 6: Please complete assignment 2 below by including writing SQL codes within appropriate code chunks for all 14 questions and running them. After that click on save and submit the Individual\\_programming\\_assignment2.ipynb file in Canvas."
            ],
            "metadata": {
                "azdata_cell_guid": "28a4b0a2-968d-4251-9825-e6da1aae88c7"
            },
            "attachments": {}
        },
        {
            "cell_type": "markdown",
            "source": [
                "<span style=\"color:rgb(0, 125, 184);font-family:&quot;Open Sans&quot;, Tahoma, Arial, sans-serif;font-size:31.68px;background-color:rgb(255, 255, 255);\">Introduction to the Pitt Fitness Database Case</span>\n",
                "\n",
                "Pitt Fitness is a chain of three fitness centers that offer classes to the residents of Pittsburgh, Pennsylvania. The centers design classes for all ages and do not charge a monthly fee. The owners of Pitt Fitness have found that their clients enjoy the concept of paying per class, resulting in a lively revenue stream with this model.\n",
                "\n",
                "The managers at Pitt Fitness use a database management system to record their customers, instructors, classes, and class reservations. Each instructor is[]() identified by a unique InstructorID, which contains two letters and two numbers. Other information about the instructors is their full name, street address, email address, and telephone number. Each class has a ClassID, which is a unique identification number. Other class information includes class name, center and room identification, length of time, maximum size, category, day of the week and time, plus a brief description. Each customer is identified by a unique customer number. In addition, management stores each customer’s last name, first name, street address, city, state, zip code, email address, phone number, and birth date. Each reservation is identified by a unique number that uses the last two digits of the current year followed by a five-digit number that is incremented[]()[]() sequentially as each reservation is received. The table also stores the identification number of the class, the date of the class, the price of the class, and any other fees associated with the class. Finally, the customer’s unique identification number is included. The table named ClassInstructors is used to relate classes and instructors. It includes the class number and the instructor number. The class number in the ClassInstructors table matches a class number in the Classes table, and the instructor number in the ClassInstructors table matches an instructor number in the Instructors table. Note that some classes use more than one instructor."
            ],
            "metadata": {
                "azdata_cell_guid": "5b4d87f8-3500-4328-94c5-847d145f7fe2"
            },
            "attachments": {}
        },
        {
            "cell_type": "markdown",
            "source": [
                "Please complete assignment 2 below by including writing SQL codes within appropriate code chunks for all 14 questions and running them. After that click on save and submit the Individual\\_programming\\_assignment2.ipynb file in Canvas."
            ],
            "metadata": {
                "azdata_cell_guid": "b8425f0a-180a-4f64-814f-fbf1a692f2a3"
            },
            "attachments": {}
        },
        {
            "cell_type": "markdown",
            "source": [
                "Question 1: Write command for: Dropping a table named Classes if it already exists.  -- 0.1 points\n",
                "\n",
                "                    Create a table named classes. It should have the below columns:  -- 0.4 points\n",
                "\n",
                "                    ClassID  as an integer datatype, should not accept null values, and is also a Primary key, \n",
                "\n",
                "                    ClassName as VARCHAR(50) datatype, \n",
                "\n",
                "                    Room as VARCHAR(25) datatype,\n",
                "\n",
                "                    Location as VARCHAR(25) datatype, \n",
                "\n",
                "                    LengthofTime as Numeric datatype and can accept Null values,\n",
                "\n",
                "                    MaxSize as Numeric datatype and can accept Null values,\n",
                "\n",
                " <span style=\"background-color: rgb(255, 255, 254);\">&nbsp; &nbsp; &nbsp; &nbsp; &nbsp; &nbsp; &nbsp; &nbsp; &nbsp; &nbsp; TypeofClass as VARCHAR(25) datatype,</span>\n",
                "\n",
                "                    Day as VARCHAR(25) datatype, \n",
                "\n",
                "                    Time as DATETIME datatype, \n",
                "\n",
                "                    Description as VARCHAR(255) datatype."
            ],
            "metadata": {
                "azdata_cell_guid": "d5ea2938-b3d5-4c8f-9584-69e21cbf1300"
            },
            "attachments": {}
        },
        {
            "cell_type": "code",
            "source": [
                "-- --------------------------------------------------------\r\n",
                "--  Dropping a table named Classes if it already exists \r\n",
                "-- --------------------------------------------------------\r\n",
                "DROP TABLE Classes;\r\n",
                "\r\n",
                "-- --------------------------------------------------------\r\n",
                "--  Create a table named Classes  \r\n",
                "-- --------------------------------------------------------\r\n",
                "CREATE TABLE Classes (\r\n",
                "    ClassID INTEGER NOT NULL,\r\n",
                "    ClassName VARCHAR(50),\r\n",
                "    Room VARCHAR(25),\r\n",
                "    Location VARCHAR(25),\r\n",
                "    LengthofTime NUMERIC, \r\n",
                "    MaxSize NUMERIC,\r\n",
                "    TypeofClass VARCHAR(25),\r\n",
                "    Day VARCHAR(25),\r\n",
                "    Time DATETIME,\r\n",
                "    Description VARCHAR(255)\r\n",
                "    CONSTRAINT ClassesPK PRIMARY KEY (ClassID));\r\n",
                "\r\n",
                "-- --------------------------------------------------------"
            ],
            "metadata": {
                "azdata_cell_guid": "c55a9c1e-de54-46d1-9502-15d72f951d87",
                "language": "sql"
            },
            "outputs": [
                {
                    "output_type": "display_data",
                    "data": {
                        "text/html": "Commands completed successfully."
                    },
                    "metadata": {}
                },
                {
                    "output_type": "display_data",
                    "data": {
                        "text/html": "Total execution time: 00:00:00.015"
                    },
                    "metadata": {}
                }
            ],
            "execution_count": 15
        },
        {
            "cell_type": "markdown",
            "source": [
                "Question 2: Insert the below rows separated by commas for the respective columns for the Classes table. -- 0.5 points\n",
                "\n",
                "                    ClassID ,  ClassName    ,    Room    ,   Location          ,    LengthofTime        ,      MaxSize   ,   TypeofClass   ,  Day          ,     Time                                  , Description\n",
                "\n",
                "                     1         , 'Combination' ,   '159B'     ,   'Shadyside'      ,       60                       ,       40           ,    'Combo'       ,  'Saturday' ,     '1899-12-30 09:00:00'       , 'Cardio, strength, flexibility'\n",
                "\n",
                "                     2         , 'Yogalates'      ,     '342'     ,    'Downtown'    ,       60                       ,        25          ,     'Core'          ,   'Monday' ,      '1899-12-30 06:00:00'      , 'Yoga and pilates fundamentals'\n",
                "\n",
                "                     3         , 'Barbell Power',     'Main'  ,    'Oakland'        ,       60                       ,        25          ,      'Strength'   ,   'Tuesday' ,      '1899-12-30 08:00:00'      , 'Barbell program'\n",
                "\n",
                "                     4         , 'Intense Cycle',      '163'    ,    'Shadyside'     ,       30                       ,        25          ,       'Cardio'     , 'Saturday'  ,       '1899-12-30 10:00:00'     ,  'Sprint'\n",
                "\n",
                "                     5         , 'Zumba'         ,       '159B'  ,    'Shadyside'     ,       60                       ,        25          ,       'Cardio'     , 'Saturday' ,        '1899-12-30 10:00:00'     , 'Zumba dance'\n",
                "\n",
                "                     6         , 'Low Impact Aerobics', 'Main', 'Oakland', 60, 25, 'Cardio', 'Tuesday', '1899-12-30 11:00:00', 'Low impact aerobics'\n",
                "\n",
                "                     7, 'Yoga', '342', 'Downtown', 60, 25, 'Core', 'Tuesday', '1899-12-30 07:00:00', 'Traditional yoga'\n",
                "\n",
                "                     8, 'Yoga Balance', 'Main', 'Oakland', 60, 25, 'Core', 'Thursday', '1899-12-30 08:00:00', 'Balance yoga'\n",
                "\n",
                "                     9, 'Barre', 'Main', 'Oakland', 60, 25, 'Core', 'Thursday', '1899-12-30 09:00:00', 'Pilates yoga and aerobics'\n",
                "\n",
                "                     10, 'Barre Limited', '342', 'Downtown', 30, 25, 'Core', 'Wednesday', '1899-12-30 17:30:00', 'Barre brief'\n",
                "\n",
                "                     11, 'Maturity Endurance and Strength', 'Main', 'Oakland', 60, 25, 'Strength', 'Friday', '1899-12-30 10:30:00', 'Cardio, strength, flexibility for older adults'\n",
                "\n",
                "                     12, 'Maturity Classics', '159B', 'Shadyside', 60, 25, 'Strength', 'Wednesday', '1899-12-30 07:00:00', 'Strength and movement for older Adults'\n",
                "\n",
                "                     13, 'Agility for Seniors', 'Main', 'Oakland', 60, 25, 'Core', 'Friday', '1899-12-30 09:30:00', 'Agility for older adults'\n",
                "\n",
                "                     14, 'HIIT', '315', 'Downtown', 30, 25, 'Cardio', 'Thursday', '1899-12-30 18:00:00', 'High intensity interval drills'    \n",
                "\n",
                "                     15, 'Bootcamp', '159B', 'Shadyside', 30, 25, 'Cardio', 'Saturday', '1899-12-30 11:00:00', 'Weight training and cardio'\n",
                "\n",
                "                     16, 'Cycle', '320', 'Downtown', 60, 25, 'Cardio', 'Friday', '1899-12-30 06:30:00', 'Sprints and climbs'\n",
                "\n",
                "                     17, 'Cycle and Strength', '163', 'Shadyside', 60, 25, 'Cardio', 'Sunday', '1899-12-30 12:30:00', 'Cycle and strength'\n",
                "\n",
                "                     18, 'Aquasize', 'Pool', 'Oakland', 60, 25, 'Cardio', 'Tuesday', '1899-12-30 14:00:00', 'Low impact cardio water exercise'\n",
                "\n",
                "                     19, 'Aqua Strength and Cardio', '125P', 'Shadyside', 60, 25, 'Cardio', 'Wednesday', '1899-12-30 06:00:00', 'Strength and cardio in the water'  \n",
                "\n",
                "                      20, 'Aqua Calm', 'Pool', 'Oakland', 45, 25, 'Strength', 'Tuesday', '1899-12-30 13:00:00', 'Low impact water exercise'\n",
                "\n",
                "                      21, 'Combination', '159B', 'Shadyside', 60, 40, 'Combo', 'Sunday', '1899-12-30 09:00:00', 'Cardio, strength, flexibility'\n",
                "\n",
                "                      22, 'Yogalates', '342', 'Downtown', 60, 25, 'Core', 'Tuesday', '1899-12-30 06:00:00', 'Yoga and pilates fundamentals'\n",
                "\n",
                "                      23, 'Barbell Power', 'Main', 'Oakland', 60, 25, 'Strength', 'Wednesday', '1899-12-30 08:00:00', 'Barbell program'\n",
                "\n",
                "                      24, 'Intense Cycle', '163', 'Shadyside', 30, 25, 'Cardio', 'Sunday', '1899-12-30 10:00:00', 'Sprint'\n",
                "\n",
                "                      25, 'Zumba', '159B', 'Shadyside', 60, 25, 'Cardio', 'Sunday', '1899-12-30 10:00:00', 'Zumba dance'\n",
                "\n",
                "                      26, 'Low Impact Aerobics', 'Main', 'Oakland', 60, 25, 'Cardio', 'Wednesday', '1899-12-30 11:00:00', 'Low impact aerobics'\n",
                "\n",
                "                      27, 'Yoga', '342', 'Downtown', 60, 25, 'Core', 'Wednesday', '1899-12-30 06:00:00', 'Traditional yoga'\n",
                "\n",
                "                      28, 'Yoga Balance', 'Main', 'Oakland', 60, 25, 'Core', 'Friday', '1899-12-30 08:00:00', 'Balance yoga'\n",
                "\n",
                "                      29, 'Barre', 'Main', 'Oakland', 60, 25, 'Core', 'Friday', '1899-12-30 09:00:00', 'Pilates yoga and aerobics'\n",
                "\n",
                "                      30, 'Barre Limited', '342', 'Downtown', 30, 25, 'Core', 'Thursday', '1899-12-30 17:30:00', 'Barre brief'\n",
                "\n",
                "                      31, 'Maturity Endurance and Strength', 'Main', 'Oakland', 60, 25, 'Strength', 'Saturday', '1899-12-30 10:30:00', 'Cardio, strength, flexibility for older adults'\n",
                "\n",
                "                      32, 'Maturity Classics', '159B', 'Shadyside', 60, 25, 'Strength', 'Thursday', '1899-12-30 07:00:00', 'Strength and movement for older adults'\n",
                "\n",
                "                      33, 'Agility for Seniors', 'Main', 'Oakland', 60, 25, 'Core', 'Saturday', '1899-12-30 09:30:00', 'Agility for older adults'\n",
                "\n",
                "                      34, 'HIIT', '315', 'Downtown', 30, 25, 'Cardio', 'Friday', '1899-12-30 18:00:00', 'High intensity interval drills'\n",
                "\n",
                "                      35, 'Bootcamp', '159B', 'Shadyside', 30, 25, 'Cardio', 'Sunday', '1899-12-30 11:00:00', 'Weight training and cardio'\n",
                "\n",
                "                      36, 'Cycle', '320', 'Downtown', 60, 25, 'Cardio', 'Saturday', '1899-12-30 06:30:00', 'Sprints and climbs'\n",
                "\n",
                "                      37, 'Cycle and Strength', '163', 'Shadyside', 60, 25, 'Cardio', 'Monday', '1899-12-30 12:30:00', 'Cycle and strength'\n",
                "\n",
                "                      38, 'Aquasize', 'Pool', 'Oakland', 60, 25, 'Cardio', 'Wednesday', '1899-12-30 14:00:00', 'Low impact cardio water exercise'\n",
                "\n",
                "                      39, 'Aqua Strength and Cardio', '125P', 'Shadyside', 60, 25, 'Cardio', 'Thursday', '1899-12-30 06:00:00', 'Strength and cardio in the water'\n",
                "\n",
                "                      40, 'Aqua Calm', 'Pool', 'Oakland', 45, 25, 'Strength', 'Wednesday', '1899-12-30 13:00:00', 'Low impact water exercise'"
            ],
            "metadata": {
                "azdata_cell_guid": "afa88549-cd84-4c29-8877-8af5c93033bf"
            },
            "attachments": {}
        },
        {
            "cell_type": "code",
            "source": [
                "-- --------------------------------------------------------\r\n",
                "-- Dumping data for table 'Classes'\r\n",
                "-- --------------------------------------------------------\r\n",
                "INSERT INTO Classes VALUES(1, 'Combination' , '159B' , 'Shadyside' , 60 , 40 , 'Combo' , 'Saturday' , '1899-12-30 09:00:00' , 'Cardio, strength, flexibility');\r\n",
                "INSERT INTO Classes VALUES(2 , 'Yogalates' , '342' , 'Downtown' , 60 , 25 , 'Core' , 'Monday' , '1899-12-30 06:00:00' , 'Yoga and pilates fundamentals');\r\n",
                "INSERT INTO Classes VALUES(3 , 'Barbell Power', 'Main' , 'Oakland' , 60 , 25 , 'Strength' , 'Tuesday' , '1899-12-30 08:00:00' , 'Barbell program');\r\n",
                "INSERT INTO Classes VALUES(4 , 'Intense Cycle', '163' , 'Shadyside' , 30 , 25 , 'Cardio' , 'Saturday' , '1899-12-30 10:00:00' , 'Sprint');\r\n",
                "INSERT INTO Classes VALUES(5 , 'Zumba' , '159B' , 'Shadyside' , 60 , 25 , 'Cardio' , 'Saturday' , '1899-12-30 10:00:00' , 'Zumba dance');\r\n",
                "INSERT INTO Classes VALUES(6 , 'Low Impact Aerobics', 'Main', 'Oakland', 60, 25, 'Cardio', 'Tuesday', '1899-12-30 11:00:00', 'Low impact aerobics');\r\n",
                "INSERT INTO Classes VALUES(7, 'Yoga', '342', 'Downtown', 60, 25, 'Core', 'Tuesday', '1899-12-30 07:00:00', 'Traditional yoga');\r\n",
                "INSERT INTO Classes VALUES(8, 'Yoga Balance', 'Main', 'Oakland', 60, 25, 'Core', 'Thursday', '1899-12-30 08:00:00', 'Balance yoga');\r\n",
                "INSERT INTO Classes VALUES(9, 'Barre', 'Main', 'Oakland', 60, 25, 'Core', 'Thursday', '1899-12-30 09:00:00', 'Pilates yoga and aerobics');\r\n",
                "INSERT INTO Classes VALUES(10, 'Barre Limited', '342', 'Downtown', 30, 25, 'Core', 'Wednesday', '1899-12-30 17:30:00', 'Barre brief');\r\n",
                "INSERT INTO Classes VALUES(11, 'Maturity Endurance and Strength', 'Main', 'Oakland', 60, 25, 'Strength', 'Friday', '1899-12-30 10:30:00', 'Cardio, strength, flexibility for older adults');\r\n",
                "INSERT INTO Classes VALUES(12, 'Maturity Classics', '159B', 'Shadyside', 60, 25, 'Strength', 'Wednesday', '1899-12-30 07:00:00', 'Strength and movement for older Adults');\r\n",
                "INSERT INTO Classes VALUES(13, 'Agility for Seniors', 'Main', 'Oakland', 60, 25, 'Core', 'Friday', '1899-12-30 09:30:00', 'Agility for older adults');\r\n",
                "INSERT INTO Classes VALUES(14, 'HIIT', '315', 'Downtown', 30, 25, 'Cardio', 'Thursday', '1899-12-30 18:00:00', 'High intensity interval drills' );\r\n",
                "INSERT INTO Classes VALUES(15, 'Bootcamp', '159B', 'Shadyside', 30, 25, 'Cardio', 'Saturday', '1899-12-30 11:00:00', 'Weight training and cardio');\r\n",
                "INSERT INTO Classes VALUES(16, 'Cycle', '320', 'Downtown', 60, 25, 'Cardio', 'Friday', '1899-12-30 06:30:00', 'Sprints and climbs');\r\n",
                "INSERT INTO Classes VALUES(17, 'Cycle and Strength', '163', 'Shadyside', 60, 25, 'Cardio', 'Sunday', '1899-12-30 12:30:00', 'Cycle and strength');\r\n",
                "INSERT INTO Classes VALUES(18, 'Aquasize', 'Pool', 'Oakland', 60, 25, 'Cardio', 'Tuesday', '1899-12-30 14:00:00', 'Low impact cardio water exercise');\r\n",
                "INSERT INTO Classes VALUES(19, 'Aqua Strength and Cardio', '125P', 'Shadyside', 60, 25, 'Cardio', 'Wednesday', '1899-12-30 06:00:00', 'Strength and cardio in the water');\r\n",
                "INSERT INTO Classes VALUES(20, 'Aqua Calm', 'Pool', 'Oakland', 45, 25, 'Strength', 'Tuesday', '1899-12-30 13:00:00', 'Low impact water exercise');\r\n",
                "INSERT INTO Classes VALUES(21, 'Combination', '159B', 'Shadyside', 60, 40, 'Combo', 'Sunday', '1899-12-30 09:00:00', 'Cardio, strength, flexibility');\r\n",
                "INSERT INTO Classes VALUES(22, 'Yogalates', '342', 'Downtown', 60, 25, 'Core', 'Tuesday', '1899-12-30 06:00:00', 'Yoga and pilates fundamentals');\r\n",
                "INSERT INTO Classes VALUES(23, 'Barbell Power', 'Main', 'Oakland', 60, 25, 'Strength', 'Wednesday', '1899-12-30 08:00:00', 'Barbell program');\r\n",
                "INSERT INTO Classes VALUES(24, 'Intense Cycle', '163', 'Shadyside', 30, 25, 'Cardio', 'Sunday', '1899-12-30 10:00:00', 'Sprint');\r\n",
                "INSERT INTO Classes VALUES(25, 'Zumba', '159B', 'Shadyside', 60, 25, 'Cardio', 'Sunday', '1899-12-30 10:00:00', 'Zumba dance');\r\n",
                "INSERT INTO Classes VALUES(26, 'Low Impact Aerobics', 'Main', 'Oakland', 60, 25, 'Cardio', 'Wednesday', '1899-12-30 11:00:00', 'Low impact aerobics');\r\n",
                "INSERT INTO Classes VALUES(27, 'Yoga', '342', 'Downtown', 60, 25, 'Core', 'Wednesday', '1899-12-30 06:00:00', 'Traditional yoga');\r\n",
                "INSERT INTO Classes VALUES(28, 'Yoga Balance', 'Main', 'Oakland', 60, 25, 'Core', 'Friday', '1899-12-30 08:00:00', 'Balance yoga');\r\n",
                "INSERT INTO Classes VALUES(29, 'Barre', 'Main', 'Oakland', 60, 25, 'Core', 'Friday', '1899-12-30 09:00:00', 'Pilates yoga and aerobics');\r\n",
                "INSERT INTO Classes VALUES(30, 'Barre Limited', '342', 'Downtown', 30, 25, 'Core', 'Thursday', '1899-12-30 17:30:00', 'Barre brief');\r\n",
                "INSERT INTO Classes VALUES(31, 'Maturity Endurance and Strength', 'Main', 'Oakland', 60, 25, 'Strength', 'Saturday', '1899-12-30 10:30:00', 'Cardio, strength, flexibility for older adults');\r\n",
                "INSERT INTO Classes VALUES(32, 'Maturity Classics', '159B', 'Shadyside', 60, 25, 'Strength', 'Thursday', '1899-12-30 07:00:00', 'Strength and movement for older adults');\r\n",
                "INSERT INTO Classes VALUES(33, 'Agility for Seniors', 'Main', 'Oakland', 60, 25, 'Core', 'Saturday', '1899-12-30 09:30:00', 'Agility for older adults');\r\n",
                "INSERT INTO Classes VALUES(34, 'HIIT', '315', 'Downtown', 30, 25, 'Cardio', 'Friday', '1899-12-30 18:00:00', 'High intensity interval drills');\r\n",
                "INSERT INTO Classes VALUES(35, 'Bootcamp', '159B', 'Shadyside', 30, 25, 'Cardio', 'Sunday', '1899-12-30 11:00:00', 'Weight training and cardio');\r\n",
                "INSERT INTO Classes VALUES(36, 'Cycle', '320', 'Downtown', 60, 25, 'Cardio', 'Saturday', '1899-12-30 06:30:00', 'Sprints and climbs');\r\n",
                "INSERT INTO Classes VALUES(37, 'Cycle and Strength', '163', 'Shadyside', 60, 25, 'Cardio', 'Monday', '1899-12-30 12:30:00', 'Cycle and strength');\r\n",
                "INSERT INTO Classes VALUES(38, 'Aquasize', 'Pool', 'Oakland', 60, 25, 'Cardio', 'Wednesday', '1899-12-30 14:00:00', 'Low impact cardio water exercise');\r\n",
                "INSERT INTO Classes VALUES(39, 'Aqua Strength and Cardio', '125P', 'Shadyside', 60, 25, 'Cardio', 'Thursday', '1899-12-30 06:00:00', 'Strength and cardio in the water');\r\n",
                "INSERT INTO Classes VALUES(40, 'Aqua Calm', 'Pool', 'Oakland', 45, 25, 'Strength', 'Wednesday', '1899-12-30 13:00:00', 'Low impact water exercise');\r\n",
                "\r\n",
                "--------------------------------------------------------"
            ],
            "metadata": {
                "azdata_cell_guid": "292cee0c-ab34-4982-92d1-3c1f67a9b0b1",
                "language": "sql"
            },
            "outputs": [
                {
                    "output_type": "display_data",
                    "data": {
                        "text/html": "(1 row affected)"
                    },
                    "metadata": {}
                },
                {
                    "output_type": "display_data",
                    "data": {
                        "text/html": "(1 row affected)"
                    },
                    "metadata": {}
                },
                {
                    "output_type": "display_data",
                    "data": {
                        "text/html": "(1 row affected)"
                    },
                    "metadata": {}
                },
                {
                    "output_type": "display_data",
                    "data": {
                        "text/html": "(1 row affected)"
                    },
                    "metadata": {}
                },
                {
                    "output_type": "display_data",
                    "data": {
                        "text/html": "(1 row affected)"
                    },
                    "metadata": {}
                },
                {
                    "output_type": "display_data",
                    "data": {
                        "text/html": "(1 row affected)"
                    },
                    "metadata": {}
                },
                {
                    "output_type": "display_data",
                    "data": {
                        "text/html": "(1 row affected)"
                    },
                    "metadata": {}
                },
                {
                    "output_type": "display_data",
                    "data": {
                        "text/html": "(1 row affected)"
                    },
                    "metadata": {}
                },
                {
                    "output_type": "display_data",
                    "data": {
                        "text/html": "(1 row affected)"
                    },
                    "metadata": {}
                },
                {
                    "output_type": "display_data",
                    "data": {
                        "text/html": "(1 row affected)"
                    },
                    "metadata": {}
                },
                {
                    "output_type": "display_data",
                    "data": {
                        "text/html": "(1 row affected)"
                    },
                    "metadata": {}
                },
                {
                    "output_type": "display_data",
                    "data": {
                        "text/html": "(1 row affected)"
                    },
                    "metadata": {}
                },
                {
                    "output_type": "display_data",
                    "data": {
                        "text/html": "(1 row affected)"
                    },
                    "metadata": {}
                },
                {
                    "output_type": "display_data",
                    "data": {
                        "text/html": "(1 row affected)"
                    },
                    "metadata": {}
                },
                {
                    "output_type": "display_data",
                    "data": {
                        "text/html": "(1 row affected)"
                    },
                    "metadata": {}
                },
                {
                    "output_type": "display_data",
                    "data": {
                        "text/html": "(1 row affected)"
                    },
                    "metadata": {}
                },
                {
                    "output_type": "display_data",
                    "data": {
                        "text/html": "(1 row affected)"
                    },
                    "metadata": {}
                },
                {
                    "output_type": "display_data",
                    "data": {
                        "text/html": "(1 row affected)"
                    },
                    "metadata": {}
                },
                {
                    "output_type": "display_data",
                    "data": {
                        "text/html": "(1 row affected)"
                    },
                    "metadata": {}
                },
                {
                    "output_type": "display_data",
                    "data": {
                        "text/html": "(1 row affected)"
                    },
                    "metadata": {}
                },
                {
                    "output_type": "display_data",
                    "data": {
                        "text/html": "(1 row affected)"
                    },
                    "metadata": {}
                },
                {
                    "output_type": "display_data",
                    "data": {
                        "text/html": "(1 row affected)"
                    },
                    "metadata": {}
                },
                {
                    "output_type": "display_data",
                    "data": {
                        "text/html": "(1 row affected)"
                    },
                    "metadata": {}
                },
                {
                    "output_type": "display_data",
                    "data": {
                        "text/html": "(1 row affected)"
                    },
                    "metadata": {}
                },
                {
                    "output_type": "display_data",
                    "data": {
                        "text/html": "(1 row affected)"
                    },
                    "metadata": {}
                },
                {
                    "output_type": "display_data",
                    "data": {
                        "text/html": "(1 row affected)"
                    },
                    "metadata": {}
                },
                {
                    "output_type": "display_data",
                    "data": {
                        "text/html": "(1 row affected)"
                    },
                    "metadata": {}
                },
                {
                    "output_type": "display_data",
                    "data": {
                        "text/html": "(1 row affected)"
                    },
                    "metadata": {}
                },
                {
                    "output_type": "display_data",
                    "data": {
                        "text/html": "(1 row affected)"
                    },
                    "metadata": {}
                },
                {
                    "output_type": "display_data",
                    "data": {
                        "text/html": "(1 row affected)"
                    },
                    "metadata": {}
                },
                {
                    "output_type": "display_data",
                    "data": {
                        "text/html": "(1 row affected)"
                    },
                    "metadata": {}
                },
                {
                    "output_type": "display_data",
                    "data": {
                        "text/html": "(1 row affected)"
                    },
                    "metadata": {}
                },
                {
                    "output_type": "display_data",
                    "data": {
                        "text/html": "(1 row affected)"
                    },
                    "metadata": {}
                },
                {
                    "output_type": "display_data",
                    "data": {
                        "text/html": "(1 row affected)"
                    },
                    "metadata": {}
                },
                {
                    "output_type": "display_data",
                    "data": {
                        "text/html": "(1 row affected)"
                    },
                    "metadata": {}
                },
                {
                    "output_type": "display_data",
                    "data": {
                        "text/html": "(1 row affected)"
                    },
                    "metadata": {}
                },
                {
                    "output_type": "display_data",
                    "data": {
                        "text/html": "(1 row affected)"
                    },
                    "metadata": {}
                },
                {
                    "output_type": "display_data",
                    "data": {
                        "text/html": "(1 row affected)"
                    },
                    "metadata": {}
                },
                {
                    "output_type": "display_data",
                    "data": {
                        "text/html": "(1 row affected)"
                    },
                    "metadata": {}
                },
                {
                    "output_type": "display_data",
                    "data": {
                        "text/html": "(1 row affected)"
                    },
                    "metadata": {}
                },
                {
                    "output_type": "display_data",
                    "data": {
                        "text/html": "Total execution time: 00:00:00.047"
                    },
                    "metadata": {}
                }
            ],
            "execution_count": 16
        },
        {
            "cell_type": "markdown",
            "source": [
                "Question 3: Write command for: Dropping a table named ClassInstructors if it already exists.  -- 0.1 points\n",
                "\n",
                "                    Create a table named ClassInstructors. The primary key for this table will be a composite primary key of (ClassID, InstructorID). It should have the below columns:  -- 0.4 points\n",
                "\n",
                "                    ClassID as an integer datatype and should not accept null values,\n",
                "\n",
                "                    InstructorID as VARCHAR(7) datatype and should not accept null values."
            ],
            "metadata": {
                "azdata_cell_guid": "76a3df04-0bc4-4fe5-8992-ccace74f92fe"
            },
            "attachments": {}
        },
        {
            "cell_type": "code",
            "source": [
                "-- --------------------------------------------------------\r\n",
                "--  Dropping a table named ClassInstructors if it already exists \r\n",
                "-- --------------------------------------------------------\r\n",
                "DROP TABLE ClassInstructors;\r\n",
                "\r\n",
                "-- --------------------------------------------------------\r\n",
                "--  Create a table named ClassInstructors  \r\n",
                "-- --------------------------------------------------------\r\n",
                "CREATE TABLE ClassInstructors(\r\n",
                "    ClassID INTEGER NOT NULL,\r\n",
                "    InstructorID VARCHAR(7) NOT NULL,\r\n",
                "    CONSTRAINT ClassInstructorsPK PRIMARY KEY (ClassID, InstructorID));\r\n",
                "\r\n",
                "-- --------------------------------------------------------"
            ],
            "metadata": {
                "azdata_cell_guid": "9bd9354a-e2a3-443c-9a2c-a851d1aede29",
                "language": "sql",
                "tags": []
            },
            "outputs": [
                {
                    "output_type": "display_data",
                    "data": {
                        "text/html": "Commands completed successfully."
                    },
                    "metadata": {}
                },
                {
                    "output_type": "display_data",
                    "data": {
                        "text/html": "Total execution time: 00:00:00.008"
                    },
                    "metadata": {}
                }
            ],
            "execution_count": 22
        },
        {
            "cell_type": "markdown",
            "source": [
                "Question 4:  Insert the below rows separated by commas for the respective columns for the ClassInstructors table.  -- 0.5 points\n",
                "\n",
                "                    ClassID, InstructorID\n",
                "\n",
                "                    1, 'RS02'\n",
                "\n",
                "                    2, 'RS01'\n",
                "\n",
                "                    3, 'VP01'\n",
                "\n",
                "                    4, 'MS01'\n",
                "\n",
                "                    5, 'MK01'\n",
                "\n",
                "                    6, 'MK01'\n",
                "\n",
                "                    7, 'RS01'\n",
                "\n",
                "                    8, 'LL01'\n",
                "\n",
                "                    9, 'LL01'\n",
                "\n",
                "                   10, 'LL01'\n",
                "\n",
                "                   11, 'MA01'  \n",
                "\n",
                "                   11, 'MD01'\n",
                "\n",
                "                   12, 'MA01'\n",
                "\n",
                "                   12, 'MD01'\n",
                "\n",
                "                   13, 'MA01'\n",
                "\n",
                "                   13, 'MD01'\n",
                "\n",
                "                   14, 'RS01'\n",
                "\n",
                "                   15, 'RS02'\n",
                "\n",
                "                   16, 'MS01'\n",
                "\n",
                "                   17, 'MS01'\n",
                "\n",
                "                   18, 'NT01'  \n",
                "\n",
                "                   19, 'NT01'\n",
                "\n",
                "                    20, 'JV01'\n",
                "\n",
                "                    21, 'MD01'\n",
                "\n",
                "                    22, 'RS01'\n",
                "\n",
                "                    23, 'RS01'\n",
                "\n",
                "                    24, 'MS01'\n",
                "\n",
                "                    25, 'MK01'\n",
                "\n",
                "                    26, 'NT01'\n",
                "\n",
                "                    27, 'LL01'\n",
                "\n",
                "                    28, 'RS01'\n",
                "\n",
                "                    29, 'VP01'\n",
                "\n",
                "                    30, 'VP01'\n",
                "\n",
                "                    31, 'MA01'\n",
                "\n",
                "                    31, 'MD01'\n",
                "\n",
                "                    32, 'MA01'\n",
                "\n",
                "                    32, 'MD01'\n",
                "\n",
                "                    33, 'MA01'\n",
                "\n",
                "                    33, 'MD01'\n",
                "\n",
                "                    34, 'RS02'\n",
                "\n",
                "                    35, 'RS02'\n",
                "\n",
                "                    36, 'MS01'\n",
                "\n",
                "                    37, 'MS01'\n",
                "\n",
                "                    38, 'JV01'\n",
                "\n",
                "                    39, 'JV01'\n",
                "\n",
                "                    40, 'NT01'"
            ],
            "metadata": {
                "azdata_cell_guid": "a0c6370f-296d-49f5-8542-7336ed856b3d"
            },
            "attachments": {}
        },
        {
            "cell_type": "code",
            "source": [
                "-- --------------------------------------------------------\r\n",
                "-- Dumping data for table 'ClassInstructors'\r\n",
                "-- --------------------------------------------------------\r\n",
                "INSERT INTO ClassInstructors VALUES(1, 'RS02');\r\n",
                "INSERT INTO ClassInstructors VALUES(2, 'RS01');\r\n",
                "INSERT INTO ClassInstructors VALUES(3, 'VP01');\r\n",
                "INSERT INTO ClassInstructors VALUES(4, 'MS01');\r\n",
                "INSERT INTO ClassInstructors VALUES(5, 'MK01');\r\n",
                "INSERT INTO ClassInstructors VALUES(6, 'MK01');\r\n",
                "INSERT INTO ClassInstructors VALUES(7, 'RS01');\r\n",
                "INSERT INTO ClassInstructors VALUES(8, 'LL01');\r\n",
                "INSERT INTO ClassInstructors VALUES(9, 'LL01');\r\n",
                "INSERT INTO ClassInstructors VALUES(10, 'LL01');\r\n",
                "INSERT INTO ClassInstructors VALUES(11, 'MA01');\r\n",
                "INSERT INTO ClassInstructors VALUES(11, 'MD01');\r\n",
                "INSERT INTO ClassInstructors VALUES(12, 'MA01');\r\n",
                "INSERT INTO ClassInstructors VALUES(12, 'MD01');\r\n",
                "INSERT INTO ClassInstructors VALUES(13, 'MA01');\r\n",
                "INSERT INTO ClassInstructors VALUES(13, 'MD01');\r\n",
                "INSERT INTO ClassInstructors VALUES(14, 'RS01');\r\n",
                "INSERT INTO ClassInstructors VALUES(15, 'RS02');\r\n",
                "INSERT INTO ClassInstructors VALUES(16, 'MS01');\r\n",
                "INSERT INTO ClassInstructors VALUES(17, 'MS01');\r\n",
                "INSERT INTO ClassInstructors VALUES(18, 'NT01');\r\n",
                "INSERT INTO ClassInstructors VALUES(19, 'NT01');\r\n",
                "INSERT INTO ClassInstructors VALUES(20, 'JV01');\r\n",
                "INSERT INTO ClassInstructors VALUES(21, 'MD01');\r\n",
                "INSERT INTO ClassInstructors VALUES(22, 'RS01');\r\n",
                "INSERT INTO ClassInstructors VALUES(23, 'RS01');\r\n",
                "INSERT INTO ClassInstructors VALUES(24, 'MS01');\r\n",
                "INSERT INTO ClassInstructors VALUES(25, 'MK01');\r\n",
                "INSERT INTO ClassInstructors VALUES(26, 'NT01');\r\n",
                "INSERT INTO ClassInstructors VALUES(27, 'LL01');\r\n",
                "INSERT INTO ClassInstructors VALUES(28, 'RS01');\r\n",
                "INSERT INTO ClassInstructors VALUES(29, 'VP01');\r\n",
                "INSERT INTO ClassInstructors VALUES(30, 'VP01');\r\n",
                "INSERT INTO ClassInstructors VALUES(31, 'MA01');\r\n",
                "INSERT INTO ClassInstructors VALUES(31, 'MD01');\r\n",
                "INSERT INTO ClassInstructors VALUES(32, 'MA01');\r\n",
                "INSERT INTO ClassInstructors VALUES(32, 'MD01');\r\n",
                "INSERT INTO ClassInstructors VALUES(33, 'MA01');\r\n",
                "INSERT INTO ClassInstructors VALUES(33, 'MD01');\r\n",
                "INSERT INTO ClassInstructors VALUES(34, 'RS02');\r\n",
                "INSERT INTO ClassInstructors VALUES(35, 'RS02');\r\n",
                "INSERT INTO ClassInstructors VALUES(36, 'MS01');\r\n",
                "INSERT INTO ClassInstructors VALUES(37, 'MS01');\r\n",
                "INSERT INTO ClassInstructors VALUES(38, 'JV01');\r\n",
                "INSERT INTO ClassInstructors VALUES(39, 'JV01');\r\n",
                "INSERT INTO ClassInstructors VALUES(40, 'NT01');\r\n",
                "----------------------------------------------------------"
            ],
            "metadata": {
                "azdata_cell_guid": "30bce3a4-f8a2-4850-9f10-7941ad26335f",
                "language": "sql",
                "tags": []
            },
            "outputs": [
                {
                    "output_type": "display_data",
                    "data": {
                        "text/html": "(1 row affected)"
                    },
                    "metadata": {}
                },
                {
                    "output_type": "display_data",
                    "data": {
                        "text/html": "(1 row affected)"
                    },
                    "metadata": {}
                },
                {
                    "output_type": "display_data",
                    "data": {
                        "text/html": "(1 row affected)"
                    },
                    "metadata": {}
                },
                {
                    "output_type": "display_data",
                    "data": {
                        "text/html": "(1 row affected)"
                    },
                    "metadata": {}
                },
                {
                    "output_type": "display_data",
                    "data": {
                        "text/html": "(1 row affected)"
                    },
                    "metadata": {}
                },
                {
                    "output_type": "display_data",
                    "data": {
                        "text/html": "(1 row affected)"
                    },
                    "metadata": {}
                },
                {
                    "output_type": "display_data",
                    "data": {
                        "text/html": "(1 row affected)"
                    },
                    "metadata": {}
                },
                {
                    "output_type": "display_data",
                    "data": {
                        "text/html": "(1 row affected)"
                    },
                    "metadata": {}
                },
                {
                    "output_type": "display_data",
                    "data": {
                        "text/html": "(1 row affected)"
                    },
                    "metadata": {}
                },
                {
                    "output_type": "display_data",
                    "data": {
                        "text/html": "(1 row affected)"
                    },
                    "metadata": {}
                },
                {
                    "output_type": "display_data",
                    "data": {
                        "text/html": "(1 row affected)"
                    },
                    "metadata": {}
                },
                {
                    "output_type": "display_data",
                    "data": {
                        "text/html": "(1 row affected)"
                    },
                    "metadata": {}
                },
                {
                    "output_type": "display_data",
                    "data": {
                        "text/html": "(1 row affected)"
                    },
                    "metadata": {}
                },
                {
                    "output_type": "display_data",
                    "data": {
                        "text/html": "(1 row affected)"
                    },
                    "metadata": {}
                },
                {
                    "output_type": "display_data",
                    "data": {
                        "text/html": "(1 row affected)"
                    },
                    "metadata": {}
                },
                {
                    "output_type": "display_data",
                    "data": {
                        "text/html": "(1 row affected)"
                    },
                    "metadata": {}
                },
                {
                    "output_type": "display_data",
                    "data": {
                        "text/html": "(1 row affected)"
                    },
                    "metadata": {}
                },
                {
                    "output_type": "display_data",
                    "data": {
                        "text/html": "(1 row affected)"
                    },
                    "metadata": {}
                },
                {
                    "output_type": "display_data",
                    "data": {
                        "text/html": "(1 row affected)"
                    },
                    "metadata": {}
                },
                {
                    "output_type": "display_data",
                    "data": {
                        "text/html": "(1 row affected)"
                    },
                    "metadata": {}
                },
                {
                    "output_type": "display_data",
                    "data": {
                        "text/html": "(1 row affected)"
                    },
                    "metadata": {}
                },
                {
                    "output_type": "display_data",
                    "data": {
                        "text/html": "(1 row affected)"
                    },
                    "metadata": {}
                },
                {
                    "output_type": "display_data",
                    "data": {
                        "text/html": "(1 row affected)"
                    },
                    "metadata": {}
                },
                {
                    "output_type": "display_data",
                    "data": {
                        "text/html": "(1 row affected)"
                    },
                    "metadata": {}
                },
                {
                    "output_type": "display_data",
                    "data": {
                        "text/html": "(1 row affected)"
                    },
                    "metadata": {}
                },
                {
                    "output_type": "display_data",
                    "data": {
                        "text/html": "(1 row affected)"
                    },
                    "metadata": {}
                },
                {
                    "output_type": "display_data",
                    "data": {
                        "text/html": "(1 row affected)"
                    },
                    "metadata": {}
                },
                {
                    "output_type": "display_data",
                    "data": {
                        "text/html": "(1 row affected)"
                    },
                    "metadata": {}
                },
                {
                    "output_type": "display_data",
                    "data": {
                        "text/html": "(1 row affected)"
                    },
                    "metadata": {}
                },
                {
                    "output_type": "display_data",
                    "data": {
                        "text/html": "(1 row affected)"
                    },
                    "metadata": {}
                },
                {
                    "output_type": "display_data",
                    "data": {
                        "text/html": "(1 row affected)"
                    },
                    "metadata": {}
                },
                {
                    "output_type": "display_data",
                    "data": {
                        "text/html": "(1 row affected)"
                    },
                    "metadata": {}
                },
                {
                    "output_type": "display_data",
                    "data": {
                        "text/html": "(1 row affected)"
                    },
                    "metadata": {}
                },
                {
                    "output_type": "display_data",
                    "data": {
                        "text/html": "(1 row affected)"
                    },
                    "metadata": {}
                },
                {
                    "output_type": "display_data",
                    "data": {
                        "text/html": "(1 row affected)"
                    },
                    "metadata": {}
                },
                {
                    "output_type": "display_data",
                    "data": {
                        "text/html": "(1 row affected)"
                    },
                    "metadata": {}
                },
                {
                    "output_type": "display_data",
                    "data": {
                        "text/html": "(1 row affected)"
                    },
                    "metadata": {}
                },
                {
                    "output_type": "display_data",
                    "data": {
                        "text/html": "(1 row affected)"
                    },
                    "metadata": {}
                },
                {
                    "output_type": "display_data",
                    "data": {
                        "text/html": "(1 row affected)"
                    },
                    "metadata": {}
                },
                {
                    "output_type": "display_data",
                    "data": {
                        "text/html": "(1 row affected)"
                    },
                    "metadata": {}
                },
                {
                    "output_type": "display_data",
                    "data": {
                        "text/html": "(1 row affected)"
                    },
                    "metadata": {}
                },
                {
                    "output_type": "display_data",
                    "data": {
                        "text/html": "(1 row affected)"
                    },
                    "metadata": {}
                },
                {
                    "output_type": "display_data",
                    "data": {
                        "text/html": "(1 row affected)"
                    },
                    "metadata": {}
                },
                {
                    "output_type": "display_data",
                    "data": {
                        "text/html": "(1 row affected)"
                    },
                    "metadata": {}
                },
                {
                    "output_type": "display_data",
                    "data": {
                        "text/html": "(1 row affected)"
                    },
                    "metadata": {}
                },
                {
                    "output_type": "display_data",
                    "data": {
                        "text/html": "(1 row affected)"
                    },
                    "metadata": {}
                },
                {
                    "output_type": "display_data",
                    "data": {
                        "text/html": "Total execution time: 00:00:00.039"
                    },
                    "metadata": {}
                }
            ],
            "execution_count": 23
        },
        {
            "cell_type": "markdown",
            "source": [
                "Question 5: Write command for: Dropping a table named Customers if it already exists.  -- 0.1 points\n",
                "\n",
                "                    Create a table named Customers. The primary key for this table will be CustomerID. It should have the below columns:  -- 0.4 points\n",
                "\n",
                "                    CustomerID as VARCHAR(7) datatype and should not accept Null values, \n",
                "\n",
                "                    LastName as VARCHAR(25) datatype, \n",
                "\n",
                "                    FirstName as VARCHAR(25) datatype, \n",
                "\n",
                "                    StreetAddress as VARCHAR(50) datatype, \n",
                "\n",
                "                    City as VARCHAR(25) datatype, \n",
                "\n",
                "                    State as VARCHAR(2) datatype, \n",
                "\n",
                "                     ZipCode as VARCHAR(5) datatype, \n",
                "\n",
                "                    EmailAddress as VARCHAR(255) datatype, \n",
                "\n",
                "                    PhoneNumber as VARCHAR(12) datatype, \n",
                "\n",
                "                    BirthDate as DATETIME datatype."
            ],
            "metadata": {
                "azdata_cell_guid": "b4ae8215-864c-49c3-9528-a80cdefc84ff"
            },
            "attachments": {}
        },
        {
            "cell_type": "code",
            "source": [
                "-- --------------------------------------------------------\r\n",
                "--  Dropping a table named Customers if it already exists \r\n",
                "-- --------------------------------------------------------\r\n",
                "DROP TABLE Customers;\r\n",
                "\r\n",
                "-- --------------------------------------------------------\r\n",
                "--  Create a table named Customers  \r\n",
                "-- --------------------------------------------------------\r\n",
                "CREATE TABLE Customers(\r\n",
                "    CustomerID VARCHAR(7) NOT NULL,\r\n",
                "    LastName VARCHAR(25),\r\n",
                "    FirstName VARCHAR(25),\r\n",
                "    StreetAddress VARCHAR(50),\r\n",
                "    City VARCHAR(25),\r\n",
                "    State VARCHAR(2),\r\n",
                "    ZipCode VARCHAR(5),\r\n",
                "    EmailAddress VARCHAR(255),\r\n",
                "    PhoneNumber VARCHAR(12),\r\n",
                "    BirthDate DATETIME,\r\n",
                "    CONSTRAINT CustomersPK PRIMARY KEY (CustomerID));\r\n",
                "\r\n",
                "-- --------------------------------------------------------"
            ],
            "metadata": {
                "azdata_cell_guid": "f280d233-f41e-4ad2-b864-9618d81f8440",
                "language": "sql"
            },
            "outputs": [
                {
                    "output_type": "display_data",
                    "data": {
                        "text/html": "Commands completed successfully."
                    },
                    "metadata": {}
                },
                {
                    "output_type": "display_data",
                    "data": {
                        "text/html": "Total execution time: 00:00:00.008"
                    },
                    "metadata": {}
                }
            ],
            "execution_count": 25
        },
        {
            "cell_type": "markdown",
            "source": [
                "Question 6:  Insert the below rows separated by commas for the respective columns for the Customers table.   --- 0.5 points\n",
                "\n",
                "                  CustomerID, LastName, FirstName, StreetAddress, City, State, ZipCode, EmailAddress, PhoneNumber, BirthDate\n",
                "\n",
                "                  '101', 'Aboud', 'Nour', '4898 Negley Ave', 'Pittsburgh', 'PA', '15232', '[NourAboud@cengage.com](mailto:NourAboud@cengage.com)', '412-255-5443', '1998-02-23 00:00:00'\n",
                "\n",
                "                  '102', 'Waldron', 'Tony', '766 Myrtle Way', 'Pittsburgh', 'PA', '15232', '[TonyLWaldron@cengage.com](mailto:TonyLWaldron@cengage.com)', '617-825-9347', '1989-08-23 00:00:00'\n",
                "\n",
                "                  '103', 'Arian', 'Farah', '998 Forward Ave', 'Pittsburgh', 'PA', '15217', '[FarahArian@cengage.com](mailto:FarahArian@cengage.com)', '878-243-9786', '2000-10-21 00:00:00'\n",
                "\n",
                "                  '104', 'Cane', 'James', '4310 Elmer St', 'Pittsburgh', 'PA', '15232', '[JamesJCane@cengage.com](mailto:JamesJCane@cengage.com)', '610-555-9951', '1967-02-01 00:00:00'\n",
                "\n",
                "                  '105', 'Brescia', 'Keith', '1595 Holden St', 'Pittsburgh', 'PA', '15232', '[KeithWBrescia@cengage.com](mailto:KeithWBrescia@cengage.com)', '724-943-0945', '1948-06-11 00:00:00'\n",
                "\n",
                "                  '106', 'Conner', 'Don', '3004 Alder St', 'Pittsburgh', 'PA', '15232', '[DonSConner@cengage.com](mailto:DonSConner@cengage.com)', '412-281-0129', '1957-05-18 00:00:00'\n",
                "\n",
                "                  '107', 'Feldman', 'Terrance', '2158 Semple St', 'Pittsburgh', 'PA', '15213', '[TerranceLFeldman@cengage.com](mailto:TerranceLFeldman@cengage.com)', '559-673-4340', '1987-12-09 00:00:00'\n",
                "\n",
                "                  '108', 'Gregor', 'Alice', '392 Murray Ave', 'Pittsburgh', 'PA', '15217', '[AliceRGregor@cengage.com](mailto:AliceRGregor@cengage.com)', '770-832-4718', '1957-02-16 00:00:00'\n",
                "\n",
                "                  '109', 'Miller', 'Roland', '2542 York Way', 'Pittsburgh', 'PA', '15213', '[RolandJMiller@cengage.com](mailto:RolandJMiller@cengage.com)', '412-266-5419', '1984-04-20 00:00:00'\n",
                "\n",
                "                  '110', 'Sanchez', 'Ramiro', '4983 McKee Pl', 'Pittsburgh', 'PA', '15213', '[RamiroSanchez@cengage.com](mailto:RamiroSanchez@cengage.com)', '878-576-5221', '1953-04-01 00:00:00'\n",
                "\n",
                "                  '111', 'Barry', 'Juan', '4534 Urie Way', 'Pittsburgh', 'PA', '15213', '[JuanRBarry@cengage.com](mailto:JuanRBarry@cengage.com)', '210-444-4773', '1958-01-03 00:00:00'\n",
                "\n",
                "                  '112', 'Smith', 'Sharon', '1937 Bates St', 'Pittsburgh', 'PA', '15213', '[SharonMSmith@cengage.com](mailto:SharonMSmith@cengage.com)', '878-268-2455', '1944-10-16 00:00:00'\n",
                "\n",
                "                  '113', 'Hatcher', 'Charles', '3218 Louisa St', 'Pittsburgh', 'PA', '15213', '[CharlesMHatcher@cengage.com](mailto:CharlesMHatcher@cengage.com)', '561-550-8190', '1976-12-27 00:00:00'\n",
                "\n",
                "                  '114', 'Spencer', 'Glenn', '2764 Oakland Ave', 'Pittsburgh', 'PA', '15213', '[GlennJSpencer@cengage.com](mailto:GlennJSpencer@cengage.com)', '878-688-4980', '1934-05-07 00:00:00'\n",
                "\n",
                "                   '115', 'Hearn', 'James', '1252 Pier St', 'Pittsburgh', 'PA', '15213', '[JamesJHearn@cengage.com](mailto:JamesJHearn@cengage.com)', '231-640-8302', '1996-02-15 00:00:00'\n",
                "\n",
                "                   '116', 'Cornett', 'Albert', '3545 Ermine Way', 'Pittsburgh', 'PA', '15213', '[AlbertACornett@cengage.com](mailto:AlbertACornett@cengage.com)', '724-975-6688', '1947-09-29 00:00:00'\n",
                "\n",
                "                   '117', 'Devito', 'Sylvia', '3281 Fiber Way', 'Pittsburgh', 'PA', '15213', '[SylviaKDevito@cengage.com](mailto:SylviaKDevito@cengage.com)', '256-486-5999', '1949-05-27 00:00:00'\n",
                "\n",
                "                   '118', 'Hill', 'Jess', '3161 Argyle Way', 'Pittsburgh', 'PA', '15213', '[JessAHill@cengage.com](mailto:JessAHill@cengage.com)', '480-854-3611', '1938-01-04 00:00:00'\n",
                "\n",
                "                   '119', 'Benavides', 'Philip', '1465 Butler St', 'Pittsburgh', 'PA', '15201', '[PhilipCBenavides@cengage.com](mailto:PhilipCBenavides@cengage.com)', '412-868-4146', '1994-10-13 00:00:00'\n",
                "\n",
                "                   '120', 'Patterson', 'Margo', '3291 Mahon St', 'Pittsburgh', 'PA', '15219', '[MargoFPatterson@cengage.com](mailto:MargoFPatterson@cengage.com)', '412-290-1510', '1960-09-19 00:00:00'\n",
                "\n",
                "                   '121', 'Thorn', 'Debbie', '4434 Watt St', 'Pittsburgh', 'PA', '15219', '[DebbieLThorn@cengage.com](mailto:DebbieLThorn@cengage.com)', '412-323-5436', '1968-06-01 00:00:00'\n",
                "\n",
                "                   '122', 'Shaffer', 'Gene', '2041 Wylie Ave', 'Pittsburgh', 'PA', '15219', '[GeneKShaffer@cengage.com](mailto:GeneKShaffer@cengage.com)', '281-817-7573', '2002-06-10 00:00:00'\n",
                "\n",
                "                   '123', 'Brough', 'Pablo', '1812 Penn Ave', 'Pittsburgh', 'PA', '15224', '[PabloRBrough@cengage.com](mailto:PabloRBrough@cengage.com)', '909-577-5726', '1975-08-30 00:00:00'\n",
                "\n",
                "                   '124', 'Agnew', 'Betty', '201 Barn Way', 'Pittsburgh', 'PA', '15219', '[BettyBAgnew@cengage.com](mailto:BettyBAgnew@cengage.com)', '878-263-7528', '1985-11-23 00:00:00'\n",
                "\n",
                "                   '125', 'McCauley', 'Raymond', '3254 Memory Lane', 'Pittsburgh', 'PA', '15219', '[RaymondCMcCauley@cengage.com](mailto:RaymondCMcCauley@cengage.com)', '878-345-0803', '1986-03-10 00:00:00'\n",
                "\n",
                "                   '126', 'Sisto', 'Robert', '2836 Bedford Ave', 'Pittsburgh', 'PA', '15219', '[RobertJSisto@cengage.com](mailto:RobertJSisto@cengage.com)', '646-373-8125', '1966-11-25 00:00:00'\n",
                "\n",
                "                    '127', 'Lara', 'Tamara', '4588 Monaca Pl', 'Pittsburgh', 'PA', '15219', '[TamaraRLara@cengage.com](mailto:TamaraRLara@cengage.com)', '417-359-2241', '1984-08-31 00:00:00'\n",
                "\n",
                "                    '128', 'Allen', 'Michael', '2367 Cliff St', 'Pittsburgh', 'PA', '15219', '[MichaelHAllen@cengage.com](mailto:MichaelHAllen@cengage.com)', '412-790-6275', '1966-08-14 00:00:00'\n",
                "\n",
                "                    '129', 'Pegues', 'Vicki', '3700 Penn Ave', 'Pittsburgh', 'PA', '15219', '[VickiJPegues@cengage.com](mailto:VickiJPegues@cengage.com)', '412-597-0247', '1994-12-14 00:00:00'\n",
                "\n",
                "                    '130', 'Choi', 'Min Jee', '2661 Webster Ave', 'Pittsburgh', 'PA', '15219', '[MinJeeChoi@cengage.com](mailto:MinJeeChoi@cengage.com)', '412-868-5257', '2001-04-05 00:00:00'"
            ],
            "metadata": {
                "azdata_cell_guid": "a1b1eec5-560e-4ab1-b6aa-3c930b0dc889"
            },
            "attachments": {}
        },
        {
            "cell_type": "code",
            "source": [
                "-- --------------------------------------------------------\r\n",
                "-- Dumping data for table 'Customers'\r\n",
                "-- --------------------------------------------------------\r\n",
                "INSERT INTO Customers VALUES('101', 'Aboud', 'Nour', '4898 Negley Ave', 'Pittsburgh', 'PA', '15232', 'NourAboud@cengage.com', '412-255-5443', '1998-02-23 00:00:00');\r\n",
                "INSERT INTO Customers VALUES('102', 'Waldron', 'Tony', '766 Myrtle Way', 'Pittsburgh', 'PA', '15232', 'TonyLWaldron@cengage.com', '617-825-9347', '1989-08-23 00:00:00');\r\n",
                "INSERT INTO Customers VALUES('103', 'Arian', 'Farah', '998 ForwardAve', 'Pittsburgh', 'PA', '15217', 'FarahArian@cengage.com', '878-243-9786', '2000-10-21 00:00:00');\r\n",
                "INSERT INTO Customers VALUES('104', 'Cane', 'James', '4310 Elmer St', 'Pittsburgh', 'PA', '15232', 'JamesJCane@cengage.com', '610-555-9951', '1967-02-01 00:00:00');\r\n",
                "INSERT INTO Customers VALUES('105', 'Brescia', 'Keith', '1595 Holden St', 'Pittsburgh', 'PA', '15232', 'KeithWBrescia@cengage.com', '724-943-0945', '1948-06-11 00:00:00');\r\n",
                "INSERT INTO Customers VALUES('106', 'Conner', 'Don', '3004 Alder St', 'Pittsburgh', 'PA', '15232', 'DonSConner@cengage.com', '412-281-0129', '1957-05-18 00:00:00');\r\n",
                "INSERT INTO Customers VALUES('107', 'Feldman', 'Terrance', '2158 Semple St', 'Pittsburgh', 'PA', '15213', 'TerranceLFeldman@cengage.com', '559-673-4340', '1987-12-09 00:00:00');\r\n",
                "INSERT INTO Customers VALUES('108', 'Gregor', 'Alice', '392 Murray Ave', 'Pittsburgh', 'PA', '15217', 'AliceRGregor@cengage.com', '770-832-4718', '1957-02-16 00:00:00');\r\n",
                "INSERT INTO Customers VALUES('109', 'Miller', 'Roland', '2542 York Way', 'Pittsburgh', 'PA', '15213', 'RolandJMiller@cengage.com', '412-266-5419', '1984-04-20 00:00:00');\r\n",
                "INSERT INTO Customers VALUES('110', 'Sanchez', 'Ramiro', '4983 McKee Pl', 'Pittsburgh', 'PA', '15213', 'RamiroSanchez@cengage.com', '878-576-5221', '1953-04-01 00:00:00');\r\n",
                "INSERT INTO Customers VALUES('111', 'Barry', 'Juan', '4534 Urie Way', 'Pittsburgh', 'PA', '15213', 'JuanRBarry@cengage.com', '210-444-4773', '1958-01-03 00:00:00');\r\n",
                "INSERT INTO Customers VALUES('112', 'Smith', 'Sharon', '1937 Bates St', 'Pittsburgh', 'PA', '15213', 'SharonMSmith@cengage.com', '878-268-2455', '1944-10-16 00:00:00');\r\n",
                "INSERT INTO Customers VALUES('113', 'Hatcher', 'Charles', '3218 Louisa St', 'Pittsburgh', 'PA', '15213', 'CharlesMHatcher@cengage.com', '561-550-8190', '1976-12-27 00:00:00');\r\n",
                "INSERT INTO Customers VALUES('114', 'Spencer', 'Glenn', '2764 Oakland Ave', 'Pittsburgh', 'PA', '15213', 'GlennJSpencer@cengage.com', '878-688-4980', '1934-05-07 00:00:00');\r\n",
                "INSERT INTO Customers VALUES('115', 'Hearn', 'James', '1252 Pier St', 'Pittsburgh', 'PA', '15213', 'JamesJHearn@cengage.com', '231-640-8302', '1996-02-15 00:00:00');\r\n",
                "INSERT INTO Customers VALUES('116', 'Cornett', 'Albert', '3545 Ermine Way', 'Pittsburgh', 'PA', '15213', 'AlbertACornett@cengage.com', '724-975-6688', '1947-09-29 00:00:00');\r\n",
                "INSERT INTO Customers VALUES('117', 'Devito', 'Sylvia', '3281 Fiber Way', 'Pittsburgh', 'PA', '15213', 'SylviaKDevito@cengage.com', '256-486-5999', '1949-05-27 00:00:00');\r\n",
                "INSERT INTO Customers VALUES('118', 'Hill', 'Jess', '3161 Argyle Way', 'Pittsburgh', 'PA', '15213', 'JessAHill@cengage.com', '480-854-3611', '1938-01-04 00:00:00');\r\n",
                "INSERT INTO Customers VALUES('119', 'Benavides', 'Philip', '1465 Butler St', 'Pittsburgh', 'PA', '15201', 'PhilipCBenavides@cengage.com', '412-868-4146', '1994-10-13 00:00:00');\r\n",
                "INSERT INTO Customers VALUES('120', 'Patterson', 'Margo', '3291 Mahon St', 'Pittsburgh', 'PA', '15219', 'MargoFPatterson@cengage.com', '412-290-1510', '1960-09-19 00:00:00');\r\n",
                "INSERT INTO Customers VALUES('121', 'Thorn', 'Debbie', '4434 Watt St', 'Pittsburgh', 'PA', '15219', 'DebbieLThorn@cengage.com', '412-323-5436', '1968-06-01 00:00:00');\r\n",
                "INSERT INTO Customers VALUES('122', 'Shaffer', 'Gene', '2041 Wylie Ave', 'Pittsburgh', 'PA', '15219', 'GeneKShaffer@cengage.com', '281-817-7573', '2002-06-10 00:00:00');\r\n",
                "INSERT INTO Customers VALUES('123', 'Brough', 'Pablo', '1812 Penn Ave', 'Pittsburgh', 'PA', '15224', 'PabloRBrough@cengage.com', '909-577-5726', '1975-08-30 00:00:00');\r\n",
                "INSERT INTO Customers VALUES('124', 'Agnew', 'Betty', '201 Barn Way', 'Pittsburgh', 'PA', '15219', 'BettyBAgnew@cengage.com', '878-263-7528', '1985-11-23 00:00:00');\r\n",
                "INSERT INTO Customers VALUES('125', 'McCauley', 'Raymond', '3254 Memory Lane', 'Pittsburgh', 'PA', '15219', 'RaymondCMcCauley@cengage.com', '878-345-0803', '1986-03-10 00:00:00');\r\n",
                "INSERT INTO Customers VALUES('126', 'Sisto', 'Robert', '2836 Bedford Ave', 'Pittsburgh', 'PA', '15219', 'RobertJSisto@cengage.com', '646-373-8125', '1966-11-25 00:00:00');\r\n",
                "INSERT INTO Customers VALUES('127', 'Lara', 'Tamara', '4588 Monaca Pl', 'Pittsburgh', 'PA', '15219', 'TamaraRLara@cengage.com', '417-359-2241', '1984-08-31 00:00:00');\r\n",
                "INSERT INTO Customers VALUES('128', 'Allen', 'Michael', '2367 Cliff St', 'Pittsburgh', 'PA', '15219', 'MichaelHAllen@cengage.com', '412-790-6275', '1966-08-14 00:00:00');\r\n",
                "INSERT INTO Customers VALUES('129', 'Pegues', 'Vicki', '3700 Penn Ave', 'Pittsburgh', 'PA', '15219', 'VickiJPegues@cengage.com', '412-597-0247', '1994-12-14 00:00:00');\r\n",
                "INSERT INTO Customers VALUES('130', 'Choi', 'MinJee', '2661 Webster Ave', 'Pittsburgh', 'PA', '15219', 'MinJeeChoi@cengage.com', '412-868-5257', '2001-04-05 00:00:00');\r\n",
                "------------------------------------------------------------"
            ],
            "metadata": {
                "azdata_cell_guid": "7f95a5cc-bda6-4496-b98b-154ed0b79081",
                "language": "sql"
            },
            "outputs": [
                {
                    "output_type": "display_data",
                    "data": {
                        "text/html": "(1 row affected)"
                    },
                    "metadata": {}
                },
                {
                    "output_type": "display_data",
                    "data": {
                        "text/html": "(1 row affected)"
                    },
                    "metadata": {}
                },
                {
                    "output_type": "display_data",
                    "data": {
                        "text/html": "(1 row affected)"
                    },
                    "metadata": {}
                },
                {
                    "output_type": "display_data",
                    "data": {
                        "text/html": "(1 row affected)"
                    },
                    "metadata": {}
                },
                {
                    "output_type": "display_data",
                    "data": {
                        "text/html": "(1 row affected)"
                    },
                    "metadata": {}
                },
                {
                    "output_type": "display_data",
                    "data": {
                        "text/html": "(1 row affected)"
                    },
                    "metadata": {}
                },
                {
                    "output_type": "display_data",
                    "data": {
                        "text/html": "(1 row affected)"
                    },
                    "metadata": {}
                },
                {
                    "output_type": "display_data",
                    "data": {
                        "text/html": "(1 row affected)"
                    },
                    "metadata": {}
                },
                {
                    "output_type": "display_data",
                    "data": {
                        "text/html": "(1 row affected)"
                    },
                    "metadata": {}
                },
                {
                    "output_type": "display_data",
                    "data": {
                        "text/html": "(1 row affected)"
                    },
                    "metadata": {}
                },
                {
                    "output_type": "display_data",
                    "data": {
                        "text/html": "(1 row affected)"
                    },
                    "metadata": {}
                },
                {
                    "output_type": "display_data",
                    "data": {
                        "text/html": "(1 row affected)"
                    },
                    "metadata": {}
                },
                {
                    "output_type": "display_data",
                    "data": {
                        "text/html": "(1 row affected)"
                    },
                    "metadata": {}
                },
                {
                    "output_type": "display_data",
                    "data": {
                        "text/html": "(1 row affected)"
                    },
                    "metadata": {}
                },
                {
                    "output_type": "display_data",
                    "data": {
                        "text/html": "(1 row affected)"
                    },
                    "metadata": {}
                },
                {
                    "output_type": "display_data",
                    "data": {
                        "text/html": "(1 row affected)"
                    },
                    "metadata": {}
                },
                {
                    "output_type": "display_data",
                    "data": {
                        "text/html": "(1 row affected)"
                    },
                    "metadata": {}
                },
                {
                    "output_type": "display_data",
                    "data": {
                        "text/html": "(1 row affected)"
                    },
                    "metadata": {}
                },
                {
                    "output_type": "display_data",
                    "data": {
                        "text/html": "(1 row affected)"
                    },
                    "metadata": {}
                },
                {
                    "output_type": "display_data",
                    "data": {
                        "text/html": "(1 row affected)"
                    },
                    "metadata": {}
                },
                {
                    "output_type": "display_data",
                    "data": {
                        "text/html": "(1 row affected)"
                    },
                    "metadata": {}
                },
                {
                    "output_type": "display_data",
                    "data": {
                        "text/html": "(1 row affected)"
                    },
                    "metadata": {}
                },
                {
                    "output_type": "display_data",
                    "data": {
                        "text/html": "(1 row affected)"
                    },
                    "metadata": {}
                },
                {
                    "output_type": "display_data",
                    "data": {
                        "text/html": "(1 row affected)"
                    },
                    "metadata": {}
                },
                {
                    "output_type": "display_data",
                    "data": {
                        "text/html": "(1 row affected)"
                    },
                    "metadata": {}
                },
                {
                    "output_type": "display_data",
                    "data": {
                        "text/html": "(1 row affected)"
                    },
                    "metadata": {}
                },
                {
                    "output_type": "display_data",
                    "data": {
                        "text/html": "(1 row affected)"
                    },
                    "metadata": {}
                },
                {
                    "output_type": "display_data",
                    "data": {
                        "text/html": "(1 row affected)"
                    },
                    "metadata": {}
                },
                {
                    "output_type": "display_data",
                    "data": {
                        "text/html": "(1 row affected)"
                    },
                    "metadata": {}
                },
                {
                    "output_type": "display_data",
                    "data": {
                        "text/html": "(1 row affected)"
                    },
                    "metadata": {}
                },
                {
                    "output_type": "display_data",
                    "data": {
                        "text/html": "Total execution time: 00:00:00.038"
                    },
                    "metadata": {}
                }
            ],
            "execution_count": 27
        },
        {
            "cell_type": "markdown",
            "source": [
                "Question 7: Write command for: Dropping a table named Instructors if it already exists.  -- 0.1 points\n",
                "\n",
                "                    Create a table named Instructors. The primary key for this table will be InstructorID. It should have the below columns:  -- 0.4 points\n",
                "\n",
                "                   InstructorID as VARCHAR(7) datatype without any null values, \n",
                "\n",
                "                   InstructorLastName as VARCHAR(25) datatype, \n",
                "\n",
                "                   InstructorFirstName as VARCHAR(25) datatype, \n",
                "\n",
                "                    InstructorStreetAddress as VARCHAR(50) datatype, \n",
                "\n",
                "                    InstructorCity as VARCHAR(25) datatype, \n",
                "\n",
                "                    InstructorState as VARCHAR(2) datatype, \n",
                "\n",
                "                    InstructorZipCode as VARCHAR(5) datatype, \n",
                "\n",
                "                    InstructorEmailAddress as VARCHAR(255) datatype, \n",
                "\n",
                "                    InstructorPhoneNumber as VARCHAR(12) datatype."
            ],
            "metadata": {
                "azdata_cell_guid": "59f0695b-7d34-478d-821c-1a539948312b"
            },
            "attachments": {}
        },
        {
            "cell_type": "code",
            "source": [
                "-- --------------------------------------------------------\r\n",
                "--  Dropping a table named Instructors if it already exists \r\n",
                "-- --------------------------------------------------------\r\n",
                "DROP TABLE Instructors;\r\n",
                "\r\n",
                "-- --------------------------------------------------------\r\n",
                "--  Create a table named Instructors  \r\n",
                "-- --------------------------------------------------------\r\n",
                "CREATE TABLE Instructors(\r\n",
                "InstructorID VARCHAR(7) NOT NULL,\r\n",
                "InstructorLastName VARCHAR(25),\r\n",
                "InstructorFirstName VARCHAR(25),\r\n",
                "InstructorStreetAddress VARCHAR(50),\r\n",
                "InstructorCity VARCHAR(25),\r\n",
                "InstructorState VARCHAR(2),\r\n",
                "InstructorZipCode VARCHAR(5),\r\n",
                "InstructorEmailAddress VARCHAR(255),\r\n",
                "InstructorPhoneNumberV VARCHAR(12),\r\n",
                "CONSTRAINT InstructorsPK PRIMARY KEY (InstructorID));\r\n",
                "\r\n",
                "-- --------------------------------------------------------"
            ],
            "metadata": {
                "azdata_cell_guid": "76697bfa-68ec-48d8-bd53-15697e00b2f1",
                "language": "sql",
                "tags": []
            },
            "outputs": [
                {
                    "output_type": "display_data",
                    "data": {
                        "text/html": "Commands completed successfully."
                    },
                    "metadata": {}
                },
                {
                    "output_type": "display_data",
                    "data": {
                        "text/html": "Total execution time: 00:00:00.009"
                    },
                    "metadata": {}
                }
            ],
            "execution_count": 30
        },
        {
            "cell_type": "markdown",
            "source": [
                "Question 8:  Insert the below rows separated by commas for the respective columns for the Instructors table.  -- 0.5 points\n",
                "\n",
                "                    InstructorID, InstructorLastName, InstructorFirstName, InstructorStreetAddress, InstructorCity, InstructorState, InstructorZipCode, InstructorEmailAddress, InstructorPhoneNumber\n",
                "\n",
                "                     'JV01', 'Varlano', 'Juan', '15A Penn Ave', 'Pittsburgh', 'PA', '15219', '[JuanVarlano@cengage.com](mailto:JuanVarlano@cengage.com)', '412-998-6534'\n",
                "\n",
                "                     'LL01', 'Lane', 'Luke', '2661 Butler St', 'Pittsburgh', 'PA', '15201', '[LukeCLane@cengage.com](mailto:LukeCLane@cengage.com)', '561-868-5257'\n",
                "\n",
                "                     'MA01', 'Nguyen', 'Michael', '2367 Barn Way', 'Pittsburgh', 'PA', '15219', '[MichaelNguyen@cengage.com](mailto:MichaelNguyen@cengage.com)', '951-790-6275'\n",
                "\n",
                "                     'MD01', 'D''Angelo', 'Maria', '245D Wylie Ave', 'Pittsburgh', 'PA', '15219', '[MariaDAngelo@cengage.com](mailto:MariaDAngelo@cengage.com)', '724-887-2835'\n",
                "\n",
                "                     'MK01', 'Kobinski', 'Megan', '9087 Monanca Pl', 'Pittsburgh', 'PA', '15219', '[MeganKobinski@cengage.com](mailto:MeganKobinski@cengage.com)', '878-653-7364'\n",
                "\n",
                "                     'MS01', 'Said', 'Memo', '45 Webster Ave', 'Pittsburgh', 'PA', '15219', '[MemoSaid@cengage.com](mailto:MemoSaid@cengage.com)', '412-764-9834'\n",
                "\n",
                "                     'NT01', 'Tahan', 'Neda', '4588 Penn Ave', 'Pittsburgh', 'PA', '15219', '[NedaTahan@cengage.com](mailto:NedaTahan@cengage.com)', '417-359-2241'\n",
                "\n",
                "                     'RS01', 'Stein', 'Raymond', '3254 Forward Ave', 'Pittsburgh', 'PA', '15217', '[RaymondStein@cengage.com](mailto:RaymondStein@cengage.com)', '269-345-0803'\n",
                "\n",
                "                     'RS02', 'Sisto', 'Robert', '2836 Maryland Ave', 'Pittsburgh', 'PA', '15232', '[RobertJSisto@cengage.com](mailto:RobertJSisto@cengage.com)', '646-373-8125'\n",
                "\n",
                "                     'VP01', 'Pegues', 'Vicki', '3700 Murray Ave', 'Pittsburgh', 'PA', '15217', '[VickiJPegues@cengage.com](mailto:VickiJPegues@cengage.com)', '678-597-0247'"
            ],
            "metadata": {
                "azdata_cell_guid": "66319e87-343d-4302-aad8-1bb30cd0c576"
            },
            "attachments": {}
        },
        {
            "cell_type": "code",
            "source": [
                "-- --------------------------------------------------------\r\n",
                "-- Dumping data for table 'Instructors'\r\n",
                "-- --------------------------------------------------------\r\n",
                "INSERT INTO Instructors VALUES('JV01', 'Varlano', 'Juan', '15A Penn Ave', 'Pittsburgh', 'PA', '15219', 'JuanVarlano@cengage.com', '412-998-6534');\r\n",
                "INSERT INTO Instructors VALUES('LL01', 'Lane', 'Luke', '2661 Butler St', 'Pittsburgh', 'PA', '15201', 'LukeCLane@cengage.com', '561-868-5257');\r\n",
                "INSERT INTO Instructors VALUES('MA01', 'Nguyen', 'Michael', '2367 Barn Way', 'Pittsburgh', 'PA', '15219', 'MichaelNguyen@cengage.com', '951-790-6275');\r\n",
                "INSERT INTO Instructors VALUES('MD01', 'D''Angelo', 'Maria', '245D Wylie Ave', 'Pittsburgh', 'PA', '15219', 'MariaDAngelo@cengage.com', '724-887-2835');\r\n",
                "INSERT INTO Instructors VALUES('MK01', 'Kobinski', 'Megan', '9087 Monanca Pl', 'Pittsburgh', 'PA', '15219', 'MeganKobinski@cengage.com', '878-653-7364');\r\n",
                "INSERT INTO Instructors VALUES('MS01', 'Said', 'Memo', '45 Webster Ave', 'Pittsburgh', 'PA', '15219', 'MemoSaid@cengage.com', '412-764-9834');\r\n",
                "INSERT INTO Instructors VALUES('NT01', 'Tahan', 'Neda', '4588 Penn Ave', 'Pittsburgh', 'PA', '15219', 'NedaTahan@cengage.com', '417-359-2241');\r\n",
                "INSERT INTO Instructors VALUES('RS01', 'Stein', 'Raymond', '3254 Forward Ave', 'Pittsburgh', 'PA', '15217', 'RaymondStein@cengage.com', '269-345-0803');\r\n",
                "INSERT INTO Instructors VALUES('RS02', 'Sisto', 'Robert', '2836 Maryland Ave', 'Pittsburgh', 'PA', '15232', 'RobertJSisto@cengage.com', '646-373-8125');\r\n",
                "INSERT INTO Instructors VALUES('VP01', 'Pegues', 'Vicki', '3700 Murray Ave', 'Pittsburgh', 'PA', '15217', 'VickiJPegues@cengage.com', '678-597-0247');\r\n",
                "\r\n",
                "-------------------------------------------------------------"
            ],
            "metadata": {
                "azdata_cell_guid": "a4ba0c24-7e33-4fae-84f0-1c137be84e5b",
                "language": "sql"
            },
            "outputs": [
                {
                    "output_type": "display_data",
                    "data": {
                        "text/html": "(1 row affected)"
                    },
                    "metadata": {}
                },
                {
                    "output_type": "display_data",
                    "data": {
                        "text/html": "(1 row affected)"
                    },
                    "metadata": {}
                },
                {
                    "output_type": "display_data",
                    "data": {
                        "text/html": "(1 row affected)"
                    },
                    "metadata": {}
                },
                {
                    "output_type": "display_data",
                    "data": {
                        "text/html": "(1 row affected)"
                    },
                    "metadata": {}
                },
                {
                    "output_type": "display_data",
                    "data": {
                        "text/html": "(1 row affected)"
                    },
                    "metadata": {}
                },
                {
                    "output_type": "display_data",
                    "data": {
                        "text/html": "(1 row affected)"
                    },
                    "metadata": {}
                },
                {
                    "output_type": "display_data",
                    "data": {
                        "text/html": "(1 row affected)"
                    },
                    "metadata": {}
                },
                {
                    "output_type": "display_data",
                    "data": {
                        "text/html": "(1 row affected)"
                    },
                    "metadata": {}
                },
                {
                    "output_type": "display_data",
                    "data": {
                        "text/html": "(1 row affected)"
                    },
                    "metadata": {}
                },
                {
                    "output_type": "display_data",
                    "data": {
                        "text/html": "(1 row affected)"
                    },
                    "metadata": {}
                },
                {
                    "output_type": "display_data",
                    "data": {
                        "text/html": "Total execution time: 00:00:00.012"
                    },
                    "metadata": {}
                }
            ],
            "execution_count": 31
        },
        {
            "cell_type": "markdown",
            "source": [
                "Question 9: Write command for: Dropping a table named Reservations if it already exists.  -- 0.1 points\n",
                "\n",
                "                    Create a table named Instructors. The primary key for this table will be ReservationID. It should have the below columns:  -- 0.4 points\n",
                "\n",
                "                   ReservationID as Numeric datatype and should not accept null values,\n",
                "\n",
                "                   ClassID as Integer datatype,\n",
                "\n",
                "                   ClassPrice as Decimal(19,4) datatype,\n",
                "\n",
                "                   OtherFees as Decimal(19,4) datatype,\n",
                "\n",
                "                   CustomerID as VARCHAR(7) datatype"
            ],
            "metadata": {
                "azdata_cell_guid": "a71efd0b-ee25-459a-9632-8a1bdb764350"
            },
            "attachments": {}
        },
        {
            "cell_type": "code",
            "source": [
                "-- --------------------------------------------------------\r\n",
                "--  Dropping a table named Reservations if it already exists \r\n",
                "-- --------------------------------------------------------\r\n",
                "DROP TABLE Reservations;\r\n",
                "\r\n",
                "-- --------------------------------------------------------\r\n",
                "--  Create a table named Reservations  \r\n",
                "-- --------------------------------------------------------\r\n",
                "CREATE TABLE Reservations(\r\n",
                "ReservationID NUMERIC NOT NULL,\r\n",
                "ClassID INTEGER,\r\n",
                "ClassDate DATETIME,\r\n",
                "ClassPrice DECIMAL(19,4),\r\n",
                "OtherFees DECIMAL(19,4),\r\n",
                "CustomerID VARCHAR(7),\r\n",
                "CONSTRAINT ReservationPK PRIMARY KEY (ReservationID));\r\n",
                "\r\n",
                "-- --------------------------------------------------------"
            ],
            "metadata": {
                "azdata_cell_guid": "e0ef3c23-e727-471c-9db9-a50691756288",
                "language": "sql"
            },
            "outputs": [
                {
                    "output_type": "display_data",
                    "data": {
                        "text/html": "Commands completed successfully."
                    },
                    "metadata": {}
                },
                {
                    "output_type": "display_data",
                    "data": {
                        "text/html": "Total execution time: 00:00:00.009"
                    },
                    "metadata": {}
                }
            ],
            "execution_count": 35
        },
        {
            "cell_type": "markdown",
            "source": [
                "Question 10: Insert the below rows separated by commas for the respective columns for the Reservations table.  -- 0.05 points\n",
                "\n",
                "                   ReservationID, ClassID, ClassDate, ClassPrice, OtherFees, CustomerID\n",
                "\n",
                "                   2100001, 39, '2021-01-07 00:00:00', 9, NULL, '102'\n",
                "\n",
                "                   2100002, 24, '2021-01-03 00:00:00', 11, 5, '102'\n",
                "\n",
                "                   2100003, 10, '2021-01-06 00:00:00', 9, NULL, '103'\n",
                "\n",
                "                   2100004, 9, '2021-01-07 00:00:00', 9, NULL, '104'\n",
                "\n",
                "                   2100005, 7, '2021-01-05 00:00:00', 9, NULL, '106'\n",
                "\n",
                "                   2100006, 1, '2021-01-02 00:00:00', 9, NULL, '106'\n",
                "\n",
                "                   2100007, 2, '2021-01-04 00:00:00', 9, NULL, '107'\n",
                "\n",
                "                   2100008, 3, '2021-01-05 00:00:00', 9, NULL, '108'\n",
                "\n",
                "                   2100009, 5, '2021-01-02 00:00:00', 9, NULL, '109'\n",
                "\n",
                "                   2100010, 8, '2021-01-07 00:00:00', 9, NULL, '111'\n",
                "\n",
                "                   2100011, 4, '2021-01-02 00:00:00', 9, NULL, '111'\n",
                "\n",
                "                   2100012, 9, '2021-01-07 00:00:00', 9, NULL, '113'\n",
                "\n",
                "                   2100013, 10, '2021-01-06 00:00:00', 9, NULL, '113'\n",
                "\n",
                "                   2100014, 14, '2021-01-07 00:00:00', 9, NULL, '120'\n",
                "\n",
                "                    2100015, 15, '2021-01-02 00:00:00', 9, NULL, '121'\n",
                "\n",
                "                    2100016, 17, '2021-01-03 00:00:00', 11, 5, '122'\n",
                "\n",
                "                   2100017, 18, '2021-01-05 00:00:00', 10, NULL, '123'\n",
                "\n",
                "                    2100018, 35, '3021-01-03 00:00:00', 9, NULL, '124'\n",
                "\n",
                "                    2100019, 36, '2021-01-02 00:00:00', 11, 5, '119'\n",
                "\n",
                "                     2100020, 2, '2021-01-04 00:00:00', 9, NULL, '120'\n",
                "\n",
                "                     2100021, 9, '2021-01-07 00:00:00', 9, NULL, '121'\n",
                "\n",
                "                     2100022, 6, '2021-01-05 00:00:00', 9, NULL, '122'\n",
                "\n",
                "                     2100023, 4, '2021-01-02 00:00:00', 11, 5, '123'\n",
                "\n",
                "                      2100024, 21, '2021-01-03 00:00:00', 9, NULL, '124'\n",
                "\n",
                "                      2100025, 24, '2021-01-03 00:00:00', 11, 5, '125'\n",
                "\n",
                "                       2100026, 26, '2021-01-06 00:00:00', 9, NULL, '126'\n",
                "\n",
                "                       2100027, 15, '2021-01-02 00:00:00', 9, NULL, '127'\n",
                "\n",
                "                        2100028, 25, '2021-01-03 00:00:00', 9, NULL, '127'\n",
                "\n",
                "                         2100029, 29, '2021-01-08 00:00:00', 9, NULL, '129'\n",
                "\n",
                "                        2100030, 27, '2021-01-06 00:00:00', 9, NULL, '130'\n",
                "\n",
                "                        2100031, 31, '2021-01-02 00:00:00', 9, NULL, '101'\n",
                "\n",
                "                        2100032, 32, '2021-01-07 00:00:00', 9, NULL, '105'\n",
                "\n",
                "                       2100033, 33, '2021-01-02 00:00:00', 9, NULL, '110'\n",
                "\n",
                "                        2100034, 40, '2021-01-06 00:00:00', 10, NULL, '112'\n",
                "\n",
                "                        2100035, 20, '2021-01-05 00:00:00', 10, NULL, '114'\n",
                "\n",
                "                        2100036, 11, '2021-01-08 00:00:00', 9, NULL, '115'\n",
                "\n",
                "                        2100037, 12, '2021-01-06 00:00:00', 9, NULL, '116'\n",
                "\n",
                "                        2100038, 13, '2021-01-08 00:00:00', 9, NULL, '117'\n",
                "\n",
                "                        2100039, 31, '2021-01-02 00:00:00', 9, NULL, '118'"
            ],
            "metadata": {
                "azdata_cell_guid": "32a8c2ef-cf3b-413b-91a9-b865e0c170f2"
            },
            "attachments": {}
        },
        {
            "cell_type": "code",
            "source": [
                "-- --------------------------------------------------------\r\n",
                "-- Dumping data for table 'Reservations'\r\n",
                "-- --------------------------------------------------------\r\n",
                "INSERT INTO Reservations VALUES(2100001, 39, '2021-01-07 00:00:00', 9, NULL, '102');\r\n",
                "INSERT INTO Reservations VALUES(2100002, 24, '2021-01-03 00:00:00', 11, 5, '102');\r\n",
                "INSERT INTO Reservations VALUES(2100003, 10, '2021-01-06 00:00:00', 9, NULL, '103');\r\n",
                "INSERT INTO Reservations VALUES(2100004, 9, '2021-01-07 00:00:00', 9, NULL, '104');\r\n",
                "INSERT INTO Reservations VALUES(2100005, 7, '2021-01-05 00:00:00', 9, NULL, '106');\r\n",
                "INSERT INTO Reservations VALUES(2100006, 1, '2021-01-02 00:00:00', 9, NULL, '106');\r\n",
                "INSERT INTO Reservations VALUES(2100007, 2, '2021-01-04 00:00:00', 9, NULL, '107');\r\n",
                "INSERT INTO Reservations VALUES(2100008, 3, '2021-01-05 00:00:00', 9, NULL, '108');\r\n",
                "INSERT INTO Reservations VALUES(2100009, 5, '2021-01-02 00:00:00', 9, NULL, '109');\r\n",
                "INSERT INTO Reservations VALUES(2100010, 8, '2021-01-07 00:00:00', 9, NULL, '111');\r\n",
                "INSERT INTO Reservations VALUES(2100011, 4, '2021-01-02 00:00:00', 9, NULL, '111');\r\n",
                "INSERT INTO Reservations VALUES(2100012, 9, '2021-01-07 00:00:00', 9, NULL, '113');\r\n",
                "INSERT INTO Reservations VALUES(2100013, 10, '2021-01-06 00:00:00', 9, NULL, '113');\r\n",
                "INSERT INTO Reservations VALUES(2100014, 14, '2021-01-07 00:00:00', 9, NULL, '120');\r\n",
                "INSERT INTO Reservations VALUES(2100015, 15, '2021-01-02 00:00:00', 9, NULL, '121');\r\n",
                "INSERT INTO Reservations VALUES(2100016, 17, '2021-01-03 00:00:00', 11, 5, '122');\r\n",
                "INSERT INTO Reservations VALUES(2100017, 18, '2021-01-05 00:00:00', 10, NULL, '123');\r\n",
                "INSERT INTO Reservations VALUES(2100018, 35, '3021-01-03 00:00:00', 9, NULL, '124');\r\n",
                "INSERT INTO Reservations VALUES(2100019, 36, '2021-01-02 00:00:00', 11, 5, '119');\r\n",
                "INSERT INTO Reservations VALUES(2100020, 2, '2021-01-04 00:00:00', 9, NULL, '120');\r\n",
                "INSERT INTO Reservations VALUES(2100021, 9, '2021-01-07 00:00:00', 9, NULL, '121');\r\n",
                "INSERT INTO Reservations VALUES(2100022, 6, '2021-01-05 00:00:00', 9, NULL, '122');\r\n",
                "INSERT INTO Reservations VALUES(2100023, 4, '2021-01-02 00:00:00', 11, 5, '123');\r\n",
                "INSERT INTO Reservations VALUES(2100024, 21, '2021-01-03 00:00:00', 9, NULL, '124');\r\n",
                "INSERT INTO Reservations VALUES(2100025, 24, '2021-01-03 00:00:00', 11, 5, '125');\r\n",
                "INSERT INTO Reservations VALUES(2100026, 26, '2021-01-06 00:00:00', 9, NULL, '126');\r\n",
                "INSERT INTO Reservations VALUES(2100027, 15, '2021-01-02 00:00:00', 9, NULL, '127');\r\n",
                "INSERT INTO Reservations VALUES(2100028, 25, '2021-01-03 00:00:00', 9, NULL, '127');\r\n",
                "INSERT INTO Reservations VALUES(2100029, 29, '2021-01-08 00:00:00', 9, NULL, '129');\r\n",
                "INSERT INTO Reservations VALUES(2100030, 27, '2021-01-06 00:00:00', 9, NULL, '130');\r\n",
                "INSERT INTO Reservations VALUES(2100031, 31, '2021-01-02 00:00:00', 9, NULL, '101');\r\n",
                "INSERT INTO Reservations VALUES(2100032, 32, '2021-01-07 00:00:00', 9, NULL, '105');\r\n",
                "INSERT INTO Reservations VALUES(2100033, 33, '2021-01-02 00:00:00', 9, NULL, '110');\r\n",
                "INSERT INTO Reservations VALUES(2100034, 40, '2021-01-06 00:00:00', 10, NULL, '112');\r\n",
                "INSERT INTO Reservations VALUES(2100035, 20, '2021-01-05 00:00:00', 10, NULL, '114');\r\n",
                "INSERT INTO Reservations VALUES(2100036, 11, '2021-01-08 00:00:00', 9, NULL, '115');\r\n",
                "INSERT INTO Reservations VALUES(2100037, 12, '2021-01-06 00:00:00', 9, NULL, '116');\r\n",
                "INSERT INTO Reservations VALUES(2100038, 13, '2021-01-08 00:00:00', 9, NULL, '117');\r\n",
                "INSERT INTO Reservations VALUES(2100039, 31, '2021-01-02 00:00:00', 9, NULL, '118');\r\n",
                "\r\n",
                "-------------------------------------------------------------"
            ],
            "metadata": {
                "azdata_cell_guid": "099f9472-8b98-4f6a-b0e9-172ca22c3b3b",
                "language": "sql"
            },
            "outputs": [
                {
                    "output_type": "display_data",
                    "data": {
                        "text/html": "(1 row affected)"
                    },
                    "metadata": {}
                },
                {
                    "output_type": "display_data",
                    "data": {
                        "text/html": "(1 row affected)"
                    },
                    "metadata": {}
                },
                {
                    "output_type": "display_data",
                    "data": {
                        "text/html": "(1 row affected)"
                    },
                    "metadata": {}
                },
                {
                    "output_type": "display_data",
                    "data": {
                        "text/html": "(1 row affected)"
                    },
                    "metadata": {}
                },
                {
                    "output_type": "display_data",
                    "data": {
                        "text/html": "(1 row affected)"
                    },
                    "metadata": {}
                },
                {
                    "output_type": "display_data",
                    "data": {
                        "text/html": "(1 row affected)"
                    },
                    "metadata": {}
                },
                {
                    "output_type": "display_data",
                    "data": {
                        "text/html": "(1 row affected)"
                    },
                    "metadata": {}
                },
                {
                    "output_type": "display_data",
                    "data": {
                        "text/html": "(1 row affected)"
                    },
                    "metadata": {}
                },
                {
                    "output_type": "display_data",
                    "data": {
                        "text/html": "(1 row affected)"
                    },
                    "metadata": {}
                },
                {
                    "output_type": "display_data",
                    "data": {
                        "text/html": "(1 row affected)"
                    },
                    "metadata": {}
                },
                {
                    "output_type": "display_data",
                    "data": {
                        "text/html": "(1 row affected)"
                    },
                    "metadata": {}
                },
                {
                    "output_type": "display_data",
                    "data": {
                        "text/html": "(1 row affected)"
                    },
                    "metadata": {}
                },
                {
                    "output_type": "display_data",
                    "data": {
                        "text/html": "(1 row affected)"
                    },
                    "metadata": {}
                },
                {
                    "output_type": "display_data",
                    "data": {
                        "text/html": "(1 row affected)"
                    },
                    "metadata": {}
                },
                {
                    "output_type": "display_data",
                    "data": {
                        "text/html": "(1 row affected)"
                    },
                    "metadata": {}
                },
                {
                    "output_type": "display_data",
                    "data": {
                        "text/html": "(1 row affected)"
                    },
                    "metadata": {}
                },
                {
                    "output_type": "display_data",
                    "data": {
                        "text/html": "(1 row affected)"
                    },
                    "metadata": {}
                },
                {
                    "output_type": "display_data",
                    "data": {
                        "text/html": "(1 row affected)"
                    },
                    "metadata": {}
                },
                {
                    "output_type": "display_data",
                    "data": {
                        "text/html": "(1 row affected)"
                    },
                    "metadata": {}
                },
                {
                    "output_type": "display_data",
                    "data": {
                        "text/html": "(1 row affected)"
                    },
                    "metadata": {}
                },
                {
                    "output_type": "display_data",
                    "data": {
                        "text/html": "(1 row affected)"
                    },
                    "metadata": {}
                },
                {
                    "output_type": "display_data",
                    "data": {
                        "text/html": "(1 row affected)"
                    },
                    "metadata": {}
                },
                {
                    "output_type": "display_data",
                    "data": {
                        "text/html": "(1 row affected)"
                    },
                    "metadata": {}
                },
                {
                    "output_type": "display_data",
                    "data": {
                        "text/html": "(1 row affected)"
                    },
                    "metadata": {}
                },
                {
                    "output_type": "display_data",
                    "data": {
                        "text/html": "(1 row affected)"
                    },
                    "metadata": {}
                },
                {
                    "output_type": "display_data",
                    "data": {
                        "text/html": "(1 row affected)"
                    },
                    "metadata": {}
                },
                {
                    "output_type": "display_data",
                    "data": {
                        "text/html": "(1 row affected)"
                    },
                    "metadata": {}
                },
                {
                    "output_type": "display_data",
                    "data": {
                        "text/html": "(1 row affected)"
                    },
                    "metadata": {}
                },
                {
                    "output_type": "display_data",
                    "data": {
                        "text/html": "(1 row affected)"
                    },
                    "metadata": {}
                },
                {
                    "output_type": "display_data",
                    "data": {
                        "text/html": "(1 row affected)"
                    },
                    "metadata": {}
                },
                {
                    "output_type": "display_data",
                    "data": {
                        "text/html": "(1 row affected)"
                    },
                    "metadata": {}
                },
                {
                    "output_type": "display_data",
                    "data": {
                        "text/html": "(1 row affected)"
                    },
                    "metadata": {}
                },
                {
                    "output_type": "display_data",
                    "data": {
                        "text/html": "(1 row affected)"
                    },
                    "metadata": {}
                },
                {
                    "output_type": "display_data",
                    "data": {
                        "text/html": "(1 row affected)"
                    },
                    "metadata": {}
                },
                {
                    "output_type": "display_data",
                    "data": {
                        "text/html": "(1 row affected)"
                    },
                    "metadata": {}
                },
                {
                    "output_type": "display_data",
                    "data": {
                        "text/html": "(1 row affected)"
                    },
                    "metadata": {}
                },
                {
                    "output_type": "display_data",
                    "data": {
                        "text/html": "(1 row affected)"
                    },
                    "metadata": {}
                },
                {
                    "output_type": "display_data",
                    "data": {
                        "text/html": "(1 row affected)"
                    },
                    "metadata": {}
                },
                {
                    "output_type": "display_data",
                    "data": {
                        "text/html": "(1 row affected)"
                    },
                    "metadata": {}
                },
                {
                    "output_type": "display_data",
                    "data": {
                        "text/html": "Total execution time: 00:00:00.030"
                    },
                    "metadata": {}
                }
            ],
            "execution_count": 36
        },
        {
            "cell_type": "markdown",
            "source": [
                "Question 11:  Which instructors (showing last name only) live in zip code 15217 from Instructors table?  -- 0.05 points"
            ],
            "metadata": {
                "azdata_cell_guid": "3bb59944-77f7-4617-98e5-2776c7bcce05"
            },
            "attachments": {}
        },
        {
            "cell_type": "code",
            "source": [
                "-------------------Insert code for Question 11 below----------------\r\n",
                "SELECT InstructorLastName FROM Instructors WHERE InstructorZipCode = '15217';\r\n",
                "\r\n",
                "\r\n",
                "--------------------------------------------------------------------"
            ],
            "metadata": {
                "azdata_cell_guid": "63a8466b-cf16-4286-9621-cb78de2b5ad4",
                "language": "sql"
            },
            "outputs": [
                {
                    "output_type": "display_data",
                    "data": {
                        "text/html": "(2 rows affected)"
                    },
                    "metadata": {}
                },
                {
                    "output_type": "display_data",
                    "data": {
                        "text/html": "Total execution time: 00:00:00.012"
                    },
                    "metadata": {}
                },
                {
                    "output_type": "execute_result",
                    "metadata": {},
                    "execution_count": 37,
                    "data": {
                        "application/vnd.dataresource+json": {
                            "schema": {
                                "fields": [
                                    {
                                        "name": "InstructorLastName"
                                    }
                                ]
                            },
                            "data": [
                                {
                                    "0": "Stein"
                                },
                                {
                                    "0": "Pegues"
                                }
                            ]
                        },
                        "text/html": [
                            "<table>",
                            "<tr><th>InstructorLastName</th></tr>",
                            "<tr><td>Stein</td></tr>",
                            "<tr><td>Pegues</td></tr>",
                            "</table>"
                        ]
                    }
                }
            ],
            "execution_count": 37
        },
        {
            "cell_type": "markdown",
            "source": [
                "Question 12: Write the SQL code that answers the following question: Which classes are scheduled for Wednesdays at the Downtown location from Classes table? List the class name, the day, and the location.   --0.1 points"
            ],
            "metadata": {
                "azdata_cell_guid": "4feda6d5-8995-49dd-a220-1df603d981bf"
            },
            "attachments": {}
        },
        {
            "cell_type": "code",
            "source": [
                "-------------------Insert code for Question 12 below----------------\r\n",
                "SELECT ClassName, Day, Location FROM Classes WHERE (Day = 'Wednesday' AND Location = 'Downtown');\r\n",
                "\r\n",
                "\r\n",
                "--------------------------------------------------------------------"
            ],
            "metadata": {
                "azdata_cell_guid": "8c0cecbf-ae6f-4b18-8e65-b34f23048781",
                "language": "sql"
            },
            "outputs": [
                {
                    "output_type": "display_data",
                    "data": {
                        "text/html": "(2 rows affected)"
                    },
                    "metadata": {}
                },
                {
                    "output_type": "display_data",
                    "data": {
                        "text/html": "Total execution time: 00:00:00.016"
                    },
                    "metadata": {}
                },
                {
                    "output_type": "execute_result",
                    "metadata": {},
                    "execution_count": 38,
                    "data": {
                        "application/vnd.dataresource+json": {
                            "schema": {
                                "fields": [
                                    {
                                        "name": "ClassName"
                                    },
                                    {
                                        "name": "Day"
                                    },
                                    {
                                        "name": "Location"
                                    }
                                ]
                            },
                            "data": [
                                {
                                    "0": "Barre Limited",
                                    "1": "Wednesday",
                                    "2": "Downtown"
                                },
                                {
                                    "0": "Yoga",
                                    "1": "Wednesday",
                                    "2": "Downtown"
                                }
                            ]
                        },
                        "text/html": [
                            "<table>",
                            "<tr><th>ClassName</th><th>Day</th><th>Location</th></tr>",
                            "<tr><td>Barre Limited</td><td>Wednesday</td><td>Downtown</td></tr>",
                            "<tr><td>Yoga</td><td>Wednesday</td><td>Downtown</td></tr>",
                            "</table>"
                        ]
                    }
                }
            ],
            "execution_count": 38
        },
        {
            "cell_type": "markdown",
            "source": [
                "Question 13: Alter the datatype of Description column in Classes table. Change the datatype from VARCHAR(255) to VARCHAR(500)  -- 0.1 points"
            ],
            "metadata": {
                "azdata_cell_guid": "510143a5-9d98-4de3-95e4-9a1b345229c5"
            },
            "attachments": {}
        },
        {
            "cell_type": "code",
            "source": [
                "-------------------Insert code for Question 13 below----------------\r\n",
                "ALTER TABLE Classes\r\n",
                "    ALTER COLUMN Description VARCHAR(500);\r\n",
                "\r\n",
                "\r\n",
                "\r\n",
                "--------------------------------------------------------------------"
            ],
            "metadata": {
                "azdata_cell_guid": "adc4e682-07c5-4c5d-95d7-d2664ac2fcf2",
                "language": "sql",
                "tags": []
            },
            "outputs": [
                {
                    "output_type": "display_data",
                    "data": {
                        "text/html": "Commands completed successfully."
                    },
                    "metadata": {}
                },
                {
                    "output_type": "display_data",
                    "data": {
                        "text/html": "Total execution time: 00:00:00.014"
                    },
                    "metadata": {}
                }
            ],
            "execution_count": 39
        },
        {
            "cell_type": "markdown",
            "source": [
                "Question 14: Create an index for any one of the columns for the table of your choice.   -- 0.1 points"
            ],
            "metadata": {
                "azdata_cell_guid": "15124178-4945-4c4a-970f-3477a4fdd09b"
            },
            "attachments": {}
        },
        {
            "cell_type": "code",
            "source": [
                "-------------------Insert code for Question 14 below----------------\r\n",
                "CREATE INDEX LastNameIndex ON Customers(LastName);\r\n",
                "\r\n",
                "\r\n",
                "--------------------------------------------------------------------"
            ],
            "metadata": {
                "azdata_cell_guid": "f4e669a2-58c1-4695-b555-21c3cd1580f1",
                "language": "sql"
            },
            "outputs": [
                {
                    "output_type": "display_data",
                    "data": {
                        "text/html": "Commands completed successfully."
                    },
                    "metadata": {}
                },
                {
                    "output_type": "display_data",
                    "data": {
                        "text/html": "Total execution time: 00:00:00.012"
                    },
                    "metadata": {}
                }
            ],
            "execution_count": 40
        },
        {
            "cell_type": "markdown",
            "source": [
                "Question 15: Drop any one of the columns for the table of your choice.   -- 0.1 points"
            ],
            "metadata": {
                "azdata_cell_guid": "ee02a98b-1840-43b6-86ef-60ac7ebef8bb"
            },
            "attachments": {}
        },
        {
            "cell_type": "code",
            "source": [
                "-------------------Insert code for Question 15 below----------------\r\n",
                "ALTER TABLE Reservations\r\n",
                "    DROP COLUMN OtherFees;\r\n",
                "\r\n",
                "--------------------------------------------------------------------"
            ],
            "metadata": {
                "azdata_cell_guid": "317c50cb-efe9-4899-b6b1-c359f20e425e",
                "language": "sql"
            },
            "outputs": [
                {
                    "output_type": "display_data",
                    "data": {
                        "text/html": "Commands completed successfully."
                    },
                    "metadata": {}
                },
                {
                    "output_type": "display_data",
                    "data": {
                        "text/html": "Total execution time: 00:00:00.006"
                    },
                    "metadata": {}
                }
            ],
            "execution_count": 41
        }
    ]
}