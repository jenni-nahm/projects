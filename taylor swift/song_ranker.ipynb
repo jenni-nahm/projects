{
 "cells": [
  {
   "cell_type": "code",
   "execution_count": 11,
   "metadata": {},
   "outputs": [],
   "source": [
    "import pandas as pd"
   ]
  },
  {
   "cell_type": "code",
   "execution_count": 59,
   "metadata": {},
   "outputs": [
    {
     "data": {
      "text/plain": [
       "'Midnights, Red, Fearless, evermore, folklore, Lover, reputation, 1989, Speak Now, Taylor Swift'"
      ]
     },
     "execution_count": 59,
     "metadata": {},
     "output_type": "execute_result"
    }
   ],
   "source": [
    "# test cell\n",
    "\"\"\"\n",
    "dataframe = pd.read_csv('updated_data.csv')\n",
    "dataframe = dataframe.drop(columns='Unnamed: 0')\n",
    "\n",
    "    \n",
    "one_string = ', '.join(dataframe['album'].unique().tolist())\n",
    "\"\"\""
   ]
  },
  {
   "cell_type": "code",
   "execution_count": 19,
   "metadata": {},
   "outputs": [
    {
     "data": {
      "text/plain": [
       "0      1\n",
       "1      2\n",
       "2      3\n",
       "3      4\n",
       "4      5\n",
       "5      6\n",
       "6      7\n",
       "7      8\n",
       "8      9\n",
       "9     10\n",
       "10    11\n",
       "11    12\n",
       "12    13\n",
       "13    14\n",
       "14    15\n",
       "15    16\n",
       "16    17\n",
       "17    18\n",
       "18    19\n",
       "19    20\n",
       "Name: track_number, dtype: int64"
      ]
     },
     "execution_count": 19,
     "metadata": {},
     "output_type": "execute_result"
    }
   ],
   "source": [
    "# test cell\n",
    "\"\"\"\n",
    "midnights_songs = {}\n",
    "\n",
    "midnights_album = dataframe['album'] == 'Midnights (3am Edition)'\n",
    "\n",
    "midnights_df = dataframe[midnights_album]\n",
    "\n",
    "for i in range(len(midnights_df)):\n",
    "    midnights_songs[midnights_df['name'][i]] = 0\n",
    "\n",
    "midnights_df['track_number']\n",
    "\"\"\""
   ]
  },
  {
   "cell_type": "code",
   "execution_count": 12,
   "metadata": {},
   "outputs": [
    {
     "name": "stdout",
     "output_type": "stream",
     "text": [
      "{'Lavender Haze': 19, 'Maroon': 18, 'Anti-Hero': 17, 'Snow On The Beach (feat. Lana Del Rey)': 16, \"You're On Your Own, Kid\": 15, 'Midnight Rain': 14, 'Question...?': 13, 'Vigilante Shit': 12, 'Bejeweled': 11, 'Labyrinth': 10, 'Karma': 9, 'Sweet Nothing': 8, 'Mastermind': 7, 'The Great War': 6, 'Bigger Than The Whole Sky': 5, 'Paris': 4, 'High Infidelity': 3, 'Glitch': 2, \"Would've, Could've, Should've\": 1, 'Dear Reader': 0}\n"
     ]
    }
   ],
   "source": [
    "# test cell\n",
    "\"\"\"\n",
    "matchups = 0\n",
    "\n",
    "for j in range(len(midnights_songs)):\n",
    "    for k in range(j, len(midnights_songs)):\n",
    "        if matchups >= 190:\n",
    "            break\n",
    "        else:\n",
    "            if list(midnights_songs)[j] == list(midnights_songs)[k]:\n",
    "                pass\n",
    "            else:\n",
    "                while True:\n",
    "                    matchup = input(\"Pick your favorite song: A) \" + list(midnights_songs)[j] + \" or B) \" + list(midnights_songs)[k] + \"\\n\")\n",
    "                    if matchup != 'A' and matchup != 'B':\n",
    "                        print('Please respond with \"A\" or \"B\" without quotation marks.')\n",
    "                        continue\n",
    "                    else:\n",
    "                        break\n",
    "                if matchup == 'A':\n",
    "                    midnights_songs[list(midnights_songs)[j]] += 1\n",
    "                else:\n",
    "                    midnights_songs[list(midnights_songs)[k]] += 1\n",
    "                matchups += 1\n",
    "print(midnights_songs)\n",
    "\"\"\""
   ]
  },
  {
   "cell_type": "code",
   "execution_count": 13,
   "metadata": {},
   "outputs": [],
   "source": [
    "def album_selection(df, album_name_column, song_name_column):\n",
    "    \"\"\"(dataframe, str, str)-> dict\n",
    "    This function is intended to be used to select an album of songs to rank, although it can be used for a collection of any entity.\n",
    "    It takes in a dataframe and two string values: the names of the album column and the song column of said dataframe. The function\n",
    "    produces a dictionary of song names as keys, each with the value of 0 as this will be the basis of the song_ranker function \n",
    "    below.\n",
    "    \"\"\"\n",
    "    \n",
    "    # create string of album names found in album column separated by a comma\n",
    "    album_str = ', '.join(df['album'].unique().tolist())\n",
    "\n",
    "    # ask the user to select an album from which to rank songs  \n",
    "    album = input(\"Welcome to the song ranker! Please choose an album to begin: \" + album_str)\n",
    "\n",
    "    # create filter for selected album name\n",
    "    album_filter = df[album_name_column] == album\n",
    "\n",
    "    # reset the new dataframe's index after applying the filter\n",
    "    album_df = df[album_filter].reset_index()\n",
    "\n",
    "    # dictionary of album songs\n",
    "    album_songs = {}\n",
    "\n",
    "    # set each song in album as the key with a value of 0\n",
    "    for i in range(len(album_df)):\n",
    "        album_songs[album_df[song_name_column][i]] = 0\n",
    "\n",
    "    return album_songs\n",
    "    "
   ]
  },
  {
   "cell_type": "code",
   "execution_count": 12,
   "metadata": {},
   "outputs": [],
   "source": [
    "def song_ranker(songs):\n",
    "    \"\"\"(dict) -> str\n",
    "    This function is made to take in a dictionary of songs with values of 0 which will be used to rank each song listed. Each song will\n",
    "    be pitted against each other only once, and the ranking will stop after the calculated number of matchups have been performed. \n",
    "    It will then sort the dictionary of songs by the number of votes descending and print the official ranking.\n",
    "    \"\"\"\n",
    "    # set current number of matchups to 0\n",
    "    matchups = 0\n",
    "\n",
    "    # total number of possible matchups using sum of integers formula\n",
    "    total_matchups = (len(songs) * (len(songs) - 1)) / 2\n",
    "\n",
    "    for j in range(len(songs)): # the first song listed in matchup (song A); stays the same until paired with all song B's\n",
    "        for k in range(j, len(songs)): # the second song listed in matchup (song B); changes each time\n",
    "            if matchups >= total_matchups: \n",
    "                break # stop once current number of matchups = total number of matchups\n",
    "            else:\n",
    "                if list(songs)[j] == list(songs)[k]: \n",
    "                    pass # skip matchups between the same songs\n",
    "                else:\n",
    "                    while True:\n",
    "                        # ask user to choose between song A or song B\n",
    "                        matchup = input(\"Pick your favorite song: A) \" + list(songs)[j] + \" or B) \" + list(songs)[k] + \"\\n\")\n",
    "                        # re-prompt if A/B is not used as an answer\n",
    "                        if matchup != 'A' and matchup != 'B':\n",
    "                            print('Please respond with \"A\" or \"B\" without quotation marks.')\n",
    "                            continue\n",
    "                        else: \n",
    "                            break # no re-prompts if user choose A/B\n",
    "                    if matchup == 'A':\n",
    "                        songs[list(songs)[j]] += 1 # song A gets a point if selected\n",
    "                    else:\n",
    "                        songs[list(songs)[k]] += 1 # song B gets a point if selected\n",
    "                    # increase number of matchups after each successful one    \n",
    "                    matchups += 1 \n",
    "    \n",
    "    # sort dictionary of songs by points descending\n",
    "    songs_sorted = sorted(songs.items(), reverse=True, key=lambda x: x[1])\n",
    "\n",
    "    # loop through each song and convert the points to a ranking\n",
    "    for rank in range(len(songs_sorted)):\n",
    "        print(str(rank+1) + \". \" + songs_sorted[rank][0])"
   ]
  },
  {
   "cell_type": "code",
   "execution_count": 15,
   "metadata": {},
   "outputs": [
    {
     "name": "stdout",
     "output_type": "stream",
     "text": [
      "1. Teardrops On My Guitar - Radio Single Remix\n",
      "2. Our Song\n",
      "3. Teardrops on My Guitar - Pop Version\n",
      "4. The Outside\n",
      "5. Stay Beautiful\n",
      "6. Should've Said No\n",
      "7. A Perfectly Good Heart\n",
      "8. Tim McGraw\n",
      "9. Picture To Burn\n",
      "10. Tied Together with a Smile\n",
      "11. Mary's Song (Oh My My My)\n",
      "12. I'm Only Me When I'm With You\n",
      "13. Invisible\n",
      "14. A Place in this World\n",
      "15. Cold As You\n"
     ]
    }
   ],
   "source": [
    "# functions test-run\n",
    "ts_df = pd.read_csv('updated_data.csv')\n",
    "ts_df = ts_df.drop(columns='Unnamed: 0')\n",
    "\n",
    "songs = album_selection(ts_df, 'album', 'name')\n",
    "song_ranker(songs)"
   ]
  }
 ],
 "metadata": {
  "kernelspec": {
   "display_name": "Python 3",
   "language": "python",
   "name": "python3"
  },
  "language_info": {
   "codemirror_mode": {
    "name": "ipython",
    "version": 3
   },
   "file_extension": ".py",
   "mimetype": "text/x-python",
   "name": "python",
   "nbconvert_exporter": "python",
   "pygments_lexer": "ipython3",
   "version": "3.10.4"
  },
  "orig_nbformat": 4,
  "vscode": {
   "interpreter": {
    "hash": "3ad933181bd8a04b432d3370b9dc3b0662ad032c4dfaa4e4f1596c548f763858"
   }
  }
 },
 "nbformat": 4,
 "nbformat_minor": 2
}
