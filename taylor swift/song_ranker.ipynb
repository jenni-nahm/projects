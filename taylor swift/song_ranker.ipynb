{
 "cells": [
  {
   "cell_type": "code",
   "execution_count": 1,
   "metadata": {},
   "outputs": [],
   "source": [
    "import pandas as pd"
   ]
  },
  {
   "cell_type": "code",
   "execution_count": 59,
   "metadata": {},
   "outputs": [
    {
     "data": {
      "text/plain": [
       "'Midnights, Red, Fearless, evermore, folklore, Lover, reputation, 1989, Speak Now, Taylor Swift'"
      ]
     },
     "execution_count": 59,
     "metadata": {},
     "output_type": "execute_result"
    }
   ],
   "source": [
    "dataframe = pd.read_csv('updated_data.csv')\n",
    "dataframe = dataframe.drop(columns='Unnamed: 0')\n",
    "\n",
    "    \n",
    "one_string = ', '.join(dataframe['album'].unique().tolist())"
   ]
  },
  {
   "cell_type": "code",
   "execution_count": 19,
   "metadata": {},
   "outputs": [
    {
     "data": {
      "text/plain": [
       "0      1\n",
       "1      2\n",
       "2      3\n",
       "3      4\n",
       "4      5\n",
       "5      6\n",
       "6      7\n",
       "7      8\n",
       "8      9\n",
       "9     10\n",
       "10    11\n",
       "11    12\n",
       "12    13\n",
       "13    14\n",
       "14    15\n",
       "15    16\n",
       "16    17\n",
       "17    18\n",
       "18    19\n",
       "19    20\n",
       "Name: track_number, dtype: int64"
      ]
     },
     "execution_count": 19,
     "metadata": {},
     "output_type": "execute_result"
    }
   ],
   "source": [
    "midnights_songs = {}\n",
    "\n",
    "midnights_album = dataframe['album'] == 'Midnights (3am Edition)'\n",
    "\n",
    "midnights_df = dataframe[midnights_album]\n",
    "\n",
    "for i in range(len(midnights_df)):\n",
    "    midnights_songs[midnights_df['name'][i]] = 0\n",
    "\n",
    "midnights_df['track_number']\n"
   ]
  },
  {
   "cell_type": "code",
   "execution_count": 12,
   "metadata": {},
   "outputs": [
    {
     "name": "stdout",
     "output_type": "stream",
     "text": [
      "{'Lavender Haze': 19, 'Maroon': 18, 'Anti-Hero': 17, 'Snow On The Beach (feat. Lana Del Rey)': 16, \"You're On Your Own, Kid\": 15, 'Midnight Rain': 14, 'Question...?': 13, 'Vigilante Shit': 12, 'Bejeweled': 11, 'Labyrinth': 10, 'Karma': 9, 'Sweet Nothing': 8, 'Mastermind': 7, 'The Great War': 6, 'Bigger Than The Whole Sky': 5, 'Paris': 4, 'High Infidelity': 3, 'Glitch': 2, \"Would've, Could've, Should've\": 1, 'Dear Reader': 0}\n"
     ]
    }
   ],
   "source": [
    "matchups = 0\n",
    "\n",
    "for j in range(len(midnights_songs)):\n",
    "    for k in range(j, len(midnights_songs)):\n",
    "        if matchups >= 190:\n",
    "            break\n",
    "        else:\n",
    "            if list(midnights_songs)[j] == list(midnights_songs)[k]:\n",
    "                pass\n",
    "            else:\n",
    "                while True:\n",
    "                    matchup = input(\"Pick your favorite song: A) \" + list(midnights_songs)[j] + \" or B) \" + list(midnights_songs)[k] + \"\\n\")\n",
    "                    if matchup != 'A' and matchup != 'B':\n",
    "                        print('Please respond with \"A\" or \"B\" without quotation marks.')\n",
    "                        continue\n",
    "                    else:\n",
    "                        break\n",
    "                if matchup == 'A':\n",
    "                    midnights_songs[list(midnights_songs)[j]] += 1\n",
    "                else:\n",
    "                    midnights_songs[list(midnights_songs)[k]] += 1\n",
    "                matchups += 1\n",
    "print(midnights_songs)"
   ]
  },
  {
   "cell_type": "code",
   "execution_count": 61,
   "metadata": {},
   "outputs": [],
   "source": [
    "def album_selection(df, album_name_column, song_name_column):\n",
    "    album_str = ', '.join(dataframe['album'].unique().tolist())\n",
    "      \n",
    "    album = input(\"Welcome to the song ranker! Please choose an album to begin: \" + album_str)\n",
    "\n",
    "    album_filter = df[album_name_column] == album\n",
    "\n",
    "    album_df = df[album_filter].reset_index()\n",
    "\n",
    "    album_songs = {}\n",
    "\n",
    "    for i in range(len(album_df)):\n",
    "        album_songs[album_df[song_name_column][i]] = 0\n",
    "\n",
    "    return album_songs\n",
    "    "
   ]
  },
  {
   "cell_type": "code",
   "execution_count": 41,
   "metadata": {},
   "outputs": [],
   "source": [
    "def song_ranker(songs):\n",
    "    matchups = 0\n",
    "    total_matchups = (len(songs) * (len(songs) - 1)) / 2\n",
    "\n",
    "    for j in range(len(songs)):\n",
    "        for k in range(j, len(songs)):\n",
    "            if matchups >= total_matchups:\n",
    "                break\n",
    "            else:\n",
    "                if list(songs)[j] == list(songs)[k]:\n",
    "                    pass\n",
    "                else:\n",
    "                    while True:\n",
    "                        matchup = input(\"Pick your favorite song: A) \" + list(songs)[j] + \" or B) \" + list(songs)[k] + \"\\n\")\n",
    "                        if matchup != 'A' and matchup != 'B':\n",
    "                            print('Please respond with \"A\" or \"B\" without quotation marks.')\n",
    "                            continue\n",
    "                        else:\n",
    "                            break\n",
    "                    if matchup == 'A':\n",
    "                        songs[list(songs)[j]] += 1\n",
    "                    else:\n",
    "                        songs[list(songs)[k]] += 1\n",
    "                    matchups += 1\n",
    "    return songs"
   ]
  },
  {
   "cell_type": "code",
   "execution_count": 43,
   "metadata": {},
   "outputs": [
    {
     "data": {
      "text/plain": [
       "{'Tim McGraw': 14,\n",
       " 'Picture To Burn': 13,\n",
       " 'Teardrops On My Guitar - Radio Single Remix': 12,\n",
       " 'A Place in this World': 11,\n",
       " 'Cold As You': 10,\n",
       " 'The Outside': 9,\n",
       " 'Tied Together with a Smile': 8,\n",
       " 'Stay Beautiful': 7,\n",
       " \"Should've Said No\": 6,\n",
       " \"Mary's Song (Oh My My My)\": 5,\n",
       " 'Our Song': 4,\n",
       " \"I'm Only Me When I'm With You\": 3,\n",
       " 'Invisible': 2,\n",
       " 'A Perfectly Good Heart': 1,\n",
       " 'Teardrops on My Guitar - Pop Version': 0}"
      ]
     },
     "execution_count": 43,
     "metadata": {},
     "output_type": "execute_result"
    }
   ],
   "source": [
    "ts_df = pd.read_csv('updated_data.csv')\n",
    "ts_df = ts_df.drop(columns='Unnamed: 0')\n",
    "\n",
    "songs = album_selection(ts_df, 'album', 'name')\n",
    "song_ranker(songs)"
   ]
  },
  {
   "cell_type": "code",
   "execution_count": null,
   "metadata": {},
   "outputs": [],
   "source": []
  }
 ],
 "metadata": {
  "kernelspec": {
   "display_name": "Python 3",
   "language": "python",
   "name": "python3"
  },
  "language_info": {
   "codemirror_mode": {
    "name": "ipython",
    "version": 3
   },
   "file_extension": ".py",
   "mimetype": "text/x-python",
   "name": "python",
   "nbconvert_exporter": "python",
   "pygments_lexer": "ipython3",
   "version": "3.10.4"
  },
  "orig_nbformat": 4,
  "vscode": {
   "interpreter": {
    "hash": "3ad933181bd8a04b432d3370b9dc3b0662ad032c4dfaa4e4f1596c548f763858"
   }
  }
 },
 "nbformat": 4,
 "nbformat_minor": 2
}
