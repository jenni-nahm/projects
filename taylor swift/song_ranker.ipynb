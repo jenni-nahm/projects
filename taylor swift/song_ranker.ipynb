{
 "cells": [
  {
   "cell_type": "code",
   "execution_count": 1,
   "metadata": {},
   "outputs": [],
   "source": [
    "import pandas as pd"
   ]
  },
  {
   "cell_type": "code",
   "execution_count": 2,
   "metadata": {},
   "outputs": [],
   "source": [
    "dataframe = pd.read_csv('updated_data.csv')"
   ]
  },
  {
   "cell_type": "code",
   "execution_count": 11,
   "metadata": {},
   "outputs": [
    {
     "name": "stdout",
     "output_type": "stream",
     "text": [
      "{'Lavender Haze': 0, 'Maroon': 0, 'Anti-Hero': 0, 'Snow On The Beach (feat. Lana Del Rey)': 0, \"You're On Your Own, Kid\": 0, 'Midnight Rain': 0, 'Question...?': 0, 'Vigilante Shit': 0, 'Bejeweled': 0, 'Labyrinth': 0, 'Karma': 0, 'Sweet Nothing': 0, 'Mastermind': 0, 'The Great War': 0, 'Bigger Than The Whole Sky': 0, 'Paris': 0, 'High Infidelity': 0, 'Glitch': 0, \"Would've, Could've, Should've\": 0, 'Dear Reader': 0}\n"
     ]
    }
   ],
   "source": [
    "midnights_songs = {}\n",
    "\n",
    "midnights_album = dataframe['album'] == 'Midnights (3am Edition)'\n",
    "\n",
    "midnights_df = dataframe[midnights_album]\n",
    "\n",
    "for i in range(len(midnights_df)):\n",
    "    midnights_songs[midnights_df['name'][i]] = 0\n",
    "\n",
    "print(midnights_songs)"
   ]
  },
  {
   "cell_type": "code",
   "execution_count": 12,
   "metadata": {},
   "outputs": [
    {
     "name": "stdout",
     "output_type": "stream",
     "text": [
      "{'Lavender Haze': 19, 'Maroon': 18, 'Anti-Hero': 17, 'Snow On The Beach (feat. Lana Del Rey)': 16, \"You're On Your Own, Kid\": 15, 'Midnight Rain': 14, 'Question...?': 13, 'Vigilante Shit': 12, 'Bejeweled': 11, 'Labyrinth': 10, 'Karma': 9, 'Sweet Nothing': 8, 'Mastermind': 7, 'The Great War': 6, 'Bigger Than The Whole Sky': 5, 'Paris': 4, 'High Infidelity': 3, 'Glitch': 2, \"Would've, Could've, Should've\": 1, 'Dear Reader': 0}\n"
     ]
    }
   ],
   "source": [
    "matchups = 0\n",
    "\n",
    "for j in range(len(midnights_songs)):\n",
    "    for k in range(j, len(midnights_songs)):\n",
    "        if matchups >= 190:\n",
    "            break\n",
    "        else:\n",
    "            if list(midnights_songs)[j] == list(midnights_songs)[k]:\n",
    "                pass\n",
    "            else:\n",
    "                while True:\n",
    "                    matchup = input(\"Pick your favorite song: A) \" + list(midnights_songs)[j] + \" or B) \" + list(midnights_songs)[k] + \"\\n\")\n",
    "                    if matchup != 'A' and matchup != 'B':\n",
    "                        print('Please respond with \"A\" or \"B\" without quotation marks.')\n",
    "                        continue\n",
    "                    else:\n",
    "                        break\n",
    "                if matchup == 'A':\n",
    "                    midnights_songs[list(midnights_songs)[j]] += 1\n",
    "                else:\n",
    "                    midnights_songs[list(midnights_songs)[k]] += 1\n",
    "                matchups += 1\n",
    "print(midnights_songs)"
   ]
  }
 ],
 "metadata": {
  "kernelspec": {
   "display_name": "Python 3",
   "language": "python",
   "name": "python3"
  },
  "language_info": {
   "codemirror_mode": {
    "name": "ipython",
    "version": 3
   },
   "file_extension": ".py",
   "mimetype": "text/x-python",
   "name": "python",
   "nbconvert_exporter": "python",
   "pygments_lexer": "ipython3",
   "version": "3.10.4"
  },
  "orig_nbformat": 4,
  "vscode": {
   "interpreter": {
    "hash": "3ad933181bd8a04b432d3370b9dc3b0662ad032c4dfaa4e4f1596c548f763858"
   }
  }
 },
 "nbformat": 4,
 "nbformat_minor": 2
}
