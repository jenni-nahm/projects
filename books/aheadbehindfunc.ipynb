{
 "cells": [
  {
   "cell_type": "code",
   "execution_count": 23,
   "metadata": {},
   "outputs": [],
   "source": [
    "def ahead_or_behind (goal_books, read_books, goal_time, time_elapsed):\n",
    "    \"\"\"(int, int, int, int) -> str\n",
    "    This function was inspired by Goodread's yearly reading challenge, where one can pledge a number of books to read, \n",
    "    and the website keeps track of how far ahead of or behind the user is on their goal. Each parameter takes in an \n",
    "    integar value, and returns a string statement of the user's progress based on the values passed through. The period\n",
    "    of time to read the pledged books and the period of time elapsed are not constricted to a specific unit, but the\n",
    "    function will not provide an accurate answer if one parameter is 1 as in 1 year and the other 78 as in 78 days.\n",
    "    \"\"\"\n",
    "    # number of days/weeks/months/etc allotted to read each book\n",
    "    time_per_book =  goal_time / goal_books \n",
    "\n",
    "    # number of days/weels/months/etc it should take to read the current number of books\n",
    "    expected_time_elapsed = read_books * time_per_book\n",
    "\n",
    "    # number of books ahead of or behind goal based on goal pace\n",
    "    books = int((time_elapsed - expected_time_elapsed) * (1 / time_per_book))\n",
    "\n",
    "    # a negative value for books = the expected time elapsed is greater than the actual time elapsed (user read more than goal pace)\n",
    "    if books < 0:\n",
    "        print(str(abs(books)) + \" BOOKS AHEAD OF GOAL\")\n",
    "\n",
    "    # a positive value for books = the expected time elapsed is less than the actual time elapsed (user read less than goal pace)\n",
    "    elif books > 0:\n",
    "        print(str(books) + \" BOOKS BEHIND GOAL\")\n",
    "    \n",
    "    # user is on goal pace\n",
    "    else:\n",
    "        print(\"YOU ARE UP TO DATE ON YOUR GOAL.\")"
   ]
  },
  {
   "cell_type": "code",
   "execution_count": 24,
   "metadata": {},
   "outputs": [
    {
     "name": "stdout",
     "output_type": "stream",
     "text": [
      "5 BOOKS AHEAD OF GOAL\n"
     ]
    }
   ],
   "source": [
    "ahead_or_behind(95, 100, 365, 365)"
   ]
  },
  {
   "cell_type": "code",
   "execution_count": 25,
   "metadata": {},
   "outputs": [
    {
     "name": "stdout",
     "output_type": "stream",
     "text": [
      "YOU ARE UP TO DATE ON YOUR GOAL.\n"
     ]
    }
   ],
   "source": [
    "ahead_or_behind(50, 25, 8, 4)"
   ]
  },
  {
   "cell_type": "code",
   "execution_count": 26,
   "metadata": {},
   "outputs": [
    {
     "name": "stdout",
     "output_type": "stream",
     "text": [
      "10 BOOKS BEHIND GOAL\n"
     ]
    },
    {
     "name": "stderr",
     "output_type": "stream",
     "text": [
      "Bad pipe message: %s [b'\\x93\\xe8\\xe4\\xd5B\\x1c\\x00\\x0c\\xa94\\xdc\\x10Vy*\\xbe\\xe4\\x87 \\xcb\\xf9W\\xce\\xc61\\xf3H\\x9e\\xfe\\xb4\\x08\\x1a\\x8c\\x8b7t\\xec\\x9f\\xbb\\xadS7\\x8cb\\xa9\\xc0\\xe3\\xe6\\xf3\\x05\\x02\\x00\\x08\\x13\\x02\\x13\\x03\\x13\\x01\\x00\\xff\\x01\\x00\\x00\\x8f\\x00\\x00\\x00\\x0e\\x00\\x0c\\x00\\x00\\t127.0.0.1\\x00\\x0b\\x00\\x04\\x03\\x00\\x01\\x02\\x00\\n\\x00\\x0c\\x00\\n\\x00\\x1d\\x00\\x17\\x00\\x1e\\x00\\x19']\n",
      "Bad pipe message: %s [b'.P_\\x7f\\xca\\x9d\\x1c\\xf2h\\xea\\xd9>j\\xf3\\x80ae\\xbe\\x00\\x00|\\xc0,\\xc00\\x00\\xa3\\x00\\x9f\\xcc\\xa9\\xcc\\xa8\\xcc\\xaa\\xc0\\xaf\\xc0\\xad\\xc0\\xa3\\xc0\\x9f\\xc0]\\xc0a\\xc0W\\xc0S\\xc0+\\xc0/\\x00\\xa2\\x00\\x9e\\xc0\\xae\\xc0\\xac\\xc0\\xa2\\xc0\\x9e\\xc0\\\\\\xc0`\\xc0V\\xc0R\\xc0$\\xc0(\\x00k']\n",
      "Bad pipe message: %s [b't\\x91\\xc2F\\x06NU2\\xa4\\xed\\x11c\\x90\\xdb\\xbbq', b\"\\x00\\x00\\xa6\\xc0,\\xc00\\x00\\xa3\\x00\\x9f\\xcc\\xa9\\xcc\\xa8\\xcc\\xaa\\xc0\\xaf\\xc0\\xad\\xc0\\xa3\\xc0\\x9f\\xc0]\\xc0a\\xc0W\\xc0S\\xc0+\\xc0/\\x00\\xa2\\x00\\x9e\\xc0\\xae\\xc0\\xac\\xc0\\xa2\\xc0\\x9e\\xc0\\\\\\xc0`\\xc0V\\xc0R\\xc0$\\xc0(\\x00k\\x00j\\xc0s\\xc0w\\x00\\xc4\\x00\\xc3\\xc0#\\xc0'\\x00g\\x00@\\xc0r\\xc0v\\x00\\xbe\\x00\\xbd\\xc0\\n\\xc0\\x14\\x009\\x008\\x00\\x88\\x00\\x87\\xc0\\t\\xc0\\x13\\x003\\x002\\x00\\x9a\\x00\\x99\\x00E\\x00D\\xc0\\x07\\xc0\\x11\\xc0\\x08\\xc0\\x12\\x00\\x16\\x00\\x13\\x00\\x9d\\xc0\\xa1\\xc0\\x9d\\xc0Q\\x00\\x9c\\xc0\\xa0\\xc0\\x9c\\xc0P\\x00=\\x00\\xc0\\x00<\\x00\\xba\\x005\\x00\\x84\\x00/\\x00\\x96\\x00A\\x00\\x05\\x00\\n\\x00\\xff\\x01\\x00\\x00j\\x00\\x00\\x00\\x0e\\x00\\x0c\\x00\\x00\\t127.0.0.1\\x00\\x0b\\x00\\x04\\x03\\x00\\x01\\x02\\x00\\n\\x00\\x0c\\x00\\n\\x00\\x1d\\x00\\x17\\x00\\x1e\\x00\\x19\\x00\\x18\\x00#\\x00\\x00\\x00\\x16\\x00\\x00\\x00\\x17\\x00\\x00\\x00\\r\\x000\\x00.\\x04\\x03\\x05\\x03\\x06\\x03\\x08\\x07\\x08\\x08\\x08\\t\\x08\"]\n",
      "Bad pipe message: %s [b'\\x0b\\x08\\x04\\x08\\x05\\x08\\x06\\x04\\x01']\n",
      "Bad pipe message: %s [b'\\x06\\x01\\x03\\x03', b'\\x03', b'']\n",
      "Bad pipe message: %s [b'', b'\\x02']\n",
      "Bad pipe message: %s [b'\\x05\\x02\\x06']\n",
      "Bad pipe message: %s [b'\\xc2\\x03\\x9f-a\\xac\\xc4\\x1c\\xc6-#\\x8e\\x8f\\xd5B\\x97\\xcb\\xe6\\x00\\x00>\\xc0\\x14\\xc0\\n\\x009\\x008\\x007\\x006\\xc0\\x0f\\xc0\\x05\\x005\\xc0']\n",
      "Bad pipe message: %s [b'\\t\\x003\\x002\\x001\\x000\\xc0\\x0e\\xc0\\x04\\x00/\\x00\\x9a\\x00']\n",
      "Bad pipe message: %s [b'\\xfa\\xfc\\xb7\\xc8I\\x06S\\x15K\\x03<v\\xd9\\xba\\xff\\xfe\\xe8\\x83\\x00\\x00\\xa2\\xc0\\x14\\xc0\\n\\x009\\x008\\x007\\x006\\x00\\x88\\x00\\x87\\x00\\x86\\x00\\x85\\xc0\\x19\\x00:\\x00\\x89\\xc0\\x0f\\xc0\\x05\\x005\\x00\\x84\\xc0\\x13\\xc0\\t\\x00', b'2\\x001\\x000\\x00\\x9a\\x00\\x99\\x00\\x98\\x00\\x97\\x00E\\x00D\\x00C\\x00B\\xc0\\x18\\x004\\x00\\x9b\\x00F\\xc0\\x0e\\xc0\\x04\\x00/\\x00\\x96\\x00A\\x00\\x07\\xc0\\x11\\xc0\\x07\\xc0\\x16\\x00\\x18\\xc0']\n",
      "Bad pipe message: %s [b'\\x02\\x00\\x05\\x00\\x04\\xc0\\x12\\xc0\\x08\\x00\\x16']\n",
      "Bad pipe message: %s [b'\\xbc\\n\\xea\\x82P;t\\xc2c\\xfc\\xc2\\xf7\\xaf\\xc7!,\\xdeH\\x00\\x00>\\xc0\\x14\\xc0\\n\\x009\\x008\\x007\\x006\\xc0\\x0f\\xc0\\x05\\x005\\xc0\\x13\\xc0\\t\\x003\\x002\\x001\\x000\\xc0\\x0e\\xc0\\x04']\n",
      "Bad pipe message: %s [b'\\xb2\\xee\\x98\\x99\\xb8]D\\xd0\\xa2\\xb4\\xf0\\xe5\\xdf\\x97']\n",
      "Bad pipe message: %s [b'NX\\x00\\x00\\xa2\\xc0\\x14\\xc0\\n\\x009\\x008\\x007\\x006\\x00\\x88\\x00\\x87\\x00\\x86\\x00\\x85\\xc0\\x19\\x00:\\x00\\x89\\xc0\\x0f\\xc0\\x05\\x005\\x00\\x84\\xc0\\x13\\xc0\\t\\x003\\x002\\x001\\x000\\x00\\x9a\\x00\\x99\\x00\\x98\\x00\\x97\\x00E\\x00D\\x00C\\x00B\\xc0\\x18\\x004\\x00\\x9b\\x00F\\xc0\\x0e\\xc0\\x04\\x00/\\x00\\x96\\x00A\\x00\\x07\\xc0\\x11\\xc0\\x07\\xc0\\x16\\x00\\x18\\xc0\\x0c\\xc0\\x02\\x00\\x05\\x00\\x04\\xc0\\x12\\xc0\\x08\\x00\\x16\\x00\\x13\\x00\\x10\\x00\\r\\xc0\\x17\\x00\\x1b\\xc0\\r\\xc0\\x03\\x00\\n\\x00\\x15\\x00\\x12\\x00']\n",
      "Bad pipe message: %s [b'\\x0c\\x00\\x1a\\x00\\t\\x00\\x14\\x00\\x11\\x00\\x19\\x00\\x08\\x00']\n",
      "Bad pipe message: %s [b'\\x17\\x00\\x03\\xc0\\x10']\n",
      "Bad pipe message: %s [b\"\\x8e\\x15\\xd3[\\x94m\\xad\\x9d\\xea\\x8a\\xcf\\xd1g\\x88\\r\\x11\\xc6'\\x00\\x00>\\xc0\\x14\\xc0\\n\\x009\\x008\\x007\\x006\\xc0\\x0f\\xc0\\x05\\x00\"]\n",
      "Bad pipe message: %s [b'\\x13\\xc0\\t\\x003\\x002\\x001\\x000\\xc0\\x0e\\xc0\\x04\\x00/\\x00\\x9a\\x00\\x99\\x00\\x98\\x00\\x97\\x00\\x96\\x00\\x07\\xc0\\x11\\xc0\\x07\\xc0\\x0c\\xc0\\x02\\x00\\x05\\x00\\x04\\x00\\xff\\x02\\x01\\x00\\x15\\x03\\x00\\x00\\x02\\x02']\n",
      "Bad pipe message: %s [b'\\xe3~9M<\\x11\\xa2M\\xefm\\xa9\\xe2\\x837\\xc8\\xdb\\xc84\\x00\\x00\\xa2\\xc0\\x14\\xc0\\n\\x009\\x008\\x007\\x006\\x00\\x88\\x00\\x87\\x00\\x86\\x00\\x85\\xc0\\x19\\x00:\\x00\\x89\\xc0\\x0f\\xc0\\x05\\x005\\x00\\x84\\xc0\\x13\\xc0\\t\\x003\\x002\\x001\\x000\\x00\\x9a\\x00\\x99\\x00\\x98\\x00\\x97\\x00E\\x00D\\x00C\\x00B\\xc0\\x18\\x004\\x00\\x9b\\x00F\\xc0\\x0e\\xc0\\x04\\x00/\\x00\\x96\\x00A\\x00\\x07\\xc0\\x11\\xc0\\x07\\xc0\\x16\\x00\\x18\\xc0\\x0c\\xc0\\x02\\x00\\x05\\x00\\x04\\xc0\\x12\\xc0\\x08\\x00\\x16']\n",
      "Bad pipe message: %s [b'\\x0c\\xa0%\\xeb\\xba\\x11(\\xd5D\\xdcA\\xc0\\x1eN\\x967\\xbc\\x06\\x00\\x00\\x86\\xc00\\xc0,\\xc0(\\xc0$\\xc0\\x14\\xc0\\n\\x00\\xa5\\x00\\xa3\\x00\\xa1\\x00\\x9f\\x00k\\x00j\\x00i\\x00h\\x009\\x008\\x007\\x006\\xc02\\xc0.\\xc0*\\xc0&\\xc0\\x0f\\xc0\\x05\\x00\\x9d\\x00', b\"5\\xc0/\\xc0+\\xc0'\\xc0#\\xc0\\x13\\xc0\\t\\x00\\xa4\\x00\\xa2\\x00\\xa0\\x00\\x9e\\x00g\\x00@\\x00?\\x00>\\x003\\x002\\x001\\x000\\xc01\\xc0-\\xc0)\\xc0%\\xc0\\x0e\\xc0\\x04\\x00\\x9c\\x00<\\x00/\\x00\\x9a\\x00\\x99\\x00\"]\n",
      "Bad pipe message: %s [b'j', b'\\x18\\x11\\xb6\\x85\\xbb\\xa9\\xdd\\x11\\xb2\\x8a\\xe5 \\x84N\\x13\\x00\\x00\\xf4\\xc00\\xc0,\\xc0(\\xc0$\\xc0']\n",
      "Bad pipe message: %s [b'\\n\\x00\\xa5\\x00\\xa3\\x00\\xa1\\x00\\x9f\\x00k\\x00j\\x00i\\x00h\\x009']\n"
     ]
    }
   ],
   "source": [
    "ahead_or_behind(75, 30, 52, 28)"
   ]
  }
 ],
 "metadata": {
  "kernelspec": {
   "display_name": "Python 3",
   "language": "python",
   "name": "python3"
  },
  "language_info": {
   "codemirror_mode": {
    "name": "ipython",
    "version": 3
   },
   "file_extension": ".py",
   "mimetype": "text/x-python",
   "name": "python",
   "nbconvert_exporter": "python",
   "pygments_lexer": "ipython3",
   "version": "3.10.4 (main, Nov 29 2022, 20:00:25) [GCC 9.4.0]"
  },
  "orig_nbformat": 4,
  "vscode": {
   "interpreter": {
    "hash": "3ad933181bd8a04b432d3370b9dc3b0662ad032c4dfaa4e4f1596c548f763858"
   }
  }
 },
 "nbformat": 4,
 "nbformat_minor": 2
}
