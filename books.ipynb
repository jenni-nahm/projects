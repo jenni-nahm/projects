{
 "cells": [
  {
   "cell_type": "code",
   "execution_count": 23,
   "metadata": {},
   "outputs": [],
   "source": [
    "def ahead_or_behind (goal_books, read_books, goal_time, time_elapsed):\n",
    "    \"\"\"(int, int, int, int) -> str\n",
    "    This function was inspired by Goodread's yearly reading challenge, where one can pledge a number of books to read, \n",
    "    and the website keeps track of how far ahead of or behind the user is on their goal. Each parameter takes in an \n",
    "    integar value, and returns a string statement of the user's progress based on the values passed through. The period\n",
    "    of time to read the pledged books and the period of time elapsed are not constricted to a specific unit, but the\n",
    "    function will not provide an accurate answer if one parameter is 1 as in 1 year and the other 78 as in 78 days.\n",
    "    \"\"\"\n",
    "    # number of days/weeks/months/etc allotted to read each book\n",
    "    time_per_book =  goal_time / goal_books \n",
    "\n",
    "    # number of days/weels/months/etc it should take to read the current number of books\n",
    "    expected_time_elapsed = read_books * time_per_book\n",
    "\n",
    "    # number of books ahead of or behind goal based on goal pace\n",
    "    books = int((time_elapsed - expected_time_elapsed) * (1 / time_per_book))\n",
    "\n",
    "    # a negative value for books = the expected time elapsed is greater than the actual time elapsed (user read more than goal pace)\n",
    "    if books < 0:\n",
    "        print(str(abs(books)) + \" BOOKS AHEAD OF GOAL\")\n",
    "\n",
    "    # a positive value for books = the expected time elapsed is less than the actual time elapsed (user read less than goal pace)\n",
    "    elif books > 0:\n",
    "        print(str(books) + \" BOOKS BEHIND GOAL\")\n",
    "    \n",
    "    # user is on goal pace\n",
    "    else:\n",
    "        print(\"YOU ARE UP TO DATE ON YOUR GOAL.\")"
   ]
  },
  {
   "cell_type": "code",
   "execution_count": 24,
   "metadata": {},
   "outputs": [
    {
     "name": "stdout",
     "output_type": "stream",
     "text": [
      "5 BOOKS AHEAD OF GOAL\n"
     ]
    }
   ],
   "source": [
    "ahead_or_behind(95, 100, 365, 365)"
   ]
  },
  {
   "cell_type": "code",
   "execution_count": 25,
   "metadata": {},
   "outputs": [
    {
     "name": "stdout",
     "output_type": "stream",
     "text": [
      "YOU ARE UP TO DATE ON YOUR GOAL.\n"
     ]
    }
   ],
   "source": [
    "ahead_or_behind(50, 25, 8, 4)"
   ]
  },
  {
   "cell_type": "code",
   "execution_count": 26,
   "metadata": {},
   "outputs": [
    {
     "name": "stdout",
     "output_type": "stream",
     "text": [
      "10 BOOKS BEHIND GOAL\n"
     ]
    }
   ],
   "source": [
    "ahead_or_behind(75, 30, 52, 28)"
   ]
  }
 ],
 "metadata": {
  "kernelspec": {
   "display_name": "Python 3",
   "language": "python",
   "name": "python3"
  },
  "language_info": {
   "codemirror_mode": {
    "name": "ipython",
    "version": 3
   },
   "file_extension": ".py",
   "mimetype": "text/x-python",
   "name": "python",
   "nbconvert_exporter": "python",
   "pygments_lexer": "ipython3",
   "version": "3.10.4"
  },
  "orig_nbformat": 4,
  "vscode": {
   "interpreter": {
    "hash": "3ad933181bd8a04b432d3370b9dc3b0662ad032c4dfaa4e4f1596c548f763858"
   }
  }
 },
 "nbformat": 4,
 "nbformat_minor": 2
}
